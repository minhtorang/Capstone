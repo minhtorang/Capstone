{
 "cells": [
  {
   "cell_type": "markdown",
   "id": "cda77ca2",
   "metadata": {},
   "source": [
    "# Import Libraries"
   ]
  },
  {
   "cell_type": "code",
   "execution_count": 1,
   "id": "b1615044",
   "metadata": {},
   "outputs": [],
   "source": [
    "import numpy as np\n",
    "import pandas as pd\n",
    "import seaborn as sns\n",
    "import matplotlib.pyplot as plt\n",
    "\n",
    "from datetime import datetime\n",
    "from matplotlib import pyplot\n",
    "from pandas import concat\n",
    "from sklearn.preprocessing import MinMaxScaler\n",
    "\n",
    "%matplotlib inline"
   ]
  },
  {
   "cell_type": "markdown",
   "id": "c8ca6f24",
   "metadata": {},
   "source": [
    "<h1><center>-------------------------------------- Preprocessing --------------------------------------</center></h1>"
   ]
  },
  {
   "cell_type": "code",
   "execution_count": 2,
   "id": "1352f3ed",
   "metadata": {},
   "outputs": [],
   "source": [
    "# read raw files\n",
    "coffee_data = pd.read_excel('Dataset/coffee.xlsx')\n",
    "fuel_data = pd.read_excel('Dataset/fuel.xlsx')\n",
    "weather_data = pd.read_excel('Dataset/weather.xlsx')"
   ]
  },
  {
   "cell_type": "markdown",
   "id": "b82e0626",
   "metadata": {},
   "source": [
    "### Filter Coffee data"
   ]
  },
  {
   "cell_type": "code",
   "execution_count": 3,
   "id": "24b349fa",
   "metadata": {},
   "outputs": [
    {
     "data": {
      "text/html": [
       "<div>\n",
       "<style scoped>\n",
       "    .dataframe tbody tr th:only-of-type {\n",
       "        vertical-align: middle;\n",
       "    }\n",
       "\n",
       "    .dataframe tbody tr th {\n",
       "        vertical-align: top;\n",
       "    }\n",
       "\n",
       "    .dataframe thead th {\n",
       "        text-align: right;\n",
       "    }\n",
       "</style>\n",
       "<table border=\"1\" class=\"dataframe\">\n",
       "  <thead>\n",
       "    <tr style=\"text-align: right;\">\n",
       "      <th></th>\n",
       "      <th>Ngày</th>\n",
       "      <th>Giá Cà Phê</th>\n",
       "    </tr>\n",
       "  </thead>\n",
       "  <tbody>\n",
       "    <tr>\n",
       "      <th>0</th>\n",
       "      <td>2021-01-01</td>\n",
       "      <td>31667.5</td>\n",
       "    </tr>\n",
       "    <tr>\n",
       "      <th>1</th>\n",
       "      <td>2021-01-02</td>\n",
       "      <td>31667.5</td>\n",
       "    </tr>\n",
       "    <tr>\n",
       "      <th>2</th>\n",
       "      <td>2021-01-03</td>\n",
       "      <td>31667.5</td>\n",
       "    </tr>\n",
       "    <tr>\n",
       "      <th>3</th>\n",
       "      <td>2021-01-04</td>\n",
       "      <td>32717.0</td>\n",
       "    </tr>\n",
       "    <tr>\n",
       "      <th>4</th>\n",
       "      <td>2021-01-05</td>\n",
       "      <td>32417.0</td>\n",
       "    </tr>\n",
       "    <tr>\n",
       "      <th>...</th>\n",
       "      <td>...</td>\n",
       "      <td>...</td>\n",
       "    </tr>\n",
       "    <tr>\n",
       "      <th>864</th>\n",
       "      <td>2023-05-15</td>\n",
       "      <td>55566.5</td>\n",
       "    </tr>\n",
       "    <tr>\n",
       "      <th>865</th>\n",
       "      <td>2023-05-16</td>\n",
       "      <td>56066.5</td>\n",
       "    </tr>\n",
       "    <tr>\n",
       "      <th>866</th>\n",
       "      <td>2023-05-17</td>\n",
       "      <td>56666.5</td>\n",
       "    </tr>\n",
       "    <tr>\n",
       "      <th>867</th>\n",
       "      <td>2023-05-18</td>\n",
       "      <td>57000.0</td>\n",
       "    </tr>\n",
       "    <tr>\n",
       "      <th>868</th>\n",
       "      <td>2023-05-19</td>\n",
       "      <td>57500.0</td>\n",
       "    </tr>\n",
       "  </tbody>\n",
       "</table>\n",
       "<p>869 rows × 2 columns</p>\n",
       "</div>"
      ],
      "text/plain": [
       "          Ngày  Giá Cà Phê\n",
       "0   2021-01-01     31667.5\n",
       "1   2021-01-02     31667.5\n",
       "2   2021-01-03     31667.5\n",
       "3   2021-01-04     32717.0\n",
       "4   2021-01-05     32417.0\n",
       "..         ...         ...\n",
       "864 2023-05-15     55566.5\n",
       "865 2023-05-16     56066.5\n",
       "866 2023-05-17     56666.5\n",
       "867 2023-05-18     57000.0\n",
       "868 2023-05-19     57500.0\n",
       "\n",
       "[869 rows x 2 columns]"
      ]
     },
     "execution_count": 3,
     "metadata": {},
     "output_type": "execute_result"
    }
   ],
   "source": [
    "coffee_data['Ngày'] = pd.to_datetime(coffee_data['Ngày'])\n",
    "# fill up missing dates\n",
    "coffee_data = coffee_data.set_index('Ngày').resample('D').ffill().reset_index()\n",
    "coffee_data"
   ]
  },
  {
   "cell_type": "markdown",
   "id": "2b7ae46e",
   "metadata": {},
   "source": [
    "### Filter Diesel data"
   ]
  },
  {
   "cell_type": "code",
   "execution_count": 4,
   "id": "4a8d8687",
   "metadata": {
    "scrolled": true
   },
   "outputs": [
    {
     "data": {
      "text/html": [
       "<div>\n",
       "<style scoped>\n",
       "    .dataframe tbody tr th:only-of-type {\n",
       "        vertical-align: middle;\n",
       "    }\n",
       "\n",
       "    .dataframe tbody tr th {\n",
       "        vertical-align: top;\n",
       "    }\n",
       "\n",
       "    .dataframe thead th {\n",
       "        text-align: right;\n",
       "    }\n",
       "</style>\n",
       "<table border=\"1\" class=\"dataframe\">\n",
       "  <thead>\n",
       "    <tr style=\"text-align: right;\">\n",
       "      <th></th>\n",
       "      <th>Ngày</th>\n",
       "      <th>Giá Diesel 1 lít</th>\n",
       "    </tr>\n",
       "  </thead>\n",
       "  <tbody>\n",
       "    <tr>\n",
       "      <th>0</th>\n",
       "      <td>2019-01-01</td>\n",
       "      <td>14900.0</td>\n",
       "    </tr>\n",
       "    <tr>\n",
       "      <th>1</th>\n",
       "      <td>2019-01-02</td>\n",
       "      <td>14900.0</td>\n",
       "    </tr>\n",
       "    <tr>\n",
       "      <th>2</th>\n",
       "      <td>2019-01-03</td>\n",
       "      <td>14900.0</td>\n",
       "    </tr>\n",
       "    <tr>\n",
       "      <th>3</th>\n",
       "      <td>2019-01-04</td>\n",
       "      <td>14900.0</td>\n",
       "    </tr>\n",
       "    <tr>\n",
       "      <th>4</th>\n",
       "      <td>2019-01-05</td>\n",
       "      <td>14900.0</td>\n",
       "    </tr>\n",
       "  </tbody>\n",
       "</table>\n",
       "</div>"
      ],
      "text/plain": [
       "        Ngày  Giá Diesel 1 lít\n",
       "0 2019-01-01           14900.0\n",
       "1 2019-01-02           14900.0\n",
       "2 2019-01-03           14900.0\n",
       "3 2019-01-04           14900.0\n",
       "4 2019-01-05           14900.0"
      ]
     },
     "execution_count": 4,
     "metadata": {},
     "output_type": "execute_result"
    }
   ],
   "source": [
    "fuel_data[\"Ngày\"] = pd.to_datetime(fuel_data[\"Ngày\"], format=\"%d.%m.%Y\")\n",
    "\n",
    "# fill up missing dates\n",
    "fuel_data = fuel_data.set_index('Ngày').resample('D').ffill().reset_index()\n",
    "\n",
    "# reverse the order\n",
    "# fuel_data = fuel_data[::-1]\n",
    "\n",
    "fuel_data.head()"
   ]
  },
  {
   "cell_type": "markdown",
   "id": "a9cfd5ec",
   "metadata": {},
   "source": [
    "### Filter Weather Data"
   ]
  },
  {
   "cell_type": "code",
   "execution_count": 5,
   "id": "e2447c82",
   "metadata": {
    "scrolled": true
   },
   "outputs": [
    {
     "data": {
      "text/html": [
       "<div>\n",
       "<style scoped>\n",
       "    .dataframe tbody tr th:only-of-type {\n",
       "        vertical-align: middle;\n",
       "    }\n",
       "\n",
       "    .dataframe tbody tr th {\n",
       "        vertical-align: top;\n",
       "    }\n",
       "\n",
       "    .dataframe thead th {\n",
       "        text-align: right;\n",
       "    }\n",
       "</style>\n",
       "<table border=\"1\" class=\"dataframe\">\n",
       "  <thead>\n",
       "    <tr style=\"text-align: right;\">\n",
       "      <th></th>\n",
       "      <th>time</th>\n",
       "      <th>temperature_mean (°C)</th>\n",
       "      <th>precipitation_sum (mm)</th>\n",
       "    </tr>\n",
       "  </thead>\n",
       "  <tbody>\n",
       "    <tr>\n",
       "      <th>0</th>\n",
       "      <td>2018-01-01</td>\n",
       "      <td>21.183332</td>\n",
       "      <td>0.0</td>\n",
       "    </tr>\n",
       "    <tr>\n",
       "      <th>1</th>\n",
       "      <td>2018-01-02</td>\n",
       "      <td>21.558332</td>\n",
       "      <td>0.0</td>\n",
       "    </tr>\n",
       "    <tr>\n",
       "      <th>2</th>\n",
       "      <td>2018-01-03</td>\n",
       "      <td>22.604166</td>\n",
       "      <td>0.0</td>\n",
       "    </tr>\n",
       "    <tr>\n",
       "      <th>3</th>\n",
       "      <td>2018-01-04</td>\n",
       "      <td>23.062494</td>\n",
       "      <td>3.6</td>\n",
       "    </tr>\n",
       "    <tr>\n",
       "      <th>4</th>\n",
       "      <td>2018-01-05</td>\n",
       "      <td>23.937500</td>\n",
       "      <td>0.3</td>\n",
       "    </tr>\n",
       "  </tbody>\n",
       "</table>\n",
       "</div>"
      ],
      "text/plain": [
       "        time  temperature_mean (°C)  precipitation_sum (mm)\n",
       "0 2018-01-01              21.183332                     0.0\n",
       "1 2018-01-02              21.558332                     0.0\n",
       "2 2018-01-03              22.604166                     0.0\n",
       "3 2018-01-04              23.062494                     3.6\n",
       "4 2018-01-05              23.937500                     0.3"
      ]
     },
     "execution_count": 5,
     "metadata": {},
     "output_type": "execute_result"
    }
   ],
   "source": [
    "weather_data[\"time\"] = pd.to_datetime(weather_data[\"time\"], format=\"%d.%m.%Y\")\n",
    "weather_data.head()"
   ]
  },
  {
   "cell_type": "markdown",
   "id": "573be20f",
   "metadata": {},
   "source": [
    "<h1><center>-------------------------------------- Calculate Weather --------------------------------------</center></h1>"
   ]
  },
  {
   "cell_type": "code",
   "execution_count": 6,
   "id": "dd632a73",
   "metadata": {},
   "outputs": [],
   "source": [
    "# 2020\n",
    "year2020 = (weather_data['time'] >= '2020-1-1') & (weather_data['time'] <= '2020-12-31')\n",
    "df2 = weather_data.loc[year2020]\n",
    "# total precipitation\n",
    "prec2020 = df2[\"precipitation_sum (mm)\"].sum()\n",
    "# total days\n",
    "temp2020 = df2[(df2['temperature_mean (°C)'] >= 24) & (df2['temperature_mean (°C)'] <= 30)]\n",
    "\n",
    "# 2021\n",
    "year2021 = (weather_data['time'] >= '2021-1-1') & (weather_data['time'] <= '2021-12-31')\n",
    "df2 = weather_data.loc[year2021]\n",
    "# total precipitation\n",
    "prec2021 = df2[\"precipitation_sum (mm)\"].sum()\n",
    "# total days\n",
    "temp2021 = df2[(df2['temperature_mean (°C)'] >= 24) & (df2['temperature_mean (°C)'] <= 30)]\n",
    "\n",
    "#2022\n",
    "year2022 = (weather_data['time'] >= '2022-1-1') & (weather_data['time'] <= '2022-12-31')\n",
    "df2 = weather_data.loc[year2022]\n",
    "# total precipitation\n",
    "prec2022 = df2[\"precipitation_sum (mm)\"].sum()\n",
    "# total days\n",
    "temp2022 = df2[(df2['temperature_mean (°C)'] >= 24) & (df2['temperature_mean (°C)'] <= 30)]"
   ]
  },
  {
   "cell_type": "markdown",
   "id": "f71238f8",
   "metadata": {},
   "source": [
    "<h1><center>-------------------------------------- Merge Data --------------------------------------</center></h1>"
   ]
  },
  {
   "cell_type": "code",
   "execution_count": 7,
   "id": "7e915168",
   "metadata": {},
   "outputs": [],
   "source": [
    "# # Merge the dataframes with an outer join\n",
    "# merged_df = pd.merge(coffee_data, fuel_data, left_on='Ngày', right_on='Ngày', how=\"outer\")\n",
    "\n",
    "# # Fill missing dates from both datasets with each other\n",
    "# merged_df.fillna(method='bfill', inplace=True)"
   ]
  },
  {
   "cell_type": "code",
   "execution_count": 8,
   "id": "9dfa896e",
   "metadata": {},
   "outputs": [],
   "source": [
    "# 3 months before first coffee price\n",
    "mask = (fuel_data['Ngày'] >= '2020-10-1') \n",
    "diesel3 = fuel_data.loc[mask]\n",
    "# 2 months before first coffee price\n",
    "mask = (fuel_data['Ngày'] >= '2020-11-1') \n",
    "diesel2 = fuel_data.loc[mask]\n",
    "# 1 months before first coffee price\n",
    "mask = (fuel_data['Ngày'] >= '2020-12-1') \n",
    "diesel1 = fuel_data.loc[mask]\n",
    "\n",
    "# correcting format\n",
    "diesel1 = diesel1.reset_index()\n",
    "diesel2 = diesel2.reset_index()\n",
    "diesel3 = diesel3.reset_index()\n",
    "diesel1.drop(diesel1.columns[[0, 1]], axis=1, inplace=True)\n",
    "diesel2.drop(diesel2.columns[[0, 1]], axis=1, inplace=True)\n",
    "diesel3.drop(diesel3.columns[[0, 1]], axis=1, inplace=True)"
   ]
  },
  {
   "cell_type": "code",
   "execution_count": 9,
   "id": "8386bfcb",
   "metadata": {},
   "outputs": [],
   "source": [
    "# merge coffee and diesel\n",
    "merged_df = pd.concat([coffee_data, diesel1], axis=\"columns\")\n",
    "merged_df.rename(columns={'Giá Diesel 1 lít': 'diesel_1'}, inplace=True)\n",
    "merged_df = pd.concat([merged_df, diesel2], axis=\"columns\")\n",
    "merged_df.rename(columns={'Giá Diesel 1 lít': 'diesel_2'}, inplace=True)\n",
    "merged_df = pd.concat([merged_df, diesel3], axis=\"columns\")\n",
    "merged_df.rename(columns={'Giá Diesel 1 lít': 'diesel_3'}, inplace=True)"
   ]
  },
  {
   "cell_type": "code",
   "execution_count": 10,
   "id": "8b678bb9",
   "metadata": {},
   "outputs": [
    {
     "data": {
      "text/html": [
       "<div>\n",
       "<style scoped>\n",
       "    .dataframe tbody tr th:only-of-type {\n",
       "        vertical-align: middle;\n",
       "    }\n",
       "\n",
       "    .dataframe tbody tr th {\n",
       "        vertical-align: top;\n",
       "    }\n",
       "\n",
       "    .dataframe thead th {\n",
       "        text-align: right;\n",
       "    }\n",
       "</style>\n",
       "<table border=\"1\" class=\"dataframe\">\n",
       "  <thead>\n",
       "    <tr style=\"text-align: right;\">\n",
       "      <th></th>\n",
       "      <th>Ngày</th>\n",
       "      <th>Giá Cà Phê</th>\n",
       "      <th>diesel_1</th>\n",
       "      <th>diesel_2</th>\n",
       "      <th>diesel_3</th>\n",
       "    </tr>\n",
       "  </thead>\n",
       "  <tbody>\n",
       "    <tr>\n",
       "      <th>0</th>\n",
       "      <td>2021-01-01</td>\n",
       "      <td>31667.5</td>\n",
       "      <td>11430.0</td>\n",
       "      <td>11210.0</td>\n",
       "      <td>11120.0</td>\n",
       "    </tr>\n",
       "    <tr>\n",
       "      <th>1</th>\n",
       "      <td>2021-01-02</td>\n",
       "      <td>31667.5</td>\n",
       "      <td>11430.0</td>\n",
       "      <td>11210.0</td>\n",
       "      <td>11120.0</td>\n",
       "    </tr>\n",
       "    <tr>\n",
       "      <th>2</th>\n",
       "      <td>2021-01-03</td>\n",
       "      <td>31667.5</td>\n",
       "      <td>11430.0</td>\n",
       "      <td>11210.0</td>\n",
       "      <td>11120.0</td>\n",
       "    </tr>\n",
       "    <tr>\n",
       "      <th>3</th>\n",
       "      <td>2021-01-04</td>\n",
       "      <td>32717.0</td>\n",
       "      <td>11430.0</td>\n",
       "      <td>11210.0</td>\n",
       "      <td>11120.0</td>\n",
       "    </tr>\n",
       "    <tr>\n",
       "      <th>4</th>\n",
       "      <td>2021-01-05</td>\n",
       "      <td>32417.0</td>\n",
       "      <td>11430.0</td>\n",
       "      <td>11210.0</td>\n",
       "      <td>11120.0</td>\n",
       "    </tr>\n",
       "    <tr>\n",
       "      <th>...</th>\n",
       "      <td>...</td>\n",
       "      <td>...</td>\n",
       "      <td>...</td>\n",
       "      <td>...</td>\n",
       "      <td>...</td>\n",
       "    </tr>\n",
       "    <tr>\n",
       "      <th>980</th>\n",
       "      <td>NaT</td>\n",
       "      <td>NaN</td>\n",
       "      <td>NaN</td>\n",
       "      <td>NaN</td>\n",
       "      <td>17940.0</td>\n",
       "    </tr>\n",
       "    <tr>\n",
       "      <th>981</th>\n",
       "      <td>NaT</td>\n",
       "      <td>NaN</td>\n",
       "      <td>NaN</td>\n",
       "      <td>NaN</td>\n",
       "      <td>17940.0</td>\n",
       "    </tr>\n",
       "    <tr>\n",
       "      <th>982</th>\n",
       "      <td>NaT</td>\n",
       "      <td>NaN</td>\n",
       "      <td>NaN</td>\n",
       "      <td>NaN</td>\n",
       "      <td>17940.0</td>\n",
       "    </tr>\n",
       "    <tr>\n",
       "      <th>983</th>\n",
       "      <td>NaT</td>\n",
       "      <td>NaN</td>\n",
       "      <td>NaN</td>\n",
       "      <td>NaN</td>\n",
       "      <td>17940.0</td>\n",
       "    </tr>\n",
       "    <tr>\n",
       "      <th>984</th>\n",
       "      <td>NaT</td>\n",
       "      <td>NaN</td>\n",
       "      <td>NaN</td>\n",
       "      <td>NaN</td>\n",
       "      <td>18020.0</td>\n",
       "    </tr>\n",
       "  </tbody>\n",
       "</table>\n",
       "<p>985 rows × 5 columns</p>\n",
       "</div>"
      ],
      "text/plain": [
       "          Ngày  Giá Cà Phê  diesel_1  diesel_2  diesel_3\n",
       "0   2021-01-01     31667.5   11430.0   11210.0   11120.0\n",
       "1   2021-01-02     31667.5   11430.0   11210.0   11120.0\n",
       "2   2021-01-03     31667.5   11430.0   11210.0   11120.0\n",
       "3   2021-01-04     32717.0   11430.0   11210.0   11120.0\n",
       "4   2021-01-05     32417.0   11430.0   11210.0   11120.0\n",
       "..         ...         ...       ...       ...       ...\n",
       "980        NaT         NaN       NaN       NaN   17940.0\n",
       "981        NaT         NaN       NaN       NaN   17940.0\n",
       "982        NaT         NaN       NaN       NaN   17940.0\n",
       "983        NaT         NaN       NaN       NaN   17940.0\n",
       "984        NaT         NaN       NaN       NaN   18020.0\n",
       "\n",
       "[985 rows x 5 columns]"
      ]
     },
     "execution_count": 10,
     "metadata": {},
     "output_type": "execute_result"
    }
   ],
   "source": [
    "merged_df"
   ]
  },
  {
   "cell_type": "code",
   "execution_count": 11,
   "id": "ea4de2c1",
   "metadata": {},
   "outputs": [],
   "source": [
    "# Create new columns\n",
    "merged_df['Precipitation (mm)'] = \"\"\n",
    "merged_df['Temperature (°C)'] = \"\""
   ]
  },
  {
   "cell_type": "code",
   "execution_count": 12,
   "id": "20acf051",
   "metadata": {},
   "outputs": [],
   "source": [
    "# Fill in weather value\n",
    "\n",
    "# precipitation\n",
    "merged_df['Precipitation (mm)'] = np.where(merged_df['Ngày'] >= '2021-1-1', prec2020, merged_df['Precipitation (mm)'])\n",
    "merged_df['Precipitation (mm)'] = np.where(merged_df['Ngày'] >= '2022-1-1', prec2021, merged_df['Precipitation (mm)'])\n",
    "merged_df['Precipitation (mm)'] = np.where(merged_df['Ngày'] >= '2023-1-1', prec2022, merged_df['Precipitation (mm)'])\n",
    "\n",
    "# temperature\n",
    "merged_df['Temperature (°C)'] = np.where(merged_df['Ngày'] >= '2021-1-1', len(temp2020), merged_df['Temperature (°C)'])\n",
    "merged_df['Temperature (°C)'] = np.where(merged_df['Ngày'] >= '2022-1-1', len(temp2021), merged_df['Temperature (°C)'])\n",
    "merged_df['Temperature (°C)'] = np.where(merged_df['Ngày'] >= '2023-1-1', len(temp2022), merged_df['Temperature (°C)'])"
   ]
  },
  {
   "cell_type": "code",
   "execution_count": 13,
   "id": "fe34e25c",
   "metadata": {
    "scrolled": false
   },
   "outputs": [
    {
     "name": "stderr",
     "output_type": "stream",
     "text": [
      "C:\\Users\\Lamti\\AppData\\Local\\Temp\\ipykernel_952\\4078338735.py:6: SettingWithCopyWarning: \n",
      "A value is trying to be set on a copy of a slice from a DataFrame.\n",
      "Try using .loc[row_indexer,col_indexer] = value instead\n",
      "\n",
      "See the caveats in the documentation: https://pandas.pydata.org/pandas-docs/stable/user_guide/indexing.html#returning-a-view-versus-a-copy\n",
      "  data['Precipitation (mm)'] = data['Precipitation (mm)'].astype(float)\n",
      "C:\\Users\\Lamti\\AppData\\Local\\Temp\\ipykernel_952\\4078338735.py:7: SettingWithCopyWarning: \n",
      "A value is trying to be set on a copy of a slice from a DataFrame.\n",
      "Try using .loc[row_indexer,col_indexer] = value instead\n",
      "\n",
      "See the caveats in the documentation: https://pandas.pydata.org/pandas-docs/stable/user_guide/indexing.html#returning-a-view-versus-a-copy\n",
      "  data['Temperature (°C)'] = data['Temperature (°C)'].astype(float)\n"
     ]
    }
   ],
   "source": [
    "# Drop NA rows\n",
    "merged_df = merged_df.dropna()\n",
    "data = merged_df\n",
    "\n",
    "# convert to float\n",
    "data['Precipitation (mm)'] = data['Precipitation (mm)'].astype(float)\n",
    "data['Temperature (°C)'] = data['Temperature (°C)'].astype(float)"
   ]
  },
  {
   "cell_type": "code",
   "execution_count": 14,
   "id": "0eced86d",
   "metadata": {},
   "outputs": [
    {
     "data": {
      "text/html": [
       "<div>\n",
       "<style scoped>\n",
       "    .dataframe tbody tr th:only-of-type {\n",
       "        vertical-align: middle;\n",
       "    }\n",
       "\n",
       "    .dataframe tbody tr th {\n",
       "        vertical-align: top;\n",
       "    }\n",
       "\n",
       "    .dataframe thead th {\n",
       "        text-align: right;\n",
       "    }\n",
       "</style>\n",
       "<table border=\"1\" class=\"dataframe\">\n",
       "  <thead>\n",
       "    <tr style=\"text-align: right;\">\n",
       "      <th></th>\n",
       "      <th>Ngày</th>\n",
       "      <th>Giá Cà Phê</th>\n",
       "      <th>diesel_1</th>\n",
       "      <th>diesel_2</th>\n",
       "      <th>diesel_3</th>\n",
       "      <th>Precipitation (mm)</th>\n",
       "      <th>Temperature (°C)</th>\n",
       "    </tr>\n",
       "  </thead>\n",
       "  <tbody>\n",
       "    <tr>\n",
       "      <th>0</th>\n",
       "      <td>2021-01-01</td>\n",
       "      <td>31667.5</td>\n",
       "      <td>11430.0</td>\n",
       "      <td>11210.0</td>\n",
       "      <td>11120.0</td>\n",
       "      <td>1174.199994</td>\n",
       "      <td>217.0</td>\n",
       "    </tr>\n",
       "    <tr>\n",
       "      <th>1</th>\n",
       "      <td>2021-01-02</td>\n",
       "      <td>31667.5</td>\n",
       "      <td>11430.0</td>\n",
       "      <td>11210.0</td>\n",
       "      <td>11120.0</td>\n",
       "      <td>1174.199994</td>\n",
       "      <td>217.0</td>\n",
       "    </tr>\n",
       "    <tr>\n",
       "      <th>2</th>\n",
       "      <td>2021-01-03</td>\n",
       "      <td>31667.5</td>\n",
       "      <td>11430.0</td>\n",
       "      <td>11210.0</td>\n",
       "      <td>11120.0</td>\n",
       "      <td>1174.199994</td>\n",
       "      <td>217.0</td>\n",
       "    </tr>\n",
       "    <tr>\n",
       "      <th>3</th>\n",
       "      <td>2021-01-04</td>\n",
       "      <td>32717.0</td>\n",
       "      <td>11430.0</td>\n",
       "      <td>11210.0</td>\n",
       "      <td>11120.0</td>\n",
       "      <td>1174.199994</td>\n",
       "      <td>217.0</td>\n",
       "    </tr>\n",
       "    <tr>\n",
       "      <th>4</th>\n",
       "      <td>2021-01-05</td>\n",
       "      <td>32417.0</td>\n",
       "      <td>11430.0</td>\n",
       "      <td>11210.0</td>\n",
       "      <td>11120.0</td>\n",
       "      <td>1174.199994</td>\n",
       "      <td>217.0</td>\n",
       "    </tr>\n",
       "    <tr>\n",
       "      <th>...</th>\n",
       "      <td>...</td>\n",
       "      <td>...</td>\n",
       "      <td>...</td>\n",
       "      <td>...</td>\n",
       "      <td>...</td>\n",
       "      <td>...</td>\n",
       "      <td>...</td>\n",
       "    </tr>\n",
       "    <tr>\n",
       "      <th>864</th>\n",
       "      <td>2023-05-15</td>\n",
       "      <td>55566.5</td>\n",
       "      <td>20140.0</td>\n",
       "      <td>20500.0</td>\n",
       "      <td>22520.0</td>\n",
       "      <td>1259.800013</td>\n",
       "      <td>218.0</td>\n",
       "    </tr>\n",
       "    <tr>\n",
       "      <th>865</th>\n",
       "      <td>2023-05-16</td>\n",
       "      <td>56066.5</td>\n",
       "      <td>20140.0</td>\n",
       "      <td>20500.0</td>\n",
       "      <td>21560.0</td>\n",
       "      <td>1259.800013</td>\n",
       "      <td>218.0</td>\n",
       "    </tr>\n",
       "    <tr>\n",
       "      <th>866</th>\n",
       "      <td>2023-05-17</td>\n",
       "      <td>56666.5</td>\n",
       "      <td>20140.0</td>\n",
       "      <td>20500.0</td>\n",
       "      <td>21560.0</td>\n",
       "      <td>1259.800013</td>\n",
       "      <td>218.0</td>\n",
       "    </tr>\n",
       "    <tr>\n",
       "      <th>867</th>\n",
       "      <td>2023-05-18</td>\n",
       "      <td>57000.0</td>\n",
       "      <td>20140.0</td>\n",
       "      <td>20500.0</td>\n",
       "      <td>21560.0</td>\n",
       "      <td>1259.800013</td>\n",
       "      <td>218.0</td>\n",
       "    </tr>\n",
       "    <tr>\n",
       "      <th>868</th>\n",
       "      <td>2023-05-19</td>\n",
       "      <td>57500.0</td>\n",
       "      <td>20140.0</td>\n",
       "      <td>20500.0</td>\n",
       "      <td>21560.0</td>\n",
       "      <td>1259.800013</td>\n",
       "      <td>218.0</td>\n",
       "    </tr>\n",
       "  </tbody>\n",
       "</table>\n",
       "<p>869 rows × 7 columns</p>\n",
       "</div>"
      ],
      "text/plain": [
       "          Ngày  Giá Cà Phê  diesel_1  diesel_2  diesel_3  Precipitation (mm)  \\\n",
       "0   2021-01-01     31667.5   11430.0   11210.0   11120.0         1174.199994   \n",
       "1   2021-01-02     31667.5   11430.0   11210.0   11120.0         1174.199994   \n",
       "2   2021-01-03     31667.5   11430.0   11210.0   11120.0         1174.199994   \n",
       "3   2021-01-04     32717.0   11430.0   11210.0   11120.0         1174.199994   \n",
       "4   2021-01-05     32417.0   11430.0   11210.0   11120.0         1174.199994   \n",
       "..         ...         ...       ...       ...       ...                 ...   \n",
       "864 2023-05-15     55566.5   20140.0   20500.0   22520.0         1259.800013   \n",
       "865 2023-05-16     56066.5   20140.0   20500.0   21560.0         1259.800013   \n",
       "866 2023-05-17     56666.5   20140.0   20500.0   21560.0         1259.800013   \n",
       "867 2023-05-18     57000.0   20140.0   20500.0   21560.0         1259.800013   \n",
       "868 2023-05-19     57500.0   20140.0   20500.0   21560.0         1259.800013   \n",
       "\n",
       "     Temperature (°C)  \n",
       "0               217.0  \n",
       "1               217.0  \n",
       "2               217.0  \n",
       "3               217.0  \n",
       "4               217.0  \n",
       "..                ...  \n",
       "864             218.0  \n",
       "865             218.0  \n",
       "866             218.0  \n",
       "867             218.0  \n",
       "868             218.0  \n",
       "\n",
       "[869 rows x 7 columns]"
      ]
     },
     "execution_count": 14,
     "metadata": {},
     "output_type": "execute_result"
    }
   ],
   "source": [
    "data"
   ]
  },
  {
   "cell_type": "markdown",
   "id": "1e5328a0",
   "metadata": {},
   "source": [
    "<h1><center>-------------------------------------- Outlier Chart --------------------------------------</center></h1>"
   ]
  },
  {
   "cell_type": "code",
   "execution_count": 15,
   "id": "98a3b1ca",
   "metadata": {
    "scrolled": false
   },
   "outputs": [
    {
     "data": {
      "image/png": "[encoded data removed]",
      "text/plain": [
       "<Figure size 640x480 with 1 Axes>"
      ]
     },
     "metadata": {},
     "output_type": "display_data"
    }
   ],
   "source": [
    "boxplot = data.boxplot()  # draw chart"
   ]
  },
  {
   "cell_type": "code",
   "execution_count": 16,
   "id": "98b11cae",
   "metadata": {},
   "outputs": [
    {
     "data": {
      "image/png": "[encoded data removed]",
      "text/plain": [
       "<Figure size 640x480 with 1 Axes>"
      ]
     },
     "metadata": {},
     "output_type": "display_data"
    }
   ],
   "source": [
    "# further inspecting coffee outliers\n",
    "boxplot = coffee_data.boxplot()  "
   ]
  },
  {
   "cell_type": "code",
   "execution_count": 17,
   "id": "06a98f5a",
   "metadata": {},
   "outputs": [
    {
     "name": "stderr",
     "output_type": "stream",
     "text": [
      "C:\\Users\\Lamti\\anaconda3\\lib\\site-packages\\pandas\\core\\frame.py:4906: SettingWithCopyWarning: \n",
      "A value is trying to be set on a copy of a slice from a DataFrame\n",
      "\n",
      "See the caveats in the documentation: https://pandas.pydata.org/pandas-docs/stable/user_guide/indexing.html#returning-a-view-versus-a-copy\n",
      "  return super().drop(\n"
     ]
    }
   ],
   "source": [
    "# detecting outliers\n",
    "outlier = np.where(coffee_data['Giá Cà Phê'] > 50000)\n",
    "\n",
    "# removing outliers\n",
    "data.drop(index=outlier[0], inplace=True)"
   ]
  },
  {
   "cell_type": "markdown",
   "id": "17a091cb",
   "metadata": {},
   "source": [
    "<h1><center>-------------------------------------- Time Series Chart --------------------------------------</center></h1>"
   ]
  },
  {
   "cell_type": "code",
   "execution_count": 19,
   "id": "97876508",
   "metadata": {},
   "outputs": [
    {
     "data": {
      "text/plain": [
       "Text(0, 0.5, 'Values')"
      ]
     },
     "execution_count": 19,
     "metadata": {},
     "output_type": "execute_result"
    },
    {
     "data": {
      "image/png": "[encoded data removed]",
      "text/plain": [
       "<Figure size 1500x700 with 1 Axes>"
      ]
     },
     "metadata": {},
     "output_type": "display_data"
    }
   ],
   "source": [
    "plt.figure(figsize=(15,7))\n",
    "\n",
    "sns.lineplot(x=\"Ngày\", y=\"Giá Cà Phê\", data=data, label='coffee')\n",
    "sns.lineplot(x=\"Ngày\", y=\"diesel_1\", data=data, label='diesel_1')\n",
    "sns.lineplot(x=\"Ngày\", y=\"diesel_2\", data=data, label='diesel_2')\n",
    "sns.lineplot(x=\"Ngày\", y=\"diesel_3\", data=data, label='diesel_3')\n",
    "sns.lineplot(x=\"Ngày\", y=\"Precipitation (mm)\", data=data, label='percipitation')\n",
    "sns.lineplot(x=\"Ngày\", y=\"Temperature (°C)\", data=data, label='temperature')\n",
    "\n",
    "# set label\n",
    "plt.ylabel(\"Values\")"
   ]
  },
  {
   "cell_type": "markdown",
   "id": "c67e27aa",
   "metadata": {},
   "source": [
    "<h1><center>-------------------------------------- Correlation --------------------------------------</center></h1>"
   ]
  },
  {
   "cell_type": "code",
   "execution_count": null,
   "id": "650b0c70",
   "metadata": {
    "scrolled": false
   },
   "outputs": [],
   "source": [
    "# # Use heatmap to identify correlation between variables\n",
    "f, ax = plt.subplots(figsize = (10, 5))\n",
    "corr = data.corr()\n",
    "ax = sns.heatmap(\n",
    "    corr, vmin = -1, vmax = 1, center = 0, annot = True,\n",
    "    cmap = sns.diverging_palette(20, 220, n = 200),\n",
    "    square = False\n",
    ")\n",
    "ax.set_xticklabels(ax.get_xticklabels(), rotation = 90, horizontalalignment = 'right');"
   ]
  },
  {
   "cell_type": "markdown",
   "id": "60c68f88",
   "metadata": {},
   "source": [
    "<h1><center>-------------------------------------- Write to file --------------------------------------</center></h1>"
   ]
  },
  {
   "cell_type": "code",
   "execution_count": null,
   "id": "a61ca213",
   "metadata": {},
   "outputs": [],
   "source": [
    "# Export the final dataset to excel\n",
    "# data.to_excel('Dataset/data.xlsx', index=False)\n",
    "%store data"
   ]
  },
  {
   "cell_type": "markdown",
   "id": "44ad0099",
   "metadata": {},
   "source": [
    "# Normalization"
   ]
  },
  {
   "cell_type": "code",
   "execution_count": null,
   "id": "d2eaed08",
   "metadata": {},
   "outputs": [],
   "source": [
    "# set number of days\n",
    "look_back = 60\n",
    "%store look_back\n",
    "predict_ahead = 30\n",
    "%store predict_ahead"
   ]
  },
  {
   "cell_type": "code",
   "execution_count": null,
   "id": "21517707",
   "metadata": {},
   "outputs": [],
   "source": [
    "# convert series to supervised learning\n",
    "\n",
    "def series_to_supervised(data, n_in = look_back, n_out = predict_ahead, dropnan=True):\n",
    "    n_vars = 1 if type(data) is list else data.shape[1]\n",
    "    df = pd.DataFrame(data)\n",
    "    cols, names = list(), list()\n",
    "    \n",
    "    # input sequence (t-n, ... t-1)\n",
    "    for i in range(n_in, 0, -1):\n",
    "        cols.append(df.shift(i))\n",
    "        names += [('var%d(t-%d)' % (j+1, i)) for j in range(n_vars)]\n",
    "        \n",
    "    # forecast sequence (t, t+1, ... t+n)\n",
    "    for i in range(0, n_out):\n",
    "        cols.append(df.shift(-i))\n",
    "        if i == 0:\n",
    "            names += [('var%d(t)' % (j+1)) for j in range(n_vars)]\n",
    "        else:\n",
    "            names += [('var%d(t+%d)' % (j+1, i)) for j in range(n_vars)]\n",
    "            \n",
    "    # put it all together\n",
    "    agg = concat(cols, axis=1)\n",
    "    agg.columns = names\n",
    "    \n",
    "    # drop rows with NaN values\n",
    "    if dropnan:\n",
    "        agg.dropna(inplace=True)\n",
    "    return agg"
   ]
  },
  {
   "cell_type": "code",
   "execution_count": null,
   "id": "5ae406e7",
   "metadata": {},
   "outputs": [],
   "source": [
    "# calculate metrics\n",
    "def mean_absolute_scaled_error(y_true, y_pred, y_train):\n",
    "    e_t = y_true - y_pred\n",
    "    scale = sklearn.metrics.mean_absolute_error(y_train[1:], y_train[:-1])\n",
    "    return np.mean(np.abs(e_t / scale))\n",
    "\n",
    "def print_metrics(test, pre_test):\n",
    "    \n",
    "    testScore = np.sqrt(mean_squared_error(test,pre_test))\n",
    "    print('RMSE: %.2f (đồng)' % (testScore))\n",
    "    \n",
    "    testScore = sklearn.metrics.mean_absolute_error(test, pre_test)\n",
    "    print('\\nMAE: %.2f (đồng)' % (testScore))\n",
    "                            \n",
    "    testScore = sklearn.metrics.mean_absolute_percentage_error(test, pre_test)\n",
    "    print('\\nMAPE: %.2f' % (testScore))\n",
    "    \n",
    "    testScore = mean_absolute_scaled_error(test, pre_test, test)\n",
    "    print('\\nMASE: %.2f' % (testScore))"
   ]
  }
 ],
 "metadata": {
  "kernelspec": {
   "display_name": "Python 3 (ipykernel)",
   "language": "python",
   "name": "python3"
  },
  "language_info": {
   "codemirror_mode": {
    "name": "ipython",
    "version": 3
   },
   "file_extension": ".py",
   "mimetype": "text/x-python",
   "name": "python",
   "nbconvert_exporter": "python",
   "pygments_lexer": "ipython3",
   "version": "3.9.13"
  }
 },
 "nbformat": 4,
 "nbformat_minor": 5
}
