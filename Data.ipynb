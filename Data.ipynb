{
 "cells": [
  {
   "cell_type": "markdown",
   "id": "cda77ca2",
   "metadata": {},
   "source": [
    "# Import Libraries"
   ]
  },
  {
   "cell_type": "code",
   "execution_count": 1,
   "id": "b1615044",
   "metadata": {},
   "outputs": [],
   "source": [
    "import numpy as np\n",
    "import pandas as pd\n",
    "import seaborn as sns\n",
    "import matplotlib.pyplot as plt\n",
    "\n",
    "from datetime import datetime\n",
    "from matplotlib import pyplot\n",
    "\n",
    "%matplotlib inline"
   ]
  },
  {
   "cell_type": "markdown",
   "id": "c8ca6f24",
   "metadata": {},
   "source": [
    "<h1><center>-------------------------------------- Preprocessing --------------------------------------</center></h1>"
   ]
  },
  {
   "cell_type": "code",
   "execution_count": 2,
   "id": "1352f3ed",
   "metadata": {},
   "outputs": [],
   "source": [
    "# read raw files\n",
    "coffee_data = pd.read_excel('Dataset/coffee.xlsx')\n",
    "fuel_data = pd.read_excel('Dataset/fuel.xlsx')\n",
    "weather_data = pd.read_excel('Dataset/weather.xlsx')"
   ]
  },
  {
   "cell_type": "markdown",
   "id": "b82e0626",
   "metadata": {},
   "source": [
    "### Filter Coffee data"
   ]
  },
  {
   "cell_type": "code",
   "execution_count": 3,
   "id": "24b349fa",
   "metadata": {},
   "outputs": [
    {
     "data": {
      "text/html": [
       "<div>\n",
       "<style scoped>\n",
       "    .dataframe tbody tr th:only-of-type {\n",
       "        vertical-align: middle;\n",
       "    }\n",
       "\n",
       "    .dataframe tbody tr th {\n",
       "        vertical-align: top;\n",
       "    }\n",
       "\n",
       "    .dataframe thead th {\n",
       "        text-align: right;\n",
       "    }\n",
       "</style>\n",
       "<table border=\"1\" class=\"dataframe\">\n",
       "  <thead>\n",
       "    <tr style=\"text-align: right;\">\n",
       "      <th></th>\n",
       "      <th>Ngày</th>\n",
       "      <th>Tên_mặt_hàng</th>\n",
       "      <th>Đơn_vị_tính</th>\n",
       "      <th>Loại_giá</th>\n",
       "      <th>Loại_tiền</th>\n",
       "      <th>Giá</th>\n",
       "    </tr>\n",
       "  </thead>\n",
       "  <tbody>\n",
       "    <tr>\n",
       "      <th>0</th>\n",
       "      <td>2021-01-01</td>\n",
       "      <td>Cà phê Robusta nhân xô</td>\n",
       "      <td>VNĐ/kg</td>\n",
       "      <td>Thu mua</td>\n",
       "      <td>VNĐ</td>\n",
       "      <td>31667.5</td>\n",
       "    </tr>\n",
       "    <tr>\n",
       "      <th>1</th>\n",
       "      <td>2021-01-02</td>\n",
       "      <td>Cà phê Robusta nhân xô</td>\n",
       "      <td>VNĐ/kg</td>\n",
       "      <td>Thu mua</td>\n",
       "      <td>VNĐ</td>\n",
       "      <td>31667.5</td>\n",
       "    </tr>\n",
       "    <tr>\n",
       "      <th>2</th>\n",
       "      <td>2021-01-03</td>\n",
       "      <td>Cà phê Robusta nhân xô</td>\n",
       "      <td>VNĐ/kg</td>\n",
       "      <td>Thu mua</td>\n",
       "      <td>VNĐ</td>\n",
       "      <td>31667.5</td>\n",
       "    </tr>\n",
       "    <tr>\n",
       "      <th>3</th>\n",
       "      <td>2021-01-04</td>\n",
       "      <td>Cà phê Robusta nhân xô</td>\n",
       "      <td>Vnđ/kg</td>\n",
       "      <td>Thu mua</td>\n",
       "      <td>VNĐ</td>\n",
       "      <td>32717.0</td>\n",
       "    </tr>\n",
       "    <tr>\n",
       "      <th>4</th>\n",
       "      <td>2021-01-05</td>\n",
       "      <td>Cà phê Robusta nhân xô</td>\n",
       "      <td>Vnđ/kg</td>\n",
       "      <td>Thu mua</td>\n",
       "      <td>VNĐ</td>\n",
       "      <td>32417.0</td>\n",
       "    </tr>\n",
       "  </tbody>\n",
       "</table>\n",
       "</div>"
      ],
      "text/plain": [
       "        Ngày            Tên_mặt_hàng Đơn_vị_tính Loại_giá Loại_tiền      Giá\n",
       "0 2021-01-01  Cà phê Robusta nhân xô      VNĐ/kg  Thu mua       VNĐ  31667.5\n",
       "1 2021-01-02  Cà phê Robusta nhân xô      VNĐ/kg  Thu mua       VNĐ  31667.5\n",
       "2 2021-01-03  Cà phê Robusta nhân xô      VNĐ/kg  Thu mua       VNĐ  31667.5\n",
       "3 2021-01-04  Cà phê Robusta nhân xô      Vnđ/kg  Thu mua       VNĐ  32717.0\n",
       "4 2021-01-05  Cà phê Robusta nhân xô      Vnđ/kg  Thu mua       VNĐ  32417.0"
      ]
     },
     "execution_count": 3,
     "metadata": {},
     "output_type": "execute_result"
    }
   ],
   "source": [
    "coffee_data['Ngày'] = pd.to_datetime(coffee_data['Ngày'])\n",
    "# fill up missing dates\n",
    "coffee_data = coffee_data.set_index('Ngày').resample('D').ffill().reset_index()\n",
    "coffee_data.head()"
   ]
  },
  {
   "cell_type": "markdown",
   "id": "2b7ae46e",
   "metadata": {},
   "source": [
    "### Filter Diesel data"
   ]
  },
  {
   "cell_type": "code",
   "execution_count": 4,
   "id": "4a8d8687",
   "metadata": {
    "scrolled": true
   },
   "outputs": [
    {
     "ename": "KeyError",
     "evalue": "'Ngày'",
     "output_type": "error",
     "traceback": [
      "\u001b[1;31m---------------------------------------------------------------------------\u001b[0m",
      "\u001b[1;31mKeyError\u001b[0m                                  Traceback (most recent call last)",
      "\u001b[1;32m~\\anaconda3\\lib\\site-packages\\pandas\\core\\indexes\\base.py\u001b[0m in \u001b[0;36mget_loc\u001b[1;34m(self, key, method, tolerance)\u001b[0m\n\u001b[0;32m   3628\u001b[0m             \u001b[1;32mtry\u001b[0m\u001b[1;33m:\u001b[0m\u001b[1;33m\u001b[0m\u001b[1;33m\u001b[0m\u001b[0m\n\u001b[1;32m-> 3629\u001b[1;33m                 \u001b[1;32mreturn\u001b[0m \u001b[0mself\u001b[0m\u001b[1;33m.\u001b[0m\u001b[0m_engine\u001b[0m\u001b[1;33m.\u001b[0m\u001b[0mget_loc\u001b[0m\u001b[1;33m(\u001b[0m\u001b[0mcasted_key\u001b[0m\u001b[1;33m)\u001b[0m\u001b[1;33m\u001b[0m\u001b[1;33m\u001b[0m\u001b[0m\n\u001b[0m\u001b[0;32m   3630\u001b[0m             \u001b[1;32mexcept\u001b[0m \u001b[0mKeyError\u001b[0m \u001b[1;32mas\u001b[0m \u001b[0merr\u001b[0m\u001b[1;33m:\u001b[0m\u001b[1;33m\u001b[0m\u001b[1;33m\u001b[0m\u001b[0m\n",
      "\u001b[1;32m~\\anaconda3\\lib\\site-packages\\pandas\\_libs\\index.pyx\u001b[0m in \u001b[0;36mpandas._libs.index.IndexEngine.get_loc\u001b[1;34m()\u001b[0m\n",
      "\u001b[1;32m~\\anaconda3\\lib\\site-packages\\pandas\\_libs\\index.pyx\u001b[0m in \u001b[0;36mpandas._libs.index.IndexEngine.get_loc\u001b[1;34m()\u001b[0m\n",
      "\u001b[1;32mpandas\\_libs\\hashtable_class_helper.pxi\u001b[0m in \u001b[0;36mpandas._libs.hashtable.PyObjectHashTable.get_item\u001b[1;34m()\u001b[0m\n",
      "\u001b[1;32mpandas\\_libs\\hashtable_class_helper.pxi\u001b[0m in \u001b[0;36mpandas._libs.hashtable.PyObjectHashTable.get_item\u001b[1;34m()\u001b[0m\n",
      "\u001b[1;31mKeyError\u001b[0m: 'Ngày'",
      "\nThe above exception was the direct cause of the following exception:\n",
      "\u001b[1;31mKeyError\u001b[0m                                  Traceback (most recent call last)",
      "\u001b[1;32m~\\AppData\\Local\\Temp\\ipykernel_3444\\3527908677.py\u001b[0m in \u001b[0;36m<module>\u001b[1;34m\u001b[0m\n\u001b[1;32m----> 1\u001b[1;33m \u001b[0mfuel_data\u001b[0m\u001b[1;33m[\u001b[0m\u001b[1;34m\"Ngày\"\u001b[0m\u001b[1;33m]\u001b[0m \u001b[1;33m=\u001b[0m \u001b[0mpd\u001b[0m\u001b[1;33m.\u001b[0m\u001b[0mto_datetime\u001b[0m\u001b[1;33m(\u001b[0m\u001b[0mfuel_data\u001b[0m\u001b[1;33m[\u001b[0m\u001b[1;34m\"Ngày\"\u001b[0m\u001b[1;33m]\u001b[0m\u001b[1;33m,\u001b[0m \u001b[0mformat\u001b[0m\u001b[1;33m=\u001b[0m\u001b[1;34m\"%d.%m.%Y\"\u001b[0m\u001b[1;33m)\u001b[0m\u001b[1;33m\u001b[0m\u001b[1;33m\u001b[0m\u001b[0m\n\u001b[0m\u001b[0;32m      2\u001b[0m \u001b[1;31m# reverse the order\u001b[0m\u001b[1;33m\u001b[0m\u001b[1;33m\u001b[0m\u001b[0m\n\u001b[0;32m      3\u001b[0m \u001b[0mfuel_data\u001b[0m \u001b[1;33m=\u001b[0m \u001b[0mfuel_data\u001b[0m\u001b[1;33m[\u001b[0m\u001b[1;33m:\u001b[0m\u001b[1;33m:\u001b[0m\u001b[1;33m-\u001b[0m\u001b[1;36m1\u001b[0m\u001b[1;33m]\u001b[0m\u001b[1;33m\u001b[0m\u001b[1;33m\u001b[0m\u001b[0m\n\u001b[0;32m      4\u001b[0m \u001b[0mfuel_data\u001b[0m\u001b[1;33m.\u001b[0m\u001b[0mhead\u001b[0m\u001b[1;33m(\u001b[0m\u001b[1;33m)\u001b[0m\u001b[1;33m\u001b[0m\u001b[1;33m\u001b[0m\u001b[0m\n",
      "\u001b[1;32m~\\anaconda3\\lib\\site-packages\\pandas\\core\\frame.py\u001b[0m in \u001b[0;36m__getitem__\u001b[1;34m(self, key)\u001b[0m\n\u001b[0;32m   3503\u001b[0m             \u001b[1;32mif\u001b[0m \u001b[0mself\u001b[0m\u001b[1;33m.\u001b[0m\u001b[0mcolumns\u001b[0m\u001b[1;33m.\u001b[0m\u001b[0mnlevels\u001b[0m \u001b[1;33m>\u001b[0m \u001b[1;36m1\u001b[0m\u001b[1;33m:\u001b[0m\u001b[1;33m\u001b[0m\u001b[1;33m\u001b[0m\u001b[0m\n\u001b[0;32m   3504\u001b[0m                 \u001b[1;32mreturn\u001b[0m \u001b[0mself\u001b[0m\u001b[1;33m.\u001b[0m\u001b[0m_getitem_multilevel\u001b[0m\u001b[1;33m(\u001b[0m\u001b[0mkey\u001b[0m\u001b[1;33m)\u001b[0m\u001b[1;33m\u001b[0m\u001b[1;33m\u001b[0m\u001b[0m\n\u001b[1;32m-> 3505\u001b[1;33m             \u001b[0mindexer\u001b[0m \u001b[1;33m=\u001b[0m \u001b[0mself\u001b[0m\u001b[1;33m.\u001b[0m\u001b[0mcolumns\u001b[0m\u001b[1;33m.\u001b[0m\u001b[0mget_loc\u001b[0m\u001b[1;33m(\u001b[0m\u001b[0mkey\u001b[0m\u001b[1;33m)\u001b[0m\u001b[1;33m\u001b[0m\u001b[1;33m\u001b[0m\u001b[0m\n\u001b[0m\u001b[0;32m   3506\u001b[0m             \u001b[1;32mif\u001b[0m \u001b[0mis_integer\u001b[0m\u001b[1;33m(\u001b[0m\u001b[0mindexer\u001b[0m\u001b[1;33m)\u001b[0m\u001b[1;33m:\u001b[0m\u001b[1;33m\u001b[0m\u001b[1;33m\u001b[0m\u001b[0m\n\u001b[0;32m   3507\u001b[0m                 \u001b[0mindexer\u001b[0m \u001b[1;33m=\u001b[0m \u001b[1;33m[\u001b[0m\u001b[0mindexer\u001b[0m\u001b[1;33m]\u001b[0m\u001b[1;33m\u001b[0m\u001b[1;33m\u001b[0m\u001b[0m\n",
      "\u001b[1;32m~\\anaconda3\\lib\\site-packages\\pandas\\core\\indexes\\base.py\u001b[0m in \u001b[0;36mget_loc\u001b[1;34m(self, key, method, tolerance)\u001b[0m\n\u001b[0;32m   3629\u001b[0m                 \u001b[1;32mreturn\u001b[0m \u001b[0mself\u001b[0m\u001b[1;33m.\u001b[0m\u001b[0m_engine\u001b[0m\u001b[1;33m.\u001b[0m\u001b[0mget_loc\u001b[0m\u001b[1;33m(\u001b[0m\u001b[0mcasted_key\u001b[0m\u001b[1;33m)\u001b[0m\u001b[1;33m\u001b[0m\u001b[1;33m\u001b[0m\u001b[0m\n\u001b[0;32m   3630\u001b[0m             \u001b[1;32mexcept\u001b[0m \u001b[0mKeyError\u001b[0m \u001b[1;32mas\u001b[0m \u001b[0merr\u001b[0m\u001b[1;33m:\u001b[0m\u001b[1;33m\u001b[0m\u001b[1;33m\u001b[0m\u001b[0m\n\u001b[1;32m-> 3631\u001b[1;33m                 \u001b[1;32mraise\u001b[0m \u001b[0mKeyError\u001b[0m\u001b[1;33m(\u001b[0m\u001b[0mkey\u001b[0m\u001b[1;33m)\u001b[0m \u001b[1;32mfrom\u001b[0m \u001b[0merr\u001b[0m\u001b[1;33m\u001b[0m\u001b[1;33m\u001b[0m\u001b[0m\n\u001b[0m\u001b[0;32m   3632\u001b[0m             \u001b[1;32mexcept\u001b[0m \u001b[0mTypeError\u001b[0m\u001b[1;33m:\u001b[0m\u001b[1;33m\u001b[0m\u001b[1;33m\u001b[0m\u001b[0m\n\u001b[0;32m   3633\u001b[0m                 \u001b[1;31m# If we have a listlike key, _check_indexing_error will raise\u001b[0m\u001b[1;33m\u001b[0m\u001b[1;33m\u001b[0m\u001b[0m\n",
      "\u001b[1;31mKeyError\u001b[0m: 'Ngày'"
     ]
    }
   ],
   "source": [
    "fuel_data[\"Ngày\"] = pd.to_datetime(fuel_data[\"Ngày\"], format=\"%d.%m.%Y\")\n",
    "# reverse the order\n",
    "fuel_data = fuel_data[::-1]\n",
    "fuel_data.head()"
   ]
  },
  {
   "cell_type": "markdown",
   "id": "a9cfd5ec",
   "metadata": {},
   "source": [
    "### Filter Weather Data"
   ]
  },
  {
   "cell_type": "code",
   "execution_count": null,
   "id": "e2447c82",
   "metadata": {
    "scrolled": true
   },
   "outputs": [],
   "source": [
    "weather_data[\"time\"] = pd.to_datetime(weather_data[\"time\"], format=\"%d.%m.%Y\")\n",
    "weather_data.head()"
   ]
  },
  {
   "cell_type": "markdown",
   "id": "573be20f",
   "metadata": {},
   "source": [
    "<h1><center>-------------------------------------- Calculate Weather --------------------------------------</center></h1>"
   ]
  },
  {
   "cell_type": "code",
   "execution_count": null,
   "id": "dd632a73",
   "metadata": {},
   "outputs": [],
   "source": [
    "# 2020\n",
    "year2020 = (weather_data['time'] >= '2020-1-1') & (weather_data['time'] <= '2020-12-31')\n",
    "df2 = weather_data.loc[year2020]\n",
    "# total precipitation\n",
    "prec2020 = df2[\"precipitation_sum (mm)\"].sum()\n",
    "\n",
    "# 2021\n",
    "year2021 = (weather_data['time'] >= '2021-1-1') & (weather_data['time'] <= '2021-12-31')\n",
    "df2 = weather_data.loc[year2021]\n",
    "# total precipitation\n",
    "prec2021 = df2[\"precipitation_sum (mm)\"].sum()\n",
    "\n",
    "#2022\n",
    "year2022 = (weather_data['time'] >= '2022-1-1') & (weather_data['time'] <= '2022-12-31')\n",
    "df2 = weather_data.loc[year2022]\n",
    "# total precipitation\n",
    "prec2022 = df2[\"precipitation_sum (mm)\"].sum()"
   ]
  },
  {
   "cell_type": "markdown",
   "id": "f71238f8",
   "metadata": {},
   "source": [
    "<h1><center>-------------------------------------- Merge Data --------------------------------------</center></h1>"
   ]
  },
  {
   "cell_type": "code",
   "execution_count": null,
   "id": "7e915168",
   "metadata": {},
   "outputs": [],
   "source": [
    "# Merge the dataframes with an outer join\n",
    "merged_df = pd.merge(coffee_data, fuel_data, left_on='Ngày', right_on='Ngày', how=\"outer\")\n",
    "\n",
    "# Fill missing dates from both datasets with each other\n",
    "merged_df.fillna(method='bfill', inplace=True)"
   ]
  },
  {
   "cell_type": "code",
   "execution_count": null,
   "id": "ea4de2c1",
   "metadata": {},
   "outputs": [],
   "source": [
    "# Create new columns\n",
    "merged_df['Precipitation (mm)'] = \"\""
   ]
  },
  {
   "cell_type": "code",
   "execution_count": null,
   "id": "20acf051",
   "metadata": {},
   "outputs": [],
   "source": [
    "# Fill in weather value\n",
    "\n",
    "# precipitation\n",
    "merged_df['Precipitation (mm)'] = np.where(merged_df['Ngày'] >= '2021-1-1', prec2020, merged_df['Precipitation (mm)'])\n",
    "merged_df['Precipitation (mm)'] = np.where(merged_df['Ngày'] >= '2022-1-1', prec2021, merged_df['Precipitation (mm)'])\n",
    "merged_df['Precipitation (mm)'] = np.where(merged_df['Ngày'] >= '2023-1-1', prec2022, merged_df['Precipitation (mm)'])"
   ]
  },
  {
   "cell_type": "code",
   "execution_count": null,
   "id": "fe34e25c",
   "metadata": {
    "scrolled": false
   },
   "outputs": [],
   "source": [
    "# Drop NA rows\n",
    "merged_df = merged_df.dropna()\n",
    "data = merged_df\n",
    "\n",
    "# convert to float\n",
    "data['Precipitation (mm)'] = data['Precipitation (mm)'].astype(float)"
   ]
  },
  {
   "cell_type": "markdown",
   "id": "1e5328a0",
   "metadata": {},
   "source": [
    "<h1><center>-------------------------------------- Outlier Chart --------------------------------------</center></h1>"
   ]
  },
  {
   "cell_type": "code",
   "execution_count": null,
   "id": "98a3b1ca",
   "metadata": {
    "scrolled": false
   },
   "outputs": [],
   "source": [
    "boxplot = data.boxplot()  # draw chart"
   ]
  },
  {
   "cell_type": "code",
   "execution_count": null,
   "id": "98b11cae",
   "metadata": {},
   "outputs": [],
   "source": [
    "# further inspecting coffee outliers\n",
    "boxplot = coffee_data.boxplot()  "
   ]
  },
  {
   "cell_type": "code",
   "execution_count": null,
   "id": "06a98f5a",
   "metadata": {},
   "outputs": [],
   "source": [
    "# detecting outliers\n",
    "outlier = np.where(coffee_data['Giá Cà Phê'] > 50000)\n",
    "\n",
    "# removing outliers\n",
    "data.drop(index=outlier[0], inplace=True)"
   ]
  },
  {
   "cell_type": "markdown",
   "id": "17a091cb",
   "metadata": {},
   "source": [
    "<h1><center>-------------------------------------- Time Series Chart --------------------------------------</center></h1>"
   ]
  },
  {
   "cell_type": "code",
   "execution_count": null,
   "id": "97876508",
   "metadata": {},
   "outputs": [],
   "source": [
    "plt.figure(figsize=(15,7))\n",
    "\n",
    "sns.lineplot(x=\"Ngày\", y=\"Giá Cà Phê\", data=data, label='coffee')\n",
    "sns.lineplot(x=\"Ngày\", y=\"Giá Diesel 1 lít\", data=data, label='diesel')\n",
    "sns.lineplot(x=\"Ngày\", y=\"Precipitation (mm)\", data=data, label='percipitation')\n",
    "\n",
    "# set label\n",
    "plt.ylabel(\"Values\")"
   ]
  },
  {
   "cell_type": "markdown",
   "id": "c67e27aa",
   "metadata": {},
   "source": [
    "<h1><center>-------------------------------------- Correlation --------------------------------------</center></h1>"
   ]
  },
  {
   "cell_type": "code",
   "execution_count": null,
   "id": "650b0c70",
   "metadata": {
    "scrolled": false
   },
   "outputs": [],
   "source": [
    "# # Use heatmap to identify correlation between variables\n",
    "f, ax = plt.subplots(figsize = (10, 5))\n",
    "corr = data.corr()\n",
    "ax = sns.heatmap(\n",
    "    corr, vmin = -1, vmax = 1, center = 0, annot = True,\n",
    "    cmap = sns.diverging_palette(20, 220, n = 200),\n",
    "    square = False\n",
    ")\n",
    "ax.set_xticklabels(ax.get_xticklabels(), rotation = 90, horizontalalignment = 'right');"
   ]
  },
  {
   "cell_type": "markdown",
   "id": "60c68f88",
   "metadata": {},
   "source": [
    "<h1><center>-------------------------------------- Write to file --------------------------------------</center></h1>"
   ]
  },
  {
   "cell_type": "code",
   "execution_count": null,
   "id": "a61ca213",
   "metadata": {},
   "outputs": [],
   "source": [
    "# Export the final dataset to excel\n",
    "data.to_excel('Dataset/data.xlsx', index=False)"
   ]
  }
 ],
 "metadata": {
  "kernelspec": {
   "display_name": "Python 3 (ipykernel)",
   "language": "python",
   "name": "python3"
  },
  "language_info": {
   "codemirror_mode": {
    "name": "ipython",
    "version": 3
   },
   "file_extension": ".py",
   "mimetype": "text/x-python",
   "name": "python",
   "nbconvert_exporter": "python",
   "pygments_lexer": "ipython3",
   "version": "3.9.13"
  }
 },
 "nbformat": 4,
 "nbformat_minor": 5
}
