{
 "cells": [
  {
   "cell_type": "code",
   "execution_count": 22,
   "metadata": {},
   "outputs": [],
   "source": [
    "import pandas as pd\n",
    "from pmdarima import auto_arima\n",
    "from sklearn.model_selection import train_test_split"
   ]
  },
  {
   "cell_type": "code",
   "execution_count": 18,
   "metadata": {},
   "outputs": [],
   "source": [
    "pd.read_excel('./coffee_data.xlsx').to_csv('./coffee_data.csv', index=None, header=True)"
   ]
  },
  {
   "cell_type": "code",
   "execution_count": 19,
   "metadata": {},
   "outputs": [],
   "source": [
    "df = pd.DataFrame(pd.read_csv('./coffee_data.csv', index_col=\"Ngày\", parse_dates=True))\n",
    "df = df.asfreq('D')"
   ]
  },
  {
   "cell_type": "code",
   "execution_count": 20,
   "metadata": {},
   "outputs": [],
   "source": [
    "df['Tên_mặt_hàng'].fillna('Cà phê Robusta nhân xô', inplace=True)\n",
    "df['Đơn_vị_tính'].fillna('VNĐ/kg', inplace=True)\n",
    "df['Loại_giá'].fillna('Thu mua', inplace=True)\n",
    "df['Giá'].fillna(df['Giá'].resample('1D').mean().ffill(), inplace=True)\n",
    "df['Loại_tiền'].fillna('VNĐ', inplace=True)\n",
    "df['Đơn_vị_tính'] = 'VNĐ/kg'"
   ]
  },
  {
   "cell_type": "code",
   "execution_count": 24,
   "metadata": {},
   "outputs": [
    {
     "data": {
      "text/html": [
       "<div>\n",
       "<style scoped>\n",
       "    .dataframe tbody tr th:only-of-type {\n",
       "        vertical-align: middle;\n",
       "    }\n",
       "\n",
       "    .dataframe tbody tr th {\n",
       "        vertical-align: top;\n",
       "    }\n",
       "\n",
       "    .dataframe thead th {\n",
       "        text-align: right;\n",
       "    }\n",
       "</style>\n",
       "<table border=\"1\" class=\"dataframe\">\n",
       "  <thead>\n",
       "    <tr style=\"text-align: right;\">\n",
       "      <th></th>\n",
       "      <th>Tên_mặt_hàng</th>\n",
       "      <th>Đơn_vị_tính</th>\n",
       "      <th>Loại_giá</th>\n",
       "      <th>Loại_tiền</th>\n",
       "      <th>Giá</th>\n",
       "    </tr>\n",
       "    <tr>\n",
       "      <th>Ngày</th>\n",
       "      <th></th>\n",
       "      <th></th>\n",
       "      <th></th>\n",
       "      <th></th>\n",
       "      <th></th>\n",
       "    </tr>\n",
       "  </thead>\n",
       "  <tbody>\n",
       "    <tr>\n",
       "      <th>2021-01-01</th>\n",
       "      <td>Cà phê Robusta nhân xô</td>\n",
       "      <td>VNĐ/kg</td>\n",
       "      <td>Thu mua</td>\n",
       "      <td>VNĐ</td>\n",
       "      <td>31667.5</td>\n",
       "    </tr>\n",
       "    <tr>\n",
       "      <th>2021-01-02</th>\n",
       "      <td>Cà phê Robusta nhân xô</td>\n",
       "      <td>VNĐ/kg</td>\n",
       "      <td>Thu mua</td>\n",
       "      <td>VNĐ</td>\n",
       "      <td>31667.5</td>\n",
       "    </tr>\n",
       "    <tr>\n",
       "      <th>2021-01-03</th>\n",
       "      <td>Cà phê Robusta nhân xô</td>\n",
       "      <td>VNĐ/kg</td>\n",
       "      <td>Thu mua</td>\n",
       "      <td>VNĐ</td>\n",
       "      <td>31667.5</td>\n",
       "    </tr>\n",
       "    <tr>\n",
       "      <th>2021-01-04</th>\n",
       "      <td>Cà phê Robusta nhân xô</td>\n",
       "      <td>VNĐ/kg</td>\n",
       "      <td>Thu mua</td>\n",
       "      <td>VNĐ</td>\n",
       "      <td>32717.0</td>\n",
       "    </tr>\n",
       "    <tr>\n",
       "      <th>2021-01-05</th>\n",
       "      <td>Cà phê Robusta nhân xô</td>\n",
       "      <td>VNĐ/kg</td>\n",
       "      <td>Thu mua</td>\n",
       "      <td>VNĐ</td>\n",
       "      <td>32417.0</td>\n",
       "    </tr>\n",
       "    <tr>\n",
       "      <th>...</th>\n",
       "      <td>...</td>\n",
       "      <td>...</td>\n",
       "      <td>...</td>\n",
       "      <td>...</td>\n",
       "      <td>...</td>\n",
       "    </tr>\n",
       "    <tr>\n",
       "      <th>2023-05-15</th>\n",
       "      <td>Cà phê Robusta nhân xô</td>\n",
       "      <td>VNĐ/kg</td>\n",
       "      <td>Thu mua</td>\n",
       "      <td>VNĐ</td>\n",
       "      <td>55566.5</td>\n",
       "    </tr>\n",
       "    <tr>\n",
       "      <th>2023-05-16</th>\n",
       "      <td>Cà phê Robusta nhân xô</td>\n",
       "      <td>VNĐ/kg</td>\n",
       "      <td>Thu mua</td>\n",
       "      <td>VNĐ</td>\n",
       "      <td>56066.5</td>\n",
       "    </tr>\n",
       "    <tr>\n",
       "      <th>2023-05-17</th>\n",
       "      <td>Cà phê Robusta nhân xô</td>\n",
       "      <td>VNĐ/kg</td>\n",
       "      <td>Thu mua</td>\n",
       "      <td>VNĐ</td>\n",
       "      <td>56666.5</td>\n",
       "    </tr>\n",
       "    <tr>\n",
       "      <th>2023-05-18</th>\n",
       "      <td>Cà phê Robusta nhân xô</td>\n",
       "      <td>VNĐ/kg</td>\n",
       "      <td>Thu mua</td>\n",
       "      <td>VNĐ</td>\n",
       "      <td>57000.0</td>\n",
       "    </tr>\n",
       "    <tr>\n",
       "      <th>2023-05-19</th>\n",
       "      <td>Cà phê Robusta nhân xô</td>\n",
       "      <td>VNĐ/kg</td>\n",
       "      <td>Thu mua</td>\n",
       "      <td>VNĐ</td>\n",
       "      <td>57500.0</td>\n",
       "    </tr>\n",
       "  </tbody>\n",
       "</table>\n",
       "<p>869 rows × 5 columns</p>\n",
       "</div>"
      ],
      "text/plain": [
       "                      Tên_mặt_hàng Đơn_vị_tính Loại_giá Loại_tiền      Giá\n",
       "Ngày                                                                      \n",
       "2021-01-01  Cà phê Robusta nhân xô      VNĐ/kg  Thu mua       VNĐ  31667.5\n",
       "2021-01-02  Cà phê Robusta nhân xô      VNĐ/kg  Thu mua       VNĐ  31667.5\n",
       "2021-01-03  Cà phê Robusta nhân xô      VNĐ/kg  Thu mua       VNĐ  31667.5\n",
       "2021-01-04  Cà phê Robusta nhân xô      VNĐ/kg  Thu mua       VNĐ  32717.0\n",
       "2021-01-05  Cà phê Robusta nhân xô      VNĐ/kg  Thu mua       VNĐ  32417.0\n",
       "...                            ...         ...      ...       ...      ...\n",
       "2023-05-15  Cà phê Robusta nhân xô      VNĐ/kg  Thu mua       VNĐ  55566.5\n",
       "2023-05-16  Cà phê Robusta nhân xô      VNĐ/kg  Thu mua       VNĐ  56066.5\n",
       "2023-05-17  Cà phê Robusta nhân xô      VNĐ/kg  Thu mua       VNĐ  56666.5\n",
       "2023-05-18  Cà phê Robusta nhân xô      VNĐ/kg  Thu mua       VNĐ  57000.0\n",
       "2023-05-19  Cà phê Robusta nhân xô      VNĐ/kg  Thu mua       VNĐ  57500.0\n",
       "\n",
       "[869 rows x 5 columns]"
      ]
     },
     "execution_count": 24,
     "metadata": {},
     "output_type": "execute_result"
    }
   ],
   "source": [
    "df"
   ]
  },
  {
   "cell_type": "code",
   "execution_count": 36,
   "metadata": {},
   "outputs": [],
   "source": [
    "X = df.iloc[:, :-1]\n",
    "y = df['Giá']"
   ]
  },
  {
   "cell_type": "code",
   "execution_count": 47,
   "metadata": {},
   "outputs": [],
   "source": [
    "X_train, X_test, y_train, y_test = train_test_split(X, y, test_size=0.2, shuffle=False)"
   ]
  },
  {
   "cell_type": "code",
   "execution_count": 54,
   "metadata": {},
   "outputs": [],
   "source": [
    "model = auto_arima(y_train, start_p=1, start_q=1,)"
   ]
  },
  {
   "cell_type": "code",
   "execution_count": null,
   "metadata": {},
   "outputs": [],
   "source": []
  }
 ],
 "metadata": {
  "kernelspec": {
   "display_name": "venv",
   "language": "python",
   "name": "python3"
  },
  "language_info": {
   "codemirror_mode": {
    "name": "ipython",
    "version": 3
   },
   "file_extension": ".py",
   "mimetype": "text/x-python",
   "name": "python",
   "nbconvert_exporter": "python",
   "pygments_lexer": "ipython3",
   "version": "3.11.1"
  },
  "orig_nbformat": 4
 },
 "nbformat": 4,
 "nbformat_minor": 2
}
