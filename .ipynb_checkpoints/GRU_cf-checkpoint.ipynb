{
 "cells": [
  {
   "cell_type": "markdown",
   "id": "cda77ca2",
   "metadata": {},
   "source": [
    "# Import Libraries"
   ]
  },
  {
   "cell_type": "code",
   "execution_count": 1,
   "id": "b1615044",
   "metadata": {},
   "outputs": [],
   "source": [
    "import pandas as pd\n",
    "import numpy as np\n",
    "import sklearn\n",
    "from math import sqrt\n",
    "from numpy import concatenate\n",
    "from matplotlib import pyplot\n",
    "from pandas import read_csv\n",
    "from pandas import DataFrame\n",
    "from pandas import concat\n",
    "from sklearn.preprocessing import MinMaxScaler\n",
    "from sklearn.preprocessing import LabelEncoder\n",
    "from sklearn.metrics import mean_squared_error\n",
    "from keras.models import Sequential\n",
    "from keras.layers import Dense\n",
    "from keras.layers import LSTM, GRU\n",
    "import tensorflow as tf\n",
    "from datetime import datetime\n",
    "import seaborn as sns\n",
    "import tensorflow as tf\n",
    "import matplotlib.pyplot as plt\n",
    "\n",
    "from math import sqrt\n",
    "from pandas import concat\n",
    "from datetime import datetime\n",
    "from matplotlib import pyplot\n",
    "from keras.models import Sequential\n",
    "from numpy import concatenate, asarray\n",
    "from keras.layers import Dense, Dropout, LSTM\n",
    "from sklearn.metrics import mean_squared_error\n",
    "from sklearn.preprocessing import MinMaxScaler\n",
    "from sklearn.model_selection import train_test_split"
   ]
  },
  {
   "cell_type": "markdown",
   "id": "c8ca6f24",
   "metadata": {},
   "source": [
    "# ---------- Data Pre-Processing -----------"
   ]
  },
  {
   "cell_type": "code",
   "execution_count": 2,
   "id": "1352f3ed",
   "metadata": {},
   "outputs": [],
   "source": [
    "coffee_data = pd.read_excel('coffee_data.xlsx')\n",
    "fuel_data = pd.read_excel('fuel_data.xlsx')\n",
    "weather_data = pd.read_excel('BuonMaThuot.xlsx')\n",
    "#tomato_data = pd.read_excel('tomato_data.xls')"
   ]
  },
  {
   "cell_type": "markdown",
   "id": "b82e0626",
   "metadata": {},
   "source": [
    "### Filter Coffee data"
   ]
  },
  {
   "cell_type": "code",
   "execution_count": 3,
   "id": "24b349fa",
   "metadata": {},
   "outputs": [
    {
     "data": {
      "text/html": [
       "<div>\n",
       "<style scoped>\n",
       "    .dataframe tbody tr th:only-of-type {\n",
       "        vertical-align: middle;\n",
       "    }\n",
       "\n",
       "    .dataframe tbody tr th {\n",
       "        vertical-align: top;\n",
       "    }\n",
       "\n",
       "    .dataframe thead th {\n",
       "        text-align: right;\n",
       "    }\n",
       "</style>\n",
       "<table border=\"1\" class=\"dataframe\">\n",
       "  <thead>\n",
       "    <tr style=\"text-align: right;\">\n",
       "      <th></th>\n",
       "      <th>Ngày</th>\n",
       "      <th>Giá Cà Phê</th>\n",
       "    </tr>\n",
       "  </thead>\n",
       "  <tbody>\n",
       "    <tr>\n",
       "      <th>0</th>\n",
       "      <td>2021-01-01</td>\n",
       "      <td>31667.5</td>\n",
       "    </tr>\n",
       "    <tr>\n",
       "      <th>1</th>\n",
       "      <td>2021-01-02</td>\n",
       "      <td>31667.5</td>\n",
       "    </tr>\n",
       "    <tr>\n",
       "      <th>2</th>\n",
       "      <td>2021-01-03</td>\n",
       "      <td>31667.5</td>\n",
       "    </tr>\n",
       "    <tr>\n",
       "      <th>3</th>\n",
       "      <td>2021-01-04</td>\n",
       "      <td>32717.0</td>\n",
       "    </tr>\n",
       "    <tr>\n",
       "      <th>4</th>\n",
       "      <td>2021-01-05</td>\n",
       "      <td>32417.0</td>\n",
       "    </tr>\n",
       "  </tbody>\n",
       "</table>\n",
       "</div>"
      ],
      "text/plain": [
       "        Ngày  Giá Cà Phê\n",
       "0 2021-01-01     31667.5\n",
       "1 2021-01-02     31667.5\n",
       "2 2021-01-03     31667.5\n",
       "3 2021-01-04     32717.0\n",
       "4 2021-01-05     32417.0"
      ]
     },
     "execution_count": 3,
     "metadata": {},
     "output_type": "execute_result"
    }
   ],
   "source": [
    "coffee_data['Ngày'] = pd.to_datetime(coffee_data['Ngày'])\n",
    "coffee_data = coffee_data.set_index('Ngày').resample('D').ffill().reset_index()\n",
    "coffee_data.head(5)"
   ]
  },
  {
   "cell_type": "markdown",
   "id": "f71238f8",
   "metadata": {},
   "source": [
    "# ---------- Merge Data ----------"
   ]
  },
  {
   "cell_type": "code",
   "execution_count": 4,
   "id": "7e915168",
   "metadata": {},
   "outputs": [],
   "source": [
    "# # Merge the dataframes with an outer join\n",
    "# merged_df = pd.merge(coffee_data, fuel_data, left_on='Ngày', right_on='Ngày', how=\"outer\")\n",
    "\n",
    "# # Fill missing dates from both datasets with each other\n",
    "# merged_df.fillna(method='bfill', inplace=True)"
   ]
  },
  {
   "cell_type": "code",
   "execution_count": 5,
   "id": "fe34e25c",
   "metadata": {
    "scrolled": false
   },
   "outputs": [
    {
     "data": {
      "text/html": [
       "<div>\n",
       "<style scoped>\n",
       "    .dataframe tbody tr th:only-of-type {\n",
       "        vertical-align: middle;\n",
       "    }\n",
       "\n",
       "    .dataframe tbody tr th {\n",
       "        vertical-align: top;\n",
       "    }\n",
       "\n",
       "    .dataframe thead th {\n",
       "        text-align: right;\n",
       "    }\n",
       "</style>\n",
       "<table border=\"1\" class=\"dataframe\">\n",
       "  <thead>\n",
       "    <tr style=\"text-align: right;\">\n",
       "      <th></th>\n",
       "      <th>Ngày</th>\n",
       "      <th>Giá Cà Phê</th>\n",
       "    </tr>\n",
       "  </thead>\n",
       "  <tbody>\n",
       "    <tr>\n",
       "      <th>0</th>\n",
       "      <td>2021-01-01</td>\n",
       "      <td>31667.5</td>\n",
       "    </tr>\n",
       "    <tr>\n",
       "      <th>1</th>\n",
       "      <td>2021-01-02</td>\n",
       "      <td>31667.5</td>\n",
       "    </tr>\n",
       "    <tr>\n",
       "      <th>2</th>\n",
       "      <td>2021-01-03</td>\n",
       "      <td>31667.5</td>\n",
       "    </tr>\n",
       "    <tr>\n",
       "      <th>3</th>\n",
       "      <td>2021-01-04</td>\n",
       "      <td>32717.0</td>\n",
       "    </tr>\n",
       "    <tr>\n",
       "      <th>4</th>\n",
       "      <td>2021-01-05</td>\n",
       "      <td>32417.0</td>\n",
       "    </tr>\n",
       "    <tr>\n",
       "      <th>...</th>\n",
       "      <td>...</td>\n",
       "      <td>...</td>\n",
       "    </tr>\n",
       "    <tr>\n",
       "      <th>864</th>\n",
       "      <td>2023-05-15</td>\n",
       "      <td>55566.5</td>\n",
       "    </tr>\n",
       "    <tr>\n",
       "      <th>865</th>\n",
       "      <td>2023-05-16</td>\n",
       "      <td>56066.5</td>\n",
       "    </tr>\n",
       "    <tr>\n",
       "      <th>866</th>\n",
       "      <td>2023-05-17</td>\n",
       "      <td>56666.5</td>\n",
       "    </tr>\n",
       "    <tr>\n",
       "      <th>867</th>\n",
       "      <td>2023-05-18</td>\n",
       "      <td>57000.0</td>\n",
       "    </tr>\n",
       "    <tr>\n",
       "      <th>868</th>\n",
       "      <td>2023-05-19</td>\n",
       "      <td>57500.0</td>\n",
       "    </tr>\n",
       "  </tbody>\n",
       "</table>\n",
       "<p>869 rows × 2 columns</p>\n",
       "</div>"
      ],
      "text/plain": [
       "          Ngày  Giá Cà Phê\n",
       "0   2021-01-01     31667.5\n",
       "1   2021-01-02     31667.5\n",
       "2   2021-01-03     31667.5\n",
       "3   2021-01-04     32717.0\n",
       "4   2021-01-05     32417.0\n",
       "..         ...         ...\n",
       "864 2023-05-15     55566.5\n",
       "865 2023-05-16     56066.5\n",
       "866 2023-05-17     56666.5\n",
       "867 2023-05-18     57000.0\n",
       "868 2023-05-19     57500.0\n",
       "\n",
       "[869 rows x 2 columns]"
      ]
     },
     "execution_count": 5,
     "metadata": {},
     "output_type": "execute_result"
    }
   ],
   "source": [
    "# merged_df = merged_df.dropna() # Drop N/A rows\n",
    "data = coffee_data.dropna()\n",
    "\n",
    "# final dataset\n",
    "data"
   ]
  },
  {
   "cell_type": "markdown",
   "id": "c67e27aa",
   "metadata": {},
   "source": [
    "# ---------- Data Visualization ----------"
   ]
  },
  {
   "cell_type": "code",
   "execution_count": 6,
   "id": "650b0c70",
   "metadata": {
    "scrolled": false
   },
   "outputs": [
    {
     "data": {
      "image/png": "[encoded data removed]",
      "text/plain": [
       "<Figure size 1000x500 with 2 Axes>"
      ]
     },
     "metadata": {},
     "output_type": "display_data"
    }
   ],
   "source": [
    "# # Use heatmap to identify correlation between variables\n",
    "f, ax = plt.subplots(figsize = (10, 5))\n",
    "corr = data.corr()\n",
    "ax = sns.heatmap(\n",
    "    corr, vmin = -1, vmax = 1, center = 0, annot = True,\n",
    "    cmap = sns.diverging_palette(20, 220, n = 200),\n",
    "    square = False\n",
    ")\n",
    "ax.set_xticklabels(ax.get_xticklabels(), rotation = 90, horizontalalignment = 'right');"
   ]
  },
  {
   "cell_type": "code",
   "execution_count": 7,
   "id": "44b1072c",
   "metadata": {},
   "outputs": [],
   "source": [
    "# fix random seed for reproducibility\n",
    "tf.random.set_seed(7)"
   ]
  },
  {
   "cell_type": "markdown",
   "id": "b99e8b43",
   "metadata": {},
   "source": [
    "# ----- Normalization -----"
   ]
  },
  {
   "cell_type": "code",
   "execution_count": 8,
   "id": "4fa5fe4a",
   "metadata": {},
   "outputs": [
    {
     "data": {
      "text/html": [
       "<div>\n",
       "<style scoped>\n",
       "    .dataframe tbody tr th:only-of-type {\n",
       "        vertical-align: middle;\n",
       "    }\n",
       "\n",
       "    .dataframe tbody tr th {\n",
       "        vertical-align: top;\n",
       "    }\n",
       "\n",
       "    .dataframe thead th {\n",
       "        text-align: right;\n",
       "    }\n",
       "</style>\n",
       "<table border=\"1\" class=\"dataframe\">\n",
       "  <thead>\n",
       "    <tr style=\"text-align: right;\">\n",
       "      <th></th>\n",
       "      <th>Giá Cà Phê</th>\n",
       "    </tr>\n",
       "  </thead>\n",
       "  <tbody>\n",
       "    <tr>\n",
       "      <th>0</th>\n",
       "      <td>31667.5</td>\n",
       "    </tr>\n",
       "    <tr>\n",
       "      <th>1</th>\n",
       "      <td>31667.5</td>\n",
       "    </tr>\n",
       "    <tr>\n",
       "      <th>2</th>\n",
       "      <td>31667.5</td>\n",
       "    </tr>\n",
       "    <tr>\n",
       "      <th>3</th>\n",
       "      <td>32717.0</td>\n",
       "    </tr>\n",
       "    <tr>\n",
       "      <th>4</th>\n",
       "      <td>32417.0</td>\n",
       "    </tr>\n",
       "    <tr>\n",
       "      <th>...</th>\n",
       "      <td>...</td>\n",
       "    </tr>\n",
       "    <tr>\n",
       "      <th>864</th>\n",
       "      <td>55566.5</td>\n",
       "    </tr>\n",
       "    <tr>\n",
       "      <th>865</th>\n",
       "      <td>56066.5</td>\n",
       "    </tr>\n",
       "    <tr>\n",
       "      <th>866</th>\n",
       "      <td>56666.5</td>\n",
       "    </tr>\n",
       "    <tr>\n",
       "      <th>867</th>\n",
       "      <td>57000.0</td>\n",
       "    </tr>\n",
       "    <tr>\n",
       "      <th>868</th>\n",
       "      <td>57500.0</td>\n",
       "    </tr>\n",
       "  </tbody>\n",
       "</table>\n",
       "<p>869 rows × 1 columns</p>\n",
       "</div>"
      ],
      "text/plain": [
       "     Giá Cà Phê\n",
       "0       31667.5\n",
       "1       31667.5\n",
       "2       31667.5\n",
       "3       32717.0\n",
       "4       32417.0\n",
       "..          ...\n",
       "864     55566.5\n",
       "865     56066.5\n",
       "866     56666.5\n",
       "867     57000.0\n",
       "868     57500.0\n",
       "\n",
       "[869 rows x 1 columns]"
      ]
     },
     "execution_count": 8,
     "metadata": {},
     "output_type": "execute_result"
    }
   ],
   "source": [
    "# drop date column\n",
    "data.drop(data.columns[[0]], axis=1, inplace=True)\n",
    "data.dropna()"
   ]
  },
  {
   "cell_type": "code",
   "execution_count": 9,
   "id": "648e2e0e",
   "metadata": {},
   "outputs": [],
   "source": [
    "# convert series to supervised learning\n",
    "def series_to_supervised(data, n_in, n_out, dropnan=True):\n",
    "    n_vars = 1 if type(data) is list else data.shape[1]\n",
    "    df = pd.DataFrame(data)\n",
    "    cols, names = list(), list()\n",
    "    # input sequence (t-n, ... t-1)\n",
    "    for i in range(n_in, 0, -1):\n",
    "        cols.append(df.shift(i))\n",
    "        names += [('var%d(t-%d)' % (j+1, i)) for j in range(n_vars)]\n",
    "    # forecast sequence (t, t+1, ... t+n)\n",
    "    for i in range(0, n_out):\n",
    "        cols.append(df.shift(-i))\n",
    "        if i == 0:\n",
    "            names += [('var%d(t)' % (j+1)) for j in range(n_vars)]\n",
    "        else:\n",
    "            names += [('var%d(t+%d)' % (j+1, i)) for j in range(n_vars)]\n",
    "    # put it all together\n",
    "    agg = concat(cols, axis=1)\n",
    "    agg.columns = names\n",
    "    # drop rows with NaN values\n",
    "    if dropnan:\n",
    "        agg.dropna(inplace=True)\n",
    "    return agg"
   ]
  },
  {
   "cell_type": "code",
   "execution_count": 10,
   "id": "bd5d5677",
   "metadata": {},
   "outputs": [],
   "source": [
    "# set number of days\n",
    "look_back = 7\n",
    "predict_ahead = 1 \n",
    "\n",
    "# frame as supervised learning\n",
    "reframed = series_to_supervised(data.values, look_back, predict_ahead)"
   ]
  },
  {
   "cell_type": "code",
   "execution_count": 11,
   "id": "cc501d3f",
   "metadata": {},
   "outputs": [],
   "source": [
    "# calculate total column to keep\n",
    "data_column = len(data.columns)\n",
    "keep_column = look_back * data_column + 1\n",
    "\n",
    "# drop columns we don't want to predict\n",
    "reframed = reframed.drop(reframed.iloc[:, keep_column::],axis = 1) \n",
    "dataset = reframed"
   ]
  },
  {
   "cell_type": "code",
   "execution_count": 12,
   "id": "37be6458",
   "metadata": {},
   "outputs": [
    {
     "data": {
      "text/plain": [
       "(862, 8)"
      ]
     },
     "execution_count": 12,
     "metadata": {},
     "output_type": "execute_result"
    }
   ],
   "source": [
    "# normalize features\n",
    "scaler = MinMaxScaler()\n",
    "scaled = scaler.fit_transform(reframed)\n",
    "scaled.shape"
   ]
  },
  {
   "cell_type": "markdown",
   "id": "9c1ab74e",
   "metadata": {},
   "source": [
    "# ---------- Split data ----------"
   ]
  },
  {
   "cell_type": "code",
   "execution_count": 13,
   "id": "4f43403b",
   "metadata": {},
   "outputs": [
    {
     "name": "stdout",
     "output_type": "stream",
     "text": [
      "689 173\n"
     ]
    }
   ],
   "source": [
    "dataset = scaled\n",
    "\n",
    "# split into train and test sets\n",
    "train_size = int(len(dataset) * 0.8)\n",
    "test_size = len(dataset) - train_size\n",
    "train, test = dataset[:train_size,:], dataset[train_size:len(dataset),:]\n",
    "\n",
    "print(len(train), len(test))"
   ]
  },
  {
   "cell_type": "code",
   "execution_count": 14,
   "id": "b1bd62ef",
   "metadata": {},
   "outputs": [
    {
     "name": "stdout",
     "output_type": "stream",
     "text": [
      "(689, 1, 7) (689,) (173, 1, 7) (173,)\n"
     ]
    }
   ],
   "source": [
    "# split into input and outputs\n",
    "train_X, train_y = train[:, :-1], train[:, -1]\n",
    "test_X, test_y = test[:, :-1], test[:, -1]\n",
    "\n",
    "# reshape input to be 3D [samples, timesteps, features]\n",
    "train_X = train_X.reshape((train_X.shape[0], 1, train_X.shape[1]))\n",
    "test_X = test_X.reshape((test_X.shape[0], 1, test_X.shape[1]))\n",
    "\n",
    "print(train_X.shape, train_y.shape, test_X.shape, test_y.shape)"
   ]
  },
  {
   "cell_type": "markdown",
   "id": "49b55ac6",
   "metadata": {},
   "source": [
    "# ---------- Train Model ----------"
   ]
  },
  {
   "cell_type": "code",
   "execution_count": 15,
   "id": "61f9827a",
   "metadata": {
    "scrolled": false
   },
   "outputs": [
    {
     "name": "stdout",
     "output_type": "stream",
     "text": [
      "Epoch 1/100\n",
      "11/11 [==============================] - 5s 83ms/step - loss: 0.2006 - val_loss: 0.2547\n",
      "Epoch 2/100\n",
      "11/11 [==============================] - 0s 5ms/step - loss: 0.0524 - val_loss: 0.0595\n",
      "Epoch 3/100\n",
      "11/11 [==============================] - 0s 5ms/step - loss: 0.1058 - val_loss: 0.0943\n",
      "Epoch 4/100\n",
      "11/11 [==============================] - 0s 5ms/step - loss: 0.0793 - val_loss: 0.0963\n",
      "Epoch 5/100\n",
      "11/11 [==============================] - 0s 5ms/step - loss: 0.0446 - val_loss: 0.0524\n",
      "Epoch 6/100\n",
      "11/11 [==============================] - 0s 5ms/step - loss: 0.0365 - val_loss: 0.0270\n",
      "Epoch 7/100\n",
      "11/11 [==============================] - 0s 5ms/step - loss: 0.0285 - val_loss: 0.0277\n",
      "Epoch 8/100\n",
      "11/11 [==============================] - 0s 5ms/step - loss: 0.0188 - val_loss: 0.0296\n",
      "Epoch 9/100\n",
      "11/11 [==============================] - 0s 5ms/step - loss: 0.0290 - val_loss: 0.0194\n",
      "Epoch 10/100\n",
      "11/11 [==============================] - 0s 5ms/step - loss: 0.0214 - val_loss: 0.0209\n",
      "Epoch 11/100\n",
      "11/11 [==============================] - 0s 5ms/step - loss: 0.0188 - val_loss: 0.0264\n",
      "Epoch 12/100\n",
      "11/11 [==============================] - 0s 5ms/step - loss: 0.0191 - val_loss: 0.0256\n",
      "Epoch 13/100\n",
      "11/11 [==============================] - 0s 6ms/step - loss: 0.0237 - val_loss: 0.0195\n",
      "Epoch 14/100\n",
      "11/11 [==============================] - 0s 6ms/step - loss: 0.0211 - val_loss: 0.0207\n",
      "Epoch 15/100\n",
      "11/11 [==============================] - 0s 6ms/step - loss: 0.0176 - val_loss: 0.0299\n",
      "Epoch 16/100\n",
      "11/11 [==============================] - 0s 6ms/step - loss: 0.0190 - val_loss: 0.0291\n",
      "Epoch 17/100\n",
      "11/11 [==============================] - 0s 5ms/step - loss: 0.0224 - val_loss: 0.0213\n",
      "Epoch 18/100\n",
      "11/11 [==============================] - 0s 5ms/step - loss: 0.0217 - val_loss: 0.0209\n",
      "Epoch 19/100\n",
      "11/11 [==============================] - 0s 5ms/step - loss: 0.0186 - val_loss: 0.0270\n",
      "Epoch 20/100\n",
      "11/11 [==============================] - 0s 5ms/step - loss: 0.0194 - val_loss: 0.0355\n",
      "Epoch 21/100\n",
      "11/11 [==============================] - 0s 5ms/step - loss: 0.0187 - val_loss: 0.0277\n",
      "Epoch 22/100\n",
      "11/11 [==============================] - 0s 5ms/step - loss: 0.0223 - val_loss: 0.0217\n",
      "Epoch 23/100\n",
      "11/11 [==============================] - 0s 5ms/step - loss: 0.0220 - val_loss: 0.0220\n",
      "Epoch 24/100\n",
      "11/11 [==============================] - 0s 5ms/step - loss: 0.0182 - val_loss: 0.0326\n",
      "Epoch 25/100\n",
      "11/11 [==============================] - 0s 5ms/step - loss: 0.0182 - val_loss: 0.0309\n",
      "Epoch 26/100\n",
      "11/11 [==============================] - 0s 5ms/step - loss: 0.0191 - val_loss: 0.0230\n",
      "Epoch 27/100\n",
      "11/11 [==============================] - 0s 5ms/step - loss: 0.0197 - val_loss: 0.0204\n",
      "Epoch 28/100\n",
      "11/11 [==============================] - 0s 5ms/step - loss: 0.0176 - val_loss: 0.0209\n",
      "Epoch 29/100\n",
      "11/11 [==============================] - 0s 5ms/step - loss: 0.0165 - val_loss: 0.0274\n",
      "Epoch 30/100\n",
      "11/11 [==============================] - 0s 5ms/step - loss: 0.0161 - val_loss: 0.0266\n",
      "Epoch 31/100\n",
      "11/11 [==============================] - 0s 5ms/step - loss: 0.0159 - val_loss: 0.0234\n",
      "Epoch 32/100\n",
      "11/11 [==============================] - 0s 5ms/step - loss: 0.0159 - val_loss: 0.0232\n",
      "Epoch 33/100\n",
      "11/11 [==============================] - 0s 5ms/step - loss: 0.0159 - val_loss: 0.0239\n",
      "Epoch 34/100\n",
      "11/11 [==============================] - 0s 5ms/step - loss: 0.0161 - val_loss: 0.0239\n",
      "Epoch 35/100\n",
      "11/11 [==============================] - 0s 5ms/step - loss: 0.0160 - val_loss: 0.0239\n",
      "Epoch 36/100\n",
      "11/11 [==============================] - 0s 5ms/step - loss: 0.0159 - val_loss: 0.0223\n",
      "Epoch 37/100\n",
      "11/11 [==============================] - 0s 5ms/step - loss: 0.0157 - val_loss: 0.0214\n",
      "Epoch 38/100\n",
      "11/11 [==============================] - 0s 5ms/step - loss: 0.0163 - val_loss: 0.0219\n",
      "Epoch 39/100\n",
      "11/11 [==============================] - 0s 5ms/step - loss: 0.0173 - val_loss: 0.0212\n",
      "Epoch 40/100\n",
      "11/11 [==============================] - 0s 5ms/step - loss: 0.0175 - val_loss: 0.0222\n",
      "Epoch 41/100\n",
      "11/11 [==============================] - 0s 5ms/step - loss: 0.0168 - val_loss: 0.0240\n",
      "Epoch 42/100\n",
      "11/11 [==============================] - 0s 5ms/step - loss: 0.0150 - val_loss: 0.0230\n",
      "Epoch 43/100\n",
      "11/11 [==============================] - 0s 5ms/step - loss: 0.0146 - val_loss: 0.0236\n",
      "Epoch 44/100\n",
      "11/11 [==============================] - 0s 5ms/step - loss: 0.0174 - val_loss: 0.0276\n",
      "Epoch 45/100\n",
      "11/11 [==============================] - 0s 5ms/step - loss: 0.0257 - val_loss: 0.0219\n",
      "Epoch 46/100\n",
      "11/11 [==============================] - 0s 5ms/step - loss: 0.0215 - val_loss: 0.0167\n",
      "Epoch 47/100\n",
      "11/11 [==============================] - 0s 5ms/step - loss: 0.0196 - val_loss: 0.0221\n",
      "Epoch 48/100\n",
      "11/11 [==============================] - 0s 5ms/step - loss: 0.0222 - val_loss: 0.0361\n",
      "Epoch 49/100\n",
      "11/11 [==============================] - 0s 5ms/step - loss: 0.0157 - val_loss: 0.0255\n",
      "Epoch 50/100\n",
      "11/11 [==============================] - 0s 6ms/step - loss: 0.0173 - val_loss: 0.0214\n",
      "Epoch 51/100\n",
      "11/11 [==============================] - 0s 5ms/step - loss: 0.0192 - val_loss: 0.0200\n",
      "Epoch 52/100\n",
      "11/11 [==============================] - 0s 5ms/step - loss: 0.0189 - val_loss: 0.0212\n",
      "Epoch 53/100\n",
      "11/11 [==============================] - 0s 5ms/step - loss: 0.0175 - val_loss: 0.0201\n",
      "Epoch 54/100\n",
      "11/11 [==============================] - 0s 5ms/step - loss: 0.0155 - val_loss: 0.0187\n",
      "Epoch 55/100\n",
      "11/11 [==============================] - 0s 5ms/step - loss: 0.0162 - val_loss: 0.0193\n",
      "Epoch 56/100\n",
      "11/11 [==============================] - 0s 5ms/step - loss: 0.0180 - val_loss: 0.0225\n",
      "Epoch 57/100\n",
      "11/11 [==============================] - 0s 6ms/step - loss: 0.0188 - val_loss: 0.0291\n",
      "Epoch 58/100\n",
      "11/11 [==============================] - 0s 6ms/step - loss: 0.0150 - val_loss: 0.0225\n",
      "Epoch 59/100\n",
      "11/11 [==============================] - 0s 5ms/step - loss: 0.0137 - val_loss: 0.0219\n",
      "Epoch 60/100\n",
      "11/11 [==============================] - 0s 5ms/step - loss: 0.0147 - val_loss: 0.0274\n",
      "Epoch 61/100\n",
      "11/11 [==============================] - 0s 5ms/step - loss: 0.0215 - val_loss: 0.0193\n",
      "Epoch 62/100\n",
      "11/11 [==============================] - 0s 5ms/step - loss: 0.0182 - val_loss: 0.0175\n",
      "Epoch 63/100\n",
      "11/11 [==============================] - 0s 5ms/step - loss: 0.0143 - val_loss: 0.0177\n",
      "Epoch 64/100\n",
      "11/11 [==============================] - 0s 5ms/step - loss: 0.0151 - val_loss: 0.0206\n",
      "Epoch 65/100\n",
      "11/11 [==============================] - 0s 5ms/step - loss: 0.0143 - val_loss: 0.0160\n",
      "Epoch 66/100\n",
      "11/11 [==============================] - 0s 5ms/step - loss: 0.0160 - val_loss: 0.0189\n",
      "Epoch 67/100\n",
      "11/11 [==============================] - 0s 5ms/step - loss: 0.0144 - val_loss: 0.0159\n",
      "Epoch 68/100\n",
      "11/11 [==============================] - 0s 5ms/step - loss: 0.0142 - val_loss: 0.0158\n",
      "Epoch 69/100\n",
      "11/11 [==============================] - 0s 5ms/step - loss: 0.0134 - val_loss: 0.0167\n",
      "Epoch 70/100\n",
      "11/11 [==============================] - 0s 5ms/step - loss: 0.0128 - val_loss: 0.0202\n",
      "Epoch 71/100\n",
      "11/11 [==============================] - 0s 5ms/step - loss: 0.0142 - val_loss: 0.0321\n",
      "Epoch 72/100\n",
      "11/11 [==============================] - 0s 5ms/step - loss: 0.0242 - val_loss: 0.0202\n",
      "Epoch 73/100\n",
      "11/11 [==============================] - 0s 5ms/step - loss: 0.0217 - val_loss: 0.0213\n",
      "Epoch 74/100\n",
      "11/11 [==============================] - 0s 5ms/step - loss: 0.0194 - val_loss: 0.0125\n",
      "Epoch 75/100\n",
      "11/11 [==============================] - 0s 5ms/step - loss: 0.0270 - val_loss: 0.0441\n",
      "Epoch 76/100\n",
      "11/11 [==============================] - 0s 5ms/step - loss: 0.0187 - val_loss: 0.0286\n",
      "Epoch 77/100\n",
      "11/11 [==============================] - 0s 5ms/step - loss: 0.0188 - val_loss: 0.0199\n",
      "Epoch 78/100\n",
      "11/11 [==============================] - 0s 5ms/step - loss: 0.0189 - val_loss: 0.0186\n",
      "Epoch 79/100\n",
      "11/11 [==============================] - 0s 5ms/step - loss: 0.0158 - val_loss: 0.0193\n",
      "Epoch 80/100\n",
      "11/11 [==============================] - 0s 5ms/step - loss: 0.0139 - val_loss: 0.0214\n",
      "Epoch 81/100\n",
      "11/11 [==============================] - 0s 5ms/step - loss: 0.0137 - val_loss: 0.0206\n",
      "Epoch 82/100\n",
      "11/11 [==============================] - 0s 6ms/step - loss: 0.0134 - val_loss: 0.0184\n",
      "Epoch 83/100\n"
     ]
    },
    {
     "name": "stdout",
     "output_type": "stream",
     "text": [
      "11/11 [==============================] - 0s 5ms/step - loss: 0.0136 - val_loss: 0.0175\n",
      "Epoch 84/100\n",
      "11/11 [==============================] - 0s 5ms/step - loss: 0.0147 - val_loss: 0.0141\n",
      "Epoch 85/100\n",
      "11/11 [==============================] - 0s 5ms/step - loss: 0.0201 - val_loss: 0.0277\n",
      "Epoch 86/100\n",
      "11/11 [==============================] - 0s 5ms/step - loss: 0.0173 - val_loss: 0.0235\n",
      "Epoch 87/100\n",
      "11/11 [==============================] - 0s 5ms/step - loss: 0.0131 - val_loss: 0.0152\n",
      "Epoch 88/100\n",
      "11/11 [==============================] - 0s 5ms/step - loss: 0.0129 - val_loss: 0.0158\n",
      "Epoch 89/100\n",
      "11/11 [==============================] - 0s 6ms/step - loss: 0.0122 - val_loss: 0.0184\n",
      "Epoch 90/100\n",
      "11/11 [==============================] - 0s 6ms/step - loss: 0.0127 - val_loss: 0.0260\n",
      "Epoch 91/100\n",
      "11/11 [==============================] - 0s 6ms/step - loss: 0.0184 - val_loss: 0.0204\n",
      "Epoch 92/100\n",
      "11/11 [==============================] - 0s 6ms/step - loss: 0.0241 - val_loss: 0.0236\n",
      "Epoch 93/100\n",
      "11/11 [==============================] - 0s 5ms/step - loss: 0.0222 - val_loss: 0.0126\n",
      "Epoch 94/100\n",
      "11/11 [==============================] - 0s 5ms/step - loss: 0.0229 - val_loss: 0.0370\n",
      "Epoch 95/100\n",
      "11/11 [==============================] - 0s 5ms/step - loss: 0.0187 - val_loss: 0.0285\n",
      "Epoch 96/100\n",
      "11/11 [==============================] - 0s 5ms/step - loss: 0.0157 - val_loss: 0.0230\n",
      "Epoch 97/100\n",
      "11/11 [==============================] - 0s 5ms/step - loss: 0.0229 - val_loss: 0.0219\n",
      "Epoch 98/100\n",
      "11/11 [==============================] - 0s 5ms/step - loss: 0.0207 - val_loss: 0.0125\n",
      "Epoch 99/100\n",
      "11/11 [==============================] - 0s 5ms/step - loss: 0.0209 - val_loss: 0.0356\n",
      "Epoch 100/100\n",
      "11/11 [==============================] - 0s 5ms/step - loss: 0.0174 - val_loss: 0.0287\n"
     ]
    },
    {
     "data": {
      "image/png": "[encoded data removed]",
      "text/plain": [
       "<Figure size 640x480 with 1 Axes>"
      ]
     },
     "metadata": {},
     "output_type": "display_data"
    }
   ],
   "source": [
    "units = 30\n",
    "batch_size = 32\n",
    "\n",
    "# Create the GRU model\n",
    "model_gru = Sequential()\n",
    "model_gru.add(GRU(75, return_sequences=True, input_shape=(train_X.shape[1], train_X.shape[2])))\n",
    "model_gru.add(GRU(units=units, return_sequences=True))\n",
    "model_gru.add(GRU(units=units))\n",
    "model_gru.add(Dense(units=1))\n",
    "\n",
    "# Compile the model\n",
    "model_gru.compile(loss='mae', optimizer='adam')\n",
    "\n",
    "# fit network\n",
    "gru_history = model_gru.fit(train_X, train_y, epochs=100,validation_data=(test_X, test_y), batch_size=64, shuffle=False)\n",
    "\n",
    "# Note\n",
    "# Large batch size: increase time, lower accuracy, overfit\n",
    "\n",
    "# plot history\n",
    "pyplot.plot(gru_history.history['loss'], label='train')\n",
    "pyplot.plot(gru_history.history['val_loss'], label='test')\n",
    "pyplot.legend()\n",
    "pyplot.show()"
   ]
  },
  {
   "cell_type": "markdown",
   "id": "09c6b577",
   "metadata": {},
   "source": [
    "# ---------- Results Analysis ----------"
   ]
  },
  {
   "cell_type": "code",
   "execution_count": 16,
   "id": "d6cb92d2",
   "metadata": {},
   "outputs": [],
   "source": [
    "# calculate metrics\n",
    "def mean_absolute_scaled_error(y_true, y_pred, y_train):\n",
    "    e_t = y_true - y_pred\n",
    "    scale = sklearn.metrics.mean_absolute_error(y_train[1:], y_train[:-1])\n",
    "    return np.mean(np.abs(e_t / scale))\n",
    "\n",
    "def print_metrics(test, pre_test):\n",
    "    \n",
    "    print('\\nRMSE')\n",
    "    testScore = np.sqrt(mean_squared_error(test,pre_test))\n",
    "    print('Test Score: %.2f RMSE' % (testScore))\n",
    "    \n",
    "    print('\\nMAE')\n",
    "    testScore = sklearn.metrics.mean_absolute_error(test, pre_test)\n",
    "    print('Test Score: %.2f MAE' % (testScore))\n",
    "    \n",
    "    print('\\nMAPE')                          \n",
    "    testScore = sklearn.metrics.mean_absolute_percentage_error(test, pre_test)\n",
    "    print('Test Score: %.2f MAPE' % (testScore))\n",
    "    \n",
    "    print('\\nMASE')\n",
    "    testScore = mean_absolute_scaled_error(test, pre_test, test)\n",
    "    print('Test Score: %.2f MASE' % (testScore))"
   ]
  },
  {
   "cell_type": "code",
   "execution_count": 17,
   "id": "4e684cbe",
   "metadata": {},
   "outputs": [
    {
     "name": "stdout",
     "output_type": "stream",
     "text": [
      "6/6 [==============================] - 1s 1ms/step\n"
     ]
    }
   ],
   "source": [
    "# make a prediction\n",
    "test_pred = (model_gru.predict(test_X))\n",
    "test_X = test_X.reshape((test_X.shape[0], test_X.shape[2]))"
   ]
  },
  {
   "cell_type": "code",
   "execution_count": 18,
   "id": "c97d77d0",
   "metadata": {},
   "outputs": [],
   "source": [
    "# invert scaling for forecast\n",
    "inv_test_pred = concatenate((test_pred, test_X), axis=1)\n",
    "inv_test_pred = scaler.inverse_transform(inv_test_pred)\n",
    "inv_test_pred = inv_test_pred[:,0]\n",
    "\n",
    "# invert scaling for actual\n",
    "test_y = test_y.reshape((len(test_y), 1))\n",
    "inv_y = concatenate((test_y, test_X), axis=1)\n",
    "inv_y = scaler.inverse_transform(inv_y)\n",
    "inv_y = inv_y[:,0]"
   ]
  },
  {
   "cell_type": "code",
   "execution_count": 19,
   "id": "f9e025ee",
   "metadata": {},
   "outputs": [
    {
     "name": "stdout",
     "output_type": "stream",
     "text": [
      "\n",
      "RMSE\n",
      "Test Score: 847.29 RMSE\n",
      "\n",
      "MAE\n",
      "Test Score: 659.57 MAE\n",
      "\n",
      "MAPE\n",
      "Test Score: 0.01 MAPE\n",
      "\n",
      "MASE\n",
      "Test Score: 3.90 MASE\n"
     ]
    }
   ],
   "source": [
    "# print results\n",
    "print_metrics(inv_y, inv_test_pred)"
   ]
  }
 ],
 "metadata": {
  "kernelspec": {
   "display_name": "Python 3 (ipykernel)",
   "language": "python",
   "name": "python3"
  },
  "language_info": {
   "codemirror_mode": {
    "name": "ipython",
    "version": 3
   },
   "file_extension": ".py",
   "mimetype": "text/x-python",
   "name": "python",
   "nbconvert_exporter": "python",
   "pygments_lexer": "ipython3",
   "version": "3.9.13"
  }
 },
 "nbformat": 4,
 "nbformat_minor": 5
}
