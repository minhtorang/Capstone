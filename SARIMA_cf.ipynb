{
 "cells": [
  {
   "cell_type": "markdown",
   "metadata": {
    "id": "ilmY3b_keXXo"
   },
   "source": [
    "# Libraries"
   ]
  },
  {
   "cell_type": "code",
   "execution_count": 1,
   "metadata": {
    "id": "PDmWbTQCeSR1",
    "scrolled": true
   },
   "outputs": [
    {
     "name": "stdout",
     "output_type": "stream",
     "text": [
      "Requirement already satisfied: pmdarima in c:\\users\\admin\\anaconda3\\lib\\site-packages (2.0.3)\n",
      "Requirement already satisfied: joblib>=0.11 in c:\\users\\admin\\anaconda3\\lib\\site-packages (from pmdarima) (1.1.0)\n",
      "Requirement already satisfied: scipy>=1.3.2 in c:\\users\\admin\\anaconda3\\lib\\site-packages (from pmdarima) (1.7.3)\n",
      "Requirement already satisfied: Cython!=0.29.18,!=0.29.31,>=0.29 in c:\\users\\admin\\anaconda3\\lib\\site-packages (from pmdarima) (0.29.28)\n",
      "Requirement already satisfied: urllib3 in c:\\users\\admin\\anaconda3\\lib\\site-packages (from pmdarima) (1.26.9)\n",
      "Requirement already satisfied: setuptools!=50.0.0,>=38.6.0 in c:\\users\\admin\\anaconda3\\lib\\site-packages (from pmdarima) (61.2.0)\n",
      "Requirement already satisfied: scikit-learn>=0.22 in c:\\users\\admin\\anaconda3\\lib\\site-packages (from pmdarima) (1.0.2)\n",
      "Requirement already satisfied: statsmodels>=0.13.2 in c:\\users\\admin\\anaconda3\\lib\\site-packages (from pmdarima) (0.13.2)\n",
      "Requirement already satisfied: numpy>=1.21.2 in c:\\users\\admin\\anaconda3\\lib\\site-packages (from pmdarima) (1.22.4)\n",
      "Requirement already satisfied: pandas>=0.19 in c:\\users\\admin\\anaconda3\\lib\\site-packages (from pmdarima) (1.4.2)\n",
      "Requirement already satisfied: python-dateutil>=2.8.1 in c:\\users\\admin\\anaconda3\\lib\\site-packages (from pandas>=0.19->pmdarima) (2.8.2)\n",
      "Requirement already satisfied: pytz>=2020.1 in c:\\users\\admin\\anaconda3\\lib\\site-packages (from pandas>=0.19->pmdarima) (2021.3)\n",
      "Requirement already satisfied: six>=1.5 in c:\\users\\admin\\anaconda3\\lib\\site-packages (from python-dateutil>=2.8.1->pandas>=0.19->pmdarima) (1.16.0)\n",
      "Requirement already satisfied: threadpoolctl>=2.0.0 in c:\\users\\admin\\anaconda3\\lib\\site-packages (from scikit-learn>=0.22->pmdarima) (2.2.0)\n",
      "Requirement already satisfied: patsy>=0.5.2 in c:\\users\\admin\\anaconda3\\lib\\site-packages (from statsmodels>=0.13.2->pmdarima) (0.5.2)\n",
      "Requirement already satisfied: packaging>=21.3 in c:\\users\\admin\\anaconda3\\lib\\site-packages (from statsmodels>=0.13.2->pmdarima) (21.3)\n",
      "Requirement already satisfied: pyparsing!=3.0.5,>=2.0.2 in c:\\users\\admin\\anaconda3\\lib\\site-packages (from packaging>=21.3->statsmodels>=0.13.2->pmdarima) (3.0.4)\n"
     ]
    }
   ],
   "source": [
    "!pip install pmdarima"
   ]
  },
  {
   "cell_type": "code",
   "execution_count": 17,
   "metadata": {
    "id": "U9nzXp1Fk3hD"
   },
   "outputs": [],
   "source": [
    "import pandas as pd\n",
    "from pmdarima import auto_arima #func to compute sarima model\n",
    "\n",
    "import warnings\n",
    "\n",
    "# Ignore all warnings\n",
    "warnings.filterwarnings('ignore')\n"
   ]
  },
  {
   "cell_type": "markdown",
   "metadata": {
    "id": "KupVAatseiCc"
   },
   "source": [
    "# COFFEE Data"
   ]
  },
  {
   "cell_type": "code",
   "execution_count": 11,
   "metadata": {
    "scrolled": true
   },
   "outputs": [],
   "source": [
    "#Read coffee data\n",
    "coffee_df = pd.read_excel('coffee_data.xlsx')\n",
    "\n",
    "coffee_df['Ngày'] = pd.to_datetime(coffee_df['Ngày'])\n",
    "coffee_df.drop(coffee_df.columns[[0, 1, 2, 3]], axis=1, inplace=True)\n",
    "coffee_df.set_index('Ngày', inplace=True)\n",
    "#coffee_df = coffee_df.asfreq(\"D\") ->avoid issue with data frequency"
   ]
  },
  {
   "cell_type": "code",
   "execution_count": 12,
   "metadata": {},
   "outputs": [
    {
     "data": {
      "text/html": [
       "<div>\n",
       "<style scoped>\n",
       "    .dataframe tbody tr th:only-of-type {\n",
       "        vertical-align: middle;\n",
       "    }\n",
       "\n",
       "    .dataframe tbody tr th {\n",
       "        vertical-align: top;\n",
       "    }\n",
       "\n",
       "    .dataframe thead th {\n",
       "        text-align: right;\n",
       "    }\n",
       "</style>\n",
       "<table border=\"1\" class=\"dataframe\">\n",
       "  <thead>\n",
       "    <tr style=\"text-align: right;\">\n",
       "      <th></th>\n",
       "      <th>Giá</th>\n",
       "    </tr>\n",
       "    <tr>\n",
       "      <th>Ngày</th>\n",
       "      <th></th>\n",
       "    </tr>\n",
       "  </thead>\n",
       "  <tbody>\n",
       "    <tr>\n",
       "      <th>2021-01-01</th>\n",
       "      <td>31667.5</td>\n",
       "    </tr>\n",
       "    <tr>\n",
       "      <th>2021-01-04</th>\n",
       "      <td>32717.0</td>\n",
       "    </tr>\n",
       "    <tr>\n",
       "      <th>2021-01-05</th>\n",
       "      <td>32417.0</td>\n",
       "    </tr>\n",
       "    <tr>\n",
       "      <th>2021-01-06</th>\n",
       "      <td>32317.0</td>\n",
       "    </tr>\n",
       "    <tr>\n",
       "      <th>2021-01-07</th>\n",
       "      <td>32117.0</td>\n",
       "    </tr>\n",
       "  </tbody>\n",
       "</table>\n",
       "</div>"
      ],
      "text/plain": [
       "                Giá\n",
       "Ngày               \n",
       "2021-01-01  31667.5\n",
       "2021-01-04  32717.0\n",
       "2021-01-05  32417.0\n",
       "2021-01-06  32317.0\n",
       "2021-01-07  32117.0"
      ]
     },
     "execution_count": 12,
     "metadata": {},
     "output_type": "execute_result"
    }
   ],
   "source": [
    "coffee_df.head()"
   ]
  },
  {
   "cell_type": "code",
   "execution_count": 13,
   "metadata": {
    "id": "fHWhygC3lZ6E"
   },
   "outputs": [],
   "source": [
    "#training and test set\n",
    "training = coffee_df.iloc[:-31,:] #up to 31 day ?\n",
    "test = coffee_df.iloc[-31:, :]"
   ]
  },
  {
   "cell_type": "markdown",
   "metadata": {
    "id": "V-d1mISwebN3"
   },
   "source": [
    "# SARIMA Model for coffee data"
   ]
  },
  {
   "cell_type": "code",
   "execution_count": 14,
   "metadata": {
    "id": "lwFYiX9xllmF"
   },
   "outputs": [],
   "source": [
    "#SARIMA model - finding the best parameter\n",
    "model = auto_arima(y = training.Giá,\n",
    "                   m = 7) #m = 7 is the optimal seasonal component"
   ]
  },
  {
   "cell_type": "code",
   "execution_count": 18,
   "metadata": {
    "colab": {
     "base_uri": "https://localhost:8080/"
    },
    "id": "umoxN8OOnj9J",
    "outputId": "dd4cc16b-f1c3-41c4-8a95-52667dda771e",
    "scrolled": true
   },
   "outputs": [
    {
     "data": {
      "text/plain": [
       "593    49789.935060\n",
       "594    49722.417699\n",
       "595    49703.966517\n",
       "596    49734.045744\n",
       "597    49714.862256\n",
       "598    49752.434956\n",
       "599    49781.818507\n",
       "600    49764.860230\n",
       "601    49805.551552\n",
       "602    49817.694809\n",
       "603    49801.350662\n",
       "604    49815.230190\n",
       "605    49788.181574\n",
       "606    49766.555433\n",
       "607    49778.960797\n",
       "608    49755.397451\n",
       "609    49747.519292\n",
       "610    49755.328425\n",
       "611    49744.953325\n",
       "612    49764.749658\n",
       "613    49781.098293\n",
       "614    49771.938717\n",
       "615    49784.664721\n",
       "616    49789.644969\n",
       "617    49787.028362\n",
       "618    49795.061343\n",
       "619    49780.330747\n",
       "620    49767.629509\n",
       "621    49774.440844\n",
       "622    49768.481588\n",
       "623    49765.478707\n",
       "dtype: float64"
      ]
     },
     "execution_count": 18,
     "metadata": {},
     "output_type": "execute_result"
    }
   ],
   "source": [
    "#Predictions\n",
    "pd.Series(model.predict(n_periods = len(test)))"
   ]
  },
  {
   "cell_type": "code",
   "execution_count": 19,
   "metadata": {},
   "outputs": [
    {
     "data": {
      "text/plain": [
       "Ngày\n",
       "2023-04-07    49789.935060\n",
       "2023-04-10    49722.417699\n",
       "2023-04-11    49703.966517\n",
       "2023-04-12    49734.045744\n",
       "2023-04-13    49714.862256\n",
       "dtype: float64"
      ]
     },
     "execution_count": 19,
     "metadata": {},
     "output_type": "execute_result"
    }
   ],
   "source": [
    "predictions = pd.Series(model.predict(n_periods = len(test)))\n",
    "predictions.index = test.index\n",
    "predictions[:5]"
   ]
  },
  {
   "cell_type": "code",
   "execution_count": 26,
   "metadata": {
    "colab": {
     "base_uri": "https://localhost:8080/",
     "height": 525
    },
    "id": "eq94N7F9nlKp",
    "outputId": "5bc3e3d5-09e2-4715-87ed-809b825e7c51"
   },
   "outputs": [
    {
     "data": {
      "text/plain": [
       "<AxesSubplot:xlabel='Ngày'>"
      ]
     },
     "execution_count": 26,
     "metadata": {},
     "output_type": "execute_result"
    },
    {
     "data": {
      "image/png": "[encoded data removed]",
      "text/plain": [
       "<Figure size 864x576 with 1 Axes>"
      ]
     },
     "metadata": {
      "needs_background": "light"
     },
     "output_type": "display_data"
    }
   ],
   "source": [
    "#Visualization\n",
    "training['Giá']['2023-01-01':].plot(figsize = (12,8), label='Training Data', legend = True)\n",
    "test['Giá'].plot(label='Test Data', legend = True)\n",
    "predictions.plot(label='SARIMA Predictions', legend = True)"
   ]
  },
  {
   "cell_type": "markdown",
   "metadata": {},
   "source": [
    "# TOMATO"
   ]
  },
  {
   "cell_type": "code",
   "execution_count": 46,
   "metadata": {},
   "outputs": [],
   "source": [
    "tomato_df = pd.read_excel('tomato_data.xls')\n",
    "\n",
    "tomato_df['Ngày'] = pd.to_datetime(tomato_df['Ngày tháng'])\n",
    "tomato_df.drop(tomato_df.columns[[0, 1, 2, 3, 5]], axis=1, inplace=True)\n",
    "tomato_df.set_index('Ngày', inplace=True)\n",
    "tomato_df = tomato_df.asfreq(\"D\") #-> display NaN data -> avoid issue with data frequency"
   ]
  },
  {
   "cell_type": "code",
   "execution_count": 47,
   "metadata": {},
   "outputs": [
    {
     "name": "stdout",
     "output_type": "stream",
     "text": [
      "            Gia_tai_cho\n",
      "Ngày                   \n",
      "2015-01-16          9.0\n",
      "2015-01-17          NaN\n",
      "2015-01-18          NaN\n",
      "2015-01-19          9.0\n",
      "2015-01-20          NaN\n",
      "...                 ...\n",
      "2023-05-06          NaN\n",
      "2023-05-07          NaN\n",
      "2023-05-08      25000.0\n",
      "2023-05-09          NaN\n",
      "2023-05-10      25000.0\n",
      "\n",
      "[3037 rows x 1 columns]\n"
     ]
    }
   ],
   "source": [
    "tomato_df.rename(columns={'Giá tại chợ': 'Gia_tai_cho'}, inplace=True)\n",
    "print(tomato_df)"
   ]
  },
  {
   "cell_type": "code",
   "execution_count": 52,
   "metadata": {},
   "outputs": [],
   "source": [
    "tomato_df.fillna(tomato_df.mean(), inplace=True) # handle missing values "
   ]
  },
  {
   "cell_type": "code",
   "execution_count": 53,
   "metadata": {},
   "outputs": [],
   "source": [
    "#training and test set\n",
    "training = tomato_df.iloc[:-31,:] #up to 31 day ?\n",
    "test = tomato_df.iloc[-31:, :]"
   ]
  },
  {
   "cell_type": "code",
   "execution_count": 54,
   "metadata": {},
   "outputs": [],
   "source": [
    "#SARIMA model - finding the best parameter\n",
    "model = auto_arima(y = training.Gia_tai_cho,\n",
    "                   m = 7) #m = 7 is the optimal seasonal component"
   ]
  },
  {
   "cell_type": "code",
   "execution_count": 55,
   "metadata": {
    "scrolled": true
   },
   "outputs": [
    {
     "data": {
      "text/plain": [
       "2023-04-10    23994.441187\n",
       "2023-04-11    15796.612472\n",
       "2023-04-12    25366.228880\n",
       "2023-04-13    15741.292645\n",
       "2023-04-14    23508.518905\n",
       "2023-04-15    16700.624357\n",
       "2023-04-16    17051.150680\n",
       "2023-04-17    24087.848436\n",
       "2023-04-18    16110.143871\n",
       "2023-04-19    25372.418472\n",
       "2023-04-20    16036.034531\n",
       "2023-04-21    23653.368039\n",
       "2023-04-22    16855.848461\n",
       "2023-04-23    17212.697277\n",
       "2023-04-24    24168.707572\n",
       "2023-04-25    16379.777789\n",
       "2023-04-26    25422.856417\n",
       "2023-04-27    16292.501012\n",
       "2023-04-28    23755.164261\n",
       "2023-04-29    17035.050999\n",
       "2023-04-30    17401.298737\n",
       "2023-05-01    24268.664368\n",
       "2023-05-02    16625.531985\n",
       "2023-05-03    25497.108631\n",
       "2023-05-04    16529.729002\n",
       "2023-05-05    23868.278790\n",
       "2023-05-06    17212.473277\n",
       "2023-05-07    17582.438845\n",
       "2023-05-08    24383.292983\n",
       "2023-05-09    16852.665034\n",
       "2023-05-10    25590.136388\n",
       "Freq: D, dtype: float64"
      ]
     },
     "execution_count": 55,
     "metadata": {},
     "output_type": "execute_result"
    }
   ],
   "source": [
    "#Predictions\n",
    "pd.Series(model.predict(n_periods = len(test)))"
   ]
  },
  {
   "cell_type": "code",
   "execution_count": 56,
   "metadata": {},
   "outputs": [
    {
     "data": {
      "text/plain": [
       "Ngày\n",
       "2023-04-10    23994.441187\n",
       "2023-04-11    15796.612472\n",
       "2023-04-12    25366.228880\n",
       "2023-04-13    15741.292645\n",
       "2023-04-14    23508.518905\n",
       "Freq: D, dtype: float64"
      ]
     },
     "execution_count": 56,
     "metadata": {},
     "output_type": "execute_result"
    }
   ],
   "source": [
    "predictions = pd.Series(model.predict(n_periods = len(test)))\n",
    "predictions.index = test.index\n",
    "predictions[:5]"
   ]
  },
  {
   "cell_type": "code",
   "execution_count": 58,
   "metadata": {},
   "outputs": [
    {
     "data": {
      "text/plain": [
       "<AxesSubplot:xlabel='Ngày'>"
      ]
     },
     "execution_count": 58,
     "metadata": {},
     "output_type": "execute_result"
    },
    {
     "data": {
      "image/png": "[encoded data removed]",
      "text/plain": [
       "<Figure size 864x576 with 1 Axes>"
      ]
     },
     "metadata": {
      "needs_background": "light"
     },
     "output_type": "display_data"
    }
   ],
   "source": [
    "#Visualization\n",
    "training['Gia_tai_cho']['2020-01-01':].plot(figsize = (12,8), label='Training Data', legend = True)\n",
    "test['Gia_tai_cho'].plot(label='Test Data', legend = True)\n",
    "predictions.plot(label='SARIMA Predictions', legend = True)"
   ]
  },
  {
   "cell_type": "code",
   "execution_count": null,
   "metadata": {},
   "outputs": [],
   "source": []
  }
 ],
 "metadata": {
  "colab": {
   "provenance": []
  },
  "kernelspec": {
   "display_name": "Python 3 (ipykernel)",
   "language": "python",
   "name": "python3"
  },
  "language_info": {
   "codemirror_mode": {
    "name": "ipython",
    "version": 3
   },
   "file_extension": ".py",
   "mimetype": "text/x-python",
   "name": "python",
   "nbconvert_exporter": "python",
   "pygments_lexer": "ipython3",
   "version": "3.9.12"
  }
 },
 "nbformat": 4,
 "nbformat_minor": 1
}
