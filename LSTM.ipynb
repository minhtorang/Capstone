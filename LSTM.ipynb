{
 "cells": [
  {
   "cell_type": "markdown",
   "id": "cda77ca2",
   "metadata": {},
   "source": [
    "# Import Libraries"
   ]
  },
  {
   "cell_type": "code",
   "execution_count": 1,
   "id": "b1615044",
   "metadata": {},
   "outputs": [],
   "source": [
    "import math\n",
    "import sklearn\n",
    "import numpy as np\n",
    "import pandas as pd\n",
    "import seaborn as sns\n",
    "import tensorflow as tf\n",
    "import matplotlib.pyplot as plt\n",
    "\n",
    "from math import sqrt\n",
    "from pandas import concat\n",
    "from matplotlib import pyplot\n",
    "from keras.models import Sequential\n",
    "from numpy import concatenate, asarray\n",
    "from keras.layers import Dense, Dropout, LSTM\n",
    "from sklearn.metrics import mean_squared_error\n",
    "from sklearn.preprocessing import MinMaxScaler\n",
    "from sklearn.model_selection import train_test_split"
   ]
  },
  {
   "cell_type": "markdown",
   "id": "c8ca6f24",
   "metadata": {},
   "source": [
    "# ---------- Retrieve Data -----------"
   ]
  },
  {
   "cell_type": "code",
   "execution_count": 2,
   "id": "0f211d57",
   "metadata": {},
   "outputs": [
    {
     "data": {
      "text/html": [
       "<div>\n",
       "<style scoped>\n",
       "    .dataframe tbody tr th:only-of-type {\n",
       "        vertical-align: middle;\n",
       "    }\n",
       "\n",
       "    .dataframe tbody tr th {\n",
       "        vertical-align: top;\n",
       "    }\n",
       "\n",
       "    .dataframe thead th {\n",
       "        text-align: right;\n",
       "    }\n",
       "</style>\n",
       "<table border=\"1\" class=\"dataframe\">\n",
       "  <thead>\n",
       "    <tr style=\"text-align: right;\">\n",
       "      <th></th>\n",
       "      <th>Ngày</th>\n",
       "      <th>Giá Cà Phê</th>\n",
       "      <th>Giá Diesel 1 lít</th>\n",
       "      <th>Precipitation (mm)</th>\n",
       "    </tr>\n",
       "  </thead>\n",
       "  <tbody>\n",
       "    <tr>\n",
       "      <th>0</th>\n",
       "      <td>2021-01-01</td>\n",
       "      <td>31667.5</td>\n",
       "      <td>12640</td>\n",
       "      <td>1174.199994</td>\n",
       "    </tr>\n",
       "    <tr>\n",
       "      <th>1</th>\n",
       "      <td>2021-01-02</td>\n",
       "      <td>31667.5</td>\n",
       "      <td>12640</td>\n",
       "      <td>1174.199994</td>\n",
       "    </tr>\n",
       "    <tr>\n",
       "      <th>2</th>\n",
       "      <td>2021-01-03</td>\n",
       "      <td>31667.5</td>\n",
       "      <td>12640</td>\n",
       "      <td>1174.199994</td>\n",
       "    </tr>\n",
       "    <tr>\n",
       "      <th>3</th>\n",
       "      <td>2021-01-04</td>\n",
       "      <td>32717.0</td>\n",
       "      <td>12640</td>\n",
       "      <td>1174.199994</td>\n",
       "    </tr>\n",
       "    <tr>\n",
       "      <th>4</th>\n",
       "      <td>2021-01-05</td>\n",
       "      <td>32417.0</td>\n",
       "      <td>12640</td>\n",
       "      <td>1174.199994</td>\n",
       "    </tr>\n",
       "  </tbody>\n",
       "</table>\n",
       "</div>"
      ],
      "text/plain": [
       "        Ngày  Giá Cà Phê  Giá Diesel 1 lít  Precipitation (mm)\n",
       "0 2021-01-01     31667.5             12640         1174.199994\n",
       "1 2021-01-02     31667.5             12640         1174.199994\n",
       "2 2021-01-03     31667.5             12640         1174.199994\n",
       "3 2021-01-04     32717.0             12640         1174.199994\n",
       "4 2021-01-05     32417.0             12640         1174.199994"
      ]
     },
     "execution_count": 2,
     "metadata": {},
     "output_type": "execute_result"
    }
   ],
   "source": [
    "# read file\n",
    "data = pd.read_excel('Data/data.xlsx')\n",
    "data.head()"
   ]
  },
  {
   "cell_type": "code",
   "execution_count": 3,
   "id": "3e839c98",
   "metadata": {},
   "outputs": [],
   "source": [
    "# take coffee price only\n",
    "data.drop(data.columns[[-1, -2]], axis=1, inplace=True)"
   ]
  },
  {
   "cell_type": "markdown",
   "id": "b99e8b43",
   "metadata": {},
   "source": [
    "# --------- Normalization ----------"
   ]
  },
  {
   "cell_type": "code",
   "execution_count": 4,
   "id": "767184d4",
   "metadata": {},
   "outputs": [],
   "source": [
    "# drop date column\n",
    "data.drop(data.columns[[0]], axis=1, inplace=True)"
   ]
  },
  {
   "cell_type": "code",
   "execution_count": 5,
   "id": "648e2e0e",
   "metadata": {},
   "outputs": [],
   "source": [
    "# convert series to supervised learning\n",
    "\n",
    "def series_to_supervised(data, n_in, n_out, dropnan=True):\n",
    "    n_vars = 1 if type(data) is list else data.shape[1]\n",
    "    df = pd.DataFrame(data)\n",
    "    cols, names = list(), list()\n",
    "    \n",
    "    # input sequence (t-n, ... t-1)\n",
    "    for i in range(n_in, 0, -1):\n",
    "        cols.append(df.shift(i))\n",
    "        names += [('var%d(t-%d)' % (j+1, i)) for j in range(n_vars)]\n",
    "        \n",
    "    # forecast sequence (t, t+1, ... t+n)\n",
    "    for i in range(0, n_out):\n",
    "        cols.append(df.shift(-i))\n",
    "        if i == 0:\n",
    "            names += [('var%d(t)' % (j+1)) for j in range(n_vars)]\n",
    "        else:\n",
    "            names += [('var%d(t+%d)' % (j+1, i)) for j in range(n_vars)]\n",
    "            \n",
    "    # put it all together\n",
    "    agg = concat(cols, axis=1)\n",
    "    agg.columns = names\n",
    "    \n",
    "    # drop rows with NaN values\n",
    "    if dropnan:\n",
    "        agg.dropna(inplace=True)\n",
    "    return agg"
   ]
  },
  {
   "cell_type": "code",
   "execution_count": 6,
   "id": "bd5d5677",
   "metadata": {},
   "outputs": [],
   "source": [
    "# set number of days\n",
    "look_back = 60\n",
    "predict_ahead = 30\n",
    "\n",
    "# frame as supervised learning\n",
    "reframed = series_to_supervised(data.values, look_back, predict_ahead)"
   ]
  },
  {
   "cell_type": "code",
   "execution_count": 7,
   "id": "cc501d3f",
   "metadata": {},
   "outputs": [],
   "source": [
    "# calculate total column to keep\n",
    "data_column = len(data.columns)\n",
    "keep_column = look_back * data_column\n",
    "var_index = (look_back * data_column) + ((predict_ahead - 1) * data_column)\n",
    "\n",
    "# drop unnecessary columns\n",
    "reframed = reframed.drop(reframed.iloc[:, keep_column:var_index], axis = 1)\n",
    "# index_drop = (data_column - 1 ) * -1\n",
    "# reframed = reframed.drop(columns=reframed.columns[index_drop:], axis = 1)\n",
    "# dataset = reframed"
   ]
  },
  {
   "cell_type": "code",
   "execution_count": 8,
   "id": "37be6458",
   "metadata": {},
   "outputs": [
    {
     "data": {
      "text/plain": [
       "(740, 61)"
      ]
     },
     "execution_count": 8,
     "metadata": {},
     "output_type": "execute_result"
    }
   ],
   "source": [
    "# normalize features\n",
    "scaler = MinMaxScaler()\n",
    "scaled = scaler.fit_transform(reframed)\n",
    "scaled.shape"
   ]
  },
  {
   "cell_type": "markdown",
   "id": "9c1ab74e",
   "metadata": {},
   "source": [
    "# ---------- Split data ----------"
   ]
  },
  {
   "cell_type": "code",
   "execution_count": 9,
   "id": "4f43403b",
   "metadata": {},
   "outputs": [
    {
     "name": "stdout",
     "output_type": "stream",
     "text": [
      "592 148\n"
     ]
    }
   ],
   "source": [
    "dataset = scaled\n",
    "\n",
    "# split into train and test sets\n",
    "train_size = int(len(dataset) * 0.8)\n",
    "test_size = len(dataset) - train_size\n",
    "train, test = dataset[:train_size,:], dataset[train_size:len(dataset),:]\n",
    "\n",
    "print(len(train), len(test))"
   ]
  },
  {
   "cell_type": "code",
   "execution_count": 10,
   "id": "b1bd62ef",
   "metadata": {},
   "outputs": [
    {
     "name": "stdout",
     "output_type": "stream",
     "text": [
      "(592, 1, 60) (592,) (148, 1, 60) (148,)\n"
     ]
    }
   ],
   "source": [
    "# split into input and outputs\n",
    "train_X, train_y = train[:, :-1], train[:, -1]\n",
    "test_X, test_y = test[:, :-1], test[:, -1]\n",
    "\n",
    "# reshape input to be 3D [samples, timesteps, features]\n",
    "train_X = train_X.reshape((train_X.shape[0], 1, train_X.shape[1]))\n",
    "test_X = test_X.reshape((test_X.shape[0], 1, test_X.shape[1]))\n",
    "\n",
    "print(train_X.shape, train_y.shape, test_X.shape, test_y.shape)"
   ]
  },
  {
   "cell_type": "markdown",
   "id": "49b55ac6",
   "metadata": {},
   "source": [
    "# ---------- Train Model ----------"
   ]
  },
  {
   "cell_type": "code",
   "execution_count": 11,
   "id": "61f9827a",
   "metadata": {
    "scrolled": false
   },
   "outputs": [
    {
     "data": {
      "image/png": "[encoded data removed]",
      "text/plain": [
       "<Figure size 640x480 with 1 Axes>"
      ]
     },
     "metadata": {},
     "output_type": "display_data"
    }
   ],
   "source": [
    "# design network\n",
    "model = Sequential()\n",
    "model.add(LSTM(8, input_shape=(train_X.shape[1], train_X.shape[2])))\n",
    "model.add(Dropout(0.3))\n",
    "model.add(Dense(1))\n",
    "model.compile(loss='mse', optimizer='adam')\n",
    "\n",
    "# fit network\n",
    "history = model.fit(train_X, train_y, epochs=2000, batch_size=32, \n",
    "                    validation_data=(test_X, test_y), verbose=False, shuffle=False)\n",
    "\n",
    "# plot history\n",
    "pyplot.plot(history.history['loss'], label='train')\n",
    "pyplot.plot(history.history['val_loss'], label='test')\n",
    "pyplot.legend()\n",
    "pyplot.show()"
   ]
  },
  {
   "cell_type": "markdown",
   "id": "09c6b577",
   "metadata": {},
   "source": [
    "# ---------- Testing & Results Analysis ----------"
   ]
  },
  {
   "cell_type": "code",
   "execution_count": 12,
   "id": "d6cb92d2",
   "metadata": {},
   "outputs": [],
   "source": [
    "# calculate metrics\n",
    "def mean_absolute_scaled_error(y_true, y_pred, y_train):\n",
    "    e_t = y_true - y_pred\n",
    "    scale = sklearn.metrics.mean_absolute_error(y_train[1:], y_train[:-1])\n",
    "    return np.mean(np.abs(e_t / scale))\n",
    "\n",
    "def print_metrics(test, pre_test):\n",
    "    \n",
    "    testScore = np.sqrt(mean_squared_error(test,pre_test))\n",
    "    print('RMSE: %.2f (đồng)' % (testScore))\n",
    "    \n",
    "    testScore = sklearn.metrics.mean_absolute_error(test, pre_test)\n",
    "    print('\\nMAE: %.2f (đồng)' % (testScore))\n",
    "                            \n",
    "    testScore = sklearn.metrics.mean_absolute_percentage_error(test, pre_test)\n",
    "    print('\\nMAPE: %.2f' % (testScore))\n",
    "    \n",
    "    testScore = mean_absolute_scaled_error(test, pre_test, test)\n",
    "    print('\\nMASE: %.2f' % (testScore))"
   ]
  },
  {
   "cell_type": "code",
   "execution_count": 13,
   "id": "4e684cbe",
   "metadata": {},
   "outputs": [
    {
     "name": "stdout",
     "output_type": "stream",
     "text": [
      "5/5 [==============================] - 0s 1ms/step\n"
     ]
    }
   ],
   "source": [
    "# make a prediction\n",
    "test_pred = (model.predict(test_X))\n",
    "test_X = test_X.reshape((test_X.shape[0], test_X.shape[2]))"
   ]
  },
  {
   "cell_type": "code",
   "execution_count": 14,
   "id": "c97d77d0",
   "metadata": {},
   "outputs": [],
   "source": [
    "# invert scaling for forecast\n",
    "inv_test_pred = concatenate((test_pred, test_X), axis=1)\n",
    "inv_test_pred = scaler.inverse_transform(inv_test_pred)\n",
    "inv_test_pred = inv_test_pred[:,0]\n",
    "\n",
    "# invert scaling for actual\n",
    "test_y = test_y.reshape((len(test_y), 1))\n",
    "inv_y = concatenate((test_y, test_X), axis=1)\n",
    "inv_y = scaler.inverse_transform(inv_y)\n",
    "inv_y = inv_y[:,0]"
   ]
  },
  {
   "cell_type": "code",
   "execution_count": 15,
   "id": "f9e025ee",
   "metadata": {},
   "outputs": [
    {
     "name": "stdout",
     "output_type": "stream",
     "text": [
      "RMSE: 2642.25 (đồng)\n",
      "\n",
      "MAE: 2076.22 (đồng)\n",
      "\n",
      "MAPE: 0.05\n",
      "\n",
      "MASE: 11.92\n"
     ]
    }
   ],
   "source": [
    "# print results\n",
    "print_metrics(inv_y, inv_test_pred)"
   ]
  },
  {
   "cell_type": "markdown",
   "id": "d41d37ff",
   "metadata": {},
   "source": [
    "# ---------- Predicting ----------"
   ]
  },
  {
   "cell_type": "code",
   "execution_count": 16,
   "id": "ca30fdc7",
   "metadata": {},
   "outputs": [],
   "source": [
    "# take last 30 days in dataset\n",
    "df = data.tail(60)\n",
    "\n",
    "# convert rows to columns\n",
    "df = df.T"
   ]
  },
  {
   "cell_type": "code",
   "execution_count": 17,
   "id": "c6d6a40f",
   "metadata": {},
   "outputs": [
    {
     "data": {
      "text/plain": [
       "array([[43666.5, 43666.5, 43666.5, 43916.5, 44266.5, 44516.5, 44516.5,\n",
       "        44916.5, 44916.5, 44916.5, 45366.5, 45666.5, 46266.5, 46866.5,\n",
       "        47016.5, 47016.5, 47016.5, 46966.5, 47266.5, 47616.5, 47800. ,\n",
       "        47816.5, 47816.5, 47816.5, 47666.5, 47616.5, 47716.5, 47866.5,\n",
       "        47766.5, 47766.5, 47766.5, 47366.5, 46916.5, 46566.5, 46716.5,\n",
       "        46566.5, 46566.5, 46566.5, 46366.5, 46866.5, 47016.5, 47016.5,\n",
       "        47666.5, 47666.5, 47666.5, 48366.5, 48316.5, 47916.5, 47766.5,\n",
       "        48066.5, 48066.5, 48066.5, 48566.5, 48966.5, 49466.5, 49766.5,\n",
       "        49566.5, 49566.5, 49566.5, 49766.5]])"
      ]
     },
     "execution_count": 17,
     "metadata": {},
     "output_type": "execute_result"
    }
   ],
   "source": [
    "# convert\n",
    "data = df.to_numpy()\n",
    "\n",
    "data"
   ]
  },
  {
   "cell_type": "code",
   "execution_count": 18,
   "id": "39ed3ef8",
   "metadata": {},
   "outputs": [],
   "source": [
    "X = data.reshape((data.shape[0], 1, data.shape[1]))"
   ]
  },
  {
   "cell_type": "code",
   "execution_count": 19,
   "id": "8c39d7ac",
   "metadata": {},
   "outputs": [
    {
     "name": "stdout",
     "output_type": "stream",
     "text": [
      "1/1 [==============================] - 0s 18ms/step\n"
     ]
    },
    {
     "data": {
      "text/plain": [
       "array([[0.45820674]], dtype=float32)"
      ]
     },
     "execution_count": 19,
     "metadata": {},
     "output_type": "execute_result"
    }
   ],
   "source": [
    "model.predict(X)"
   ]
  }
 ],
 "metadata": {
  "kernelspec": {
   "display_name": "Python 3 (ipykernel)",
   "language": "python",
   "name": "python3"
  },
  "language_info": {
   "codemirror_mode": {
    "name": "ipython",
    "version": 3
   },
   "file_extension": ".py",
   "mimetype": "text/x-python",
   "name": "python",
   "nbconvert_exporter": "python",
   "pygments_lexer": "ipython3",
   "version": "3.9.13"
  }
 },
 "nbformat": 4,
 "nbformat_minor": 5
}
