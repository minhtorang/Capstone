{
 "cells": [
  {
   "cell_type": "markdown",
   "id": "cda77ca2",
   "metadata": {},
   "source": [
    "# Import Libraries"
   ]
  },
  {
   "cell_type": "code",
   "execution_count": 1,
   "id": "b1615044",
   "metadata": {},
   "outputs": [],
   "source": [
    "import math\n",
    "import sklearn\n",
    "import numpy as np\n",
    "import pandas as pd\n",
    "import seaborn as sns\n",
    "import tensorflow as tf\n",
    "import matplotlib.pyplot as plt\n",
    "\n",
    "from math import sqrt\n",
    "from pandas import concat\n",
    "from datetime import datetime\n",
    "from matplotlib import pyplot\n",
    "from keras.models import Sequential\n",
    "from numpy import concatenate, asarray\n",
    "from keras.layers import Dense, Dropout, LSTM\n",
    "from sklearn.metrics import mean_squared_error\n",
    "from sklearn.preprocessing import MinMaxScaler\n",
    "from sklearn.model_selection import train_test_split"
   ]
  },
  {
   "cell_type": "markdown",
   "id": "c8ca6f24",
   "metadata": {},
   "source": [
    "# ---------- Data Pre-Processing -----------"
   ]
  },
  {
   "cell_type": "code",
   "execution_count": 2,
   "id": "1352f3ed",
   "metadata": {},
   "outputs": [],
   "source": [
    "coffee_data = pd.read_excel('coffee_data.xlsx')\n",
    "fuel_data = pd.read_excel('fuel_data.xlsx')\n",
    "weather_data = pd.read_excel('BuonMaThuot.xlsx')\n",
    "#tomato_data = pd.read_excel('tomato_data.xls')"
   ]
  },
  {
   "cell_type": "markdown",
   "id": "b82e0626",
   "metadata": {},
   "source": [
    "### Filter Coffee data"
   ]
  },
  {
   "cell_type": "code",
   "execution_count": 3,
   "id": "24b349fa",
   "metadata": {},
   "outputs": [
    {
     "data": {
      "text/html": [
       "<div>\n",
       "<style scoped>\n",
       "    .dataframe tbody tr th:only-of-type {\n",
       "        vertical-align: middle;\n",
       "    }\n",
       "\n",
       "    .dataframe tbody tr th {\n",
       "        vertical-align: top;\n",
       "    }\n",
       "\n",
       "    .dataframe thead th {\n",
       "        text-align: right;\n",
       "    }\n",
       "</style>\n",
       "<table border=\"1\" class=\"dataframe\">\n",
       "  <thead>\n",
       "    <tr style=\"text-align: right;\">\n",
       "      <th></th>\n",
       "      <th>Ngày</th>\n",
       "      <th>Giá Cà Phê</th>\n",
       "    </tr>\n",
       "  </thead>\n",
       "  <tbody>\n",
       "    <tr>\n",
       "      <th>0</th>\n",
       "      <td>2021-01-01</td>\n",
       "      <td>31667.5</td>\n",
       "    </tr>\n",
       "    <tr>\n",
       "      <th>1</th>\n",
       "      <td>2021-01-02</td>\n",
       "      <td>31667.5</td>\n",
       "    </tr>\n",
       "    <tr>\n",
       "      <th>2</th>\n",
       "      <td>2021-01-03</td>\n",
       "      <td>31667.5</td>\n",
       "    </tr>\n",
       "    <tr>\n",
       "      <th>3</th>\n",
       "      <td>2021-01-04</td>\n",
       "      <td>32717.0</td>\n",
       "    </tr>\n",
       "    <tr>\n",
       "      <th>4</th>\n",
       "      <td>2021-01-05</td>\n",
       "      <td>32417.0</td>\n",
       "    </tr>\n",
       "  </tbody>\n",
       "</table>\n",
       "</div>"
      ],
      "text/plain": [
       "        Ngày  Giá Cà Phê\n",
       "0 2021-01-01     31667.5\n",
       "1 2021-01-02     31667.5\n",
       "2 2021-01-03     31667.5\n",
       "3 2021-01-04     32717.0\n",
       "4 2021-01-05     32417.0"
      ]
     },
     "execution_count": 3,
     "metadata": {},
     "output_type": "execute_result"
    }
   ],
   "source": [
    "coffee_data['Ngày'] = pd.to_datetime(coffee_data['Ngày'])\n",
    "coffee_data = coffee_data.set_index('Ngày').resample('D').ffill().reset_index()\n",
    "coffee_data.head(5)"
   ]
  },
  {
   "cell_type": "markdown",
   "id": "2b7ae46e",
   "metadata": {},
   "source": [
    "### Filter Diesel data"
   ]
  },
  {
   "cell_type": "code",
   "execution_count": 4,
   "id": "4a8d8687",
   "metadata": {
    "scrolled": true
   },
   "outputs": [
    {
     "data": {
      "text/html": [
       "<div>\n",
       "<style scoped>\n",
       "    .dataframe tbody tr th:only-of-type {\n",
       "        vertical-align: middle;\n",
       "    }\n",
       "\n",
       "    .dataframe tbody tr th {\n",
       "        vertical-align: top;\n",
       "    }\n",
       "\n",
       "    .dataframe thead th {\n",
       "        text-align: right;\n",
       "    }\n",
       "</style>\n",
       "<table border=\"1\" class=\"dataframe\">\n",
       "  <thead>\n",
       "    <tr style=\"text-align: right;\">\n",
       "      <th></th>\n",
       "      <th>Ngày</th>\n",
       "      <th>Giá Diesel 1 lít</th>\n",
       "    </tr>\n",
       "  </thead>\n",
       "  <tbody>\n",
       "    <tr>\n",
       "      <th>118</th>\n",
       "      <td>2019-01-01</td>\n",
       "      <td>14900.0</td>\n",
       "    </tr>\n",
       "    <tr>\n",
       "      <th>117</th>\n",
       "      <td>2019-01-16</td>\n",
       "      <td>14900.0</td>\n",
       "    </tr>\n",
       "    <tr>\n",
       "      <th>116</th>\n",
       "      <td>2019-01-31</td>\n",
       "      <td>14900.0</td>\n",
       "    </tr>\n",
       "    <tr>\n",
       "      <th>115</th>\n",
       "      <td>2019-02-15</td>\n",
       "      <td>14900.0</td>\n",
       "    </tr>\n",
       "    <tr>\n",
       "      <th>114</th>\n",
       "      <td>2019-03-02</td>\n",
       "      <td>15860.0</td>\n",
       "    </tr>\n",
       "  </tbody>\n",
       "</table>\n",
       "</div>"
      ],
      "text/plain": [
       "          Ngày  Giá Diesel 1 lít\n",
       "118 2019-01-01           14900.0\n",
       "117 2019-01-16           14900.0\n",
       "116 2019-01-31           14900.0\n",
       "115 2019-02-15           14900.0\n",
       "114 2019-03-02           15860.0"
      ]
     },
     "execution_count": 4,
     "metadata": {},
     "output_type": "execute_result"
    }
   ],
   "source": [
    "fuel_data[\"Ngày\"] = pd.to_datetime(fuel_data[\"Ngày\"], format=\"%d.%m.%Y\")\n",
    "# reverse the order\n",
    "fuel_data = fuel_data[::-1]\n",
    "fuel_data.head(5)"
   ]
  },
  {
   "cell_type": "markdown",
   "id": "a9cfd5ec",
   "metadata": {},
   "source": [
    "### Filter Weather Data"
   ]
  },
  {
   "cell_type": "code",
   "execution_count": 5,
   "id": "e2447c82",
   "metadata": {},
   "outputs": [
    {
     "data": {
      "text/html": [
       "<div>\n",
       "<style scoped>\n",
       "    .dataframe tbody tr th:only-of-type {\n",
       "        vertical-align: middle;\n",
       "    }\n",
       "\n",
       "    .dataframe tbody tr th {\n",
       "        vertical-align: top;\n",
       "    }\n",
       "\n",
       "    .dataframe thead th {\n",
       "        text-align: right;\n",
       "    }\n",
       "</style>\n",
       "<table border=\"1\" class=\"dataframe\">\n",
       "  <thead>\n",
       "    <tr style=\"text-align: right;\">\n",
       "      <th></th>\n",
       "      <th>time</th>\n",
       "      <th>temperature_2m_mean (°C)</th>\n",
       "      <th>precipitation_sum (mm)</th>\n",
       "    </tr>\n",
       "  </thead>\n",
       "  <tbody>\n",
       "    <tr>\n",
       "      <th>0</th>\n",
       "      <td>2018-01-01</td>\n",
       "      <td>21.183332</td>\n",
       "      <td>0.0</td>\n",
       "    </tr>\n",
       "    <tr>\n",
       "      <th>1</th>\n",
       "      <td>2018-01-02</td>\n",
       "      <td>21.558332</td>\n",
       "      <td>0.0</td>\n",
       "    </tr>\n",
       "    <tr>\n",
       "      <th>2</th>\n",
       "      <td>2018-01-03</td>\n",
       "      <td>22.604166</td>\n",
       "      <td>0.0</td>\n",
       "    </tr>\n",
       "    <tr>\n",
       "      <th>3</th>\n",
       "      <td>2018-01-04</td>\n",
       "      <td>23.062494</td>\n",
       "      <td>3.6</td>\n",
       "    </tr>\n",
       "    <tr>\n",
       "      <th>4</th>\n",
       "      <td>2018-01-05</td>\n",
       "      <td>23.937500</td>\n",
       "      <td>0.3</td>\n",
       "    </tr>\n",
       "  </tbody>\n",
       "</table>\n",
       "</div>"
      ],
      "text/plain": [
       "        time  temperature_2m_mean (°C)  precipitation_sum (mm)\n",
       "0 2018-01-01                 21.183332                     0.0\n",
       "1 2018-01-02                 21.558332                     0.0\n",
       "2 2018-01-03                 22.604166                     0.0\n",
       "3 2018-01-04                 23.062494                     3.6\n",
       "4 2018-01-05                 23.937500                     0.3"
      ]
     },
     "execution_count": 5,
     "metadata": {},
     "output_type": "execute_result"
    }
   ],
   "source": [
    "weather_data[\"time\"] = pd.to_datetime(weather_data[\"time\"], format=\"%d.%m.%Y\")\n",
    "weather_data.head(5)"
   ]
  },
  {
   "cell_type": "code",
   "execution_count": 6,
   "id": "dd632a73",
   "metadata": {},
   "outputs": [],
   "source": [
    "# Total precipitation by each year\n",
    "\n",
    "year2018 = (weather_data['time'] >= '2018-1-1') & (weather_data['time'] <= '2018-12-31')\n",
    "df2 = weather_data.loc[year2018]\n",
    "prec2018 = df2[\"precipitation_sum (mm)\"].sum()\n",
    "\n",
    "year2019 = (weather_data['time'] >= '2019-1-1') & (weather_data['time'] <= '2019-12-31')\n",
    "df2 = weather_data.loc[year2019]\n",
    "prec2019 = df2[\"precipitation_sum (mm)\"].sum()\n",
    "\n",
    "year2020 = (weather_data['time'] >= '2020-1-1') & (weather_data['time'] <= '2020-12-31')\n",
    "df2 = weather_data.loc[year2020]\n",
    "prec2020 = df2[\"precipitation_sum (mm)\"].sum()\n",
    "\n",
    "year2021 = (weather_data['time'] >= '2021-1-1') & (weather_data['time'] <= '2021-12-31')\n",
    "df2 = weather_data.loc[year2021]\n",
    "prec2021 = df2[\"precipitation_sum (mm)\"].sum()\n",
    "\n",
    "year2022 = (weather_data['time'] >= '2022-1-1') & (weather_data['time'] <= '2022-12-31')\n",
    "df2 = weather_data.loc[year2022]\n",
    "prec2022 = df2[\"precipitation_sum (mm)\"].sum()"
   ]
  },
  {
   "cell_type": "markdown",
   "id": "f71238f8",
   "metadata": {},
   "source": [
    "# ---------- Merge Data ----------"
   ]
  },
  {
   "cell_type": "code",
   "execution_count": 8,
   "id": "7e915168",
   "metadata": {},
   "outputs": [],
   "source": [
    "# Merge the dataframes with an outer join\n",
    "merged_df = pd.merge(coffee_data, fuel_data, left_on='Ngày', right_on='Ngày', how=\"outer\")\n",
    "\n",
    "# Fill missing dates from both datasets with each other\n",
    "merged_df.fillna(method='bfill', inplace=True)"
   ]
  },
  {
   "cell_type": "code",
   "execution_count": 9,
   "id": "ea4de2c1",
   "metadata": {},
   "outputs": [],
   "source": [
    "# Create new column\n",
    "merged_df['precipitation'] = \"\""
   ]
  },
  {
   "cell_type": "code",
   "execution_count": 10,
   "id": "20acf051",
   "metadata": {},
   "outputs": [],
   "source": [
    "# Fill in weather value\n",
    "\n",
    "# precipitation\n",
    "merged_df['precipitation'] = np.where(merged_df['Ngày'] >= '2021-1-1', \n",
    "                                      prec2020 + prec2019 + prec2018, merged_df['precipitation'])\n",
    "\n",
    "merged_df['precipitation'] = np.where(merged_df['Ngày'] >= '2022-1-1', \n",
    "                                      prec2021 + prec2020 + prec2019, merged_df['precipitation'])\n",
    "\n",
    "merged_df['precipitation'] = np.where(merged_df['Ngày'] >= '2023-1-1', \n",
    "                                      prec2022 + prec2021 + prec2020, merged_df['precipitation'])"
   ]
  },
  {
   "cell_type": "code",
   "execution_count": 11,
   "id": "fe34e25c",
   "metadata": {
    "scrolled": false
   },
   "outputs": [
    {
     "data": {
      "text/html": [
       "<div>\n",
       "<style scoped>\n",
       "    .dataframe tbody tr th:only-of-type {\n",
       "        vertical-align: middle;\n",
       "    }\n",
       "\n",
       "    .dataframe tbody tr th {\n",
       "        vertical-align: top;\n",
       "    }\n",
       "\n",
       "    .dataframe thead th {\n",
       "        text-align: right;\n",
       "    }\n",
       "</style>\n",
       "<table border=\"1\" class=\"dataframe\">\n",
       "  <thead>\n",
       "    <tr style=\"text-align: right;\">\n",
       "      <th></th>\n",
       "      <th>Ngày</th>\n",
       "      <th>Giá Cà Phê</th>\n",
       "      <th>Giá Diesel 1 lít</th>\n",
       "      <th>precipitation</th>\n",
       "    </tr>\n",
       "  </thead>\n",
       "  <tbody>\n",
       "    <tr>\n",
       "      <th>0</th>\n",
       "      <td>2021-01-01</td>\n",
       "      <td>31667.5</td>\n",
       "      <td>12640.0</td>\n",
       "      <td>3220.499994</td>\n",
       "    </tr>\n",
       "    <tr>\n",
       "      <th>1</th>\n",
       "      <td>2021-01-02</td>\n",
       "      <td>31667.5</td>\n",
       "      <td>12640.0</td>\n",
       "      <td>3220.499994</td>\n",
       "    </tr>\n",
       "    <tr>\n",
       "      <th>2</th>\n",
       "      <td>2021-01-03</td>\n",
       "      <td>31667.5</td>\n",
       "      <td>12640.0</td>\n",
       "      <td>3220.499994</td>\n",
       "    </tr>\n",
       "    <tr>\n",
       "      <th>3</th>\n",
       "      <td>2021-01-04</td>\n",
       "      <td>32717.0</td>\n",
       "      <td>12640.0</td>\n",
       "      <td>3220.499994</td>\n",
       "    </tr>\n",
       "    <tr>\n",
       "      <th>4</th>\n",
       "      <td>2021-01-05</td>\n",
       "      <td>32417.0</td>\n",
       "      <td>12640.0</td>\n",
       "      <td>3220.499994</td>\n",
       "    </tr>\n",
       "    <tr>\n",
       "      <th>...</th>\n",
       "      <td>...</td>\n",
       "      <td>...</td>\n",
       "      <td>...</td>\n",
       "      <td>...</td>\n",
       "    </tr>\n",
       "    <tr>\n",
       "      <th>864</th>\n",
       "      <td>2023-05-15</td>\n",
       "      <td>55566.5</td>\n",
       "      <td>14900.0</td>\n",
       "      <td>3734.200018</td>\n",
       "    </tr>\n",
       "    <tr>\n",
       "      <th>865</th>\n",
       "      <td>2023-05-16</td>\n",
       "      <td>56066.5</td>\n",
       "      <td>14900.0</td>\n",
       "      <td>3734.200018</td>\n",
       "    </tr>\n",
       "    <tr>\n",
       "      <th>866</th>\n",
       "      <td>2023-05-17</td>\n",
       "      <td>56666.5</td>\n",
       "      <td>14900.0</td>\n",
       "      <td>3734.200018</td>\n",
       "    </tr>\n",
       "    <tr>\n",
       "      <th>867</th>\n",
       "      <td>2023-05-18</td>\n",
       "      <td>57000.0</td>\n",
       "      <td>14900.0</td>\n",
       "      <td>3734.200018</td>\n",
       "    </tr>\n",
       "    <tr>\n",
       "      <th>868</th>\n",
       "      <td>2023-05-19</td>\n",
       "      <td>57500.0</td>\n",
       "      <td>14900.0</td>\n",
       "      <td>3734.200018</td>\n",
       "    </tr>\n",
       "  </tbody>\n",
       "</table>\n",
       "<p>869 rows × 4 columns</p>\n",
       "</div>"
      ],
      "text/plain": [
       "          Ngày  Giá Cà Phê  Giá Diesel 1 lít  precipitation\n",
       "0   2021-01-01     31667.5           12640.0    3220.499994\n",
       "1   2021-01-02     31667.5           12640.0    3220.499994\n",
       "2   2021-01-03     31667.5           12640.0    3220.499994\n",
       "3   2021-01-04     32717.0           12640.0    3220.499994\n",
       "4   2021-01-05     32417.0           12640.0    3220.499994\n",
       "..         ...         ...               ...            ...\n",
       "864 2023-05-15     55566.5           14900.0    3734.200018\n",
       "865 2023-05-16     56066.5           14900.0    3734.200018\n",
       "866 2023-05-17     56666.5           14900.0    3734.200018\n",
       "867 2023-05-18     57000.0           14900.0    3734.200018\n",
       "868 2023-05-19     57500.0           14900.0    3734.200018\n",
       "\n",
       "[869 rows x 4 columns]"
      ]
     },
     "execution_count": 11,
     "metadata": {},
     "output_type": "execute_result"
    }
   ],
   "source": [
    "merged_df = merged_df.dropna() # Drop N/A rows\n",
    "data = merged_df\n",
    "\n",
    "# convert to float\n",
    "data['precipitation'] = data['precipitation'].astype(float)\n",
    "\n",
    "# final dataset\n",
    "data"
   ]
  },
  {
   "cell_type": "markdown",
   "id": "c67e27aa",
   "metadata": {},
   "source": [
    "# ---------- Data Visualization ----------"
   ]
  },
  {
   "cell_type": "code",
   "execution_count": 12,
   "id": "650b0c70",
   "metadata": {
    "scrolled": false
   },
   "outputs": [
    {
     "data": {
      "image/png": "[encoded data removed]",
      "text/plain": [
       "<Figure size 1000x500 with 2 Axes>"
      ]
     },
     "metadata": {},
     "output_type": "display_data"
    }
   ],
   "source": [
    "# # Use heatmap to identify correlation between variables\n",
    "f, ax = plt.subplots(figsize = (10, 5))\n",
    "corr = data.corr()\n",
    "ax = sns.heatmap(\n",
    "    corr, vmin = -1, vmax = 1, center = 0, annot = True,\n",
    "    cmap = sns.diverging_palette(20, 220, n = 200),\n",
    "    square = False\n",
    ")\n",
    "ax.set_xticklabels(ax.get_xticklabels(), rotation = 90, horizontalalignment = 'right');"
   ]
  },
  {
   "cell_type": "code",
   "execution_count": 13,
   "id": "44b1072c",
   "metadata": {},
   "outputs": [],
   "source": [
    "# fix random seed for reproducibility\n",
    "tf.random.set_seed(7)"
   ]
  },
  {
   "cell_type": "markdown",
   "id": "b99e8b43",
   "metadata": {},
   "source": [
    "# ----- Normalization -----"
   ]
  },
  {
   "cell_type": "code",
   "execution_count": 14,
   "id": "4fa5fe4a",
   "metadata": {},
   "outputs": [
    {
     "data": {
      "text/html": [
       "<div>\n",
       "<style scoped>\n",
       "    .dataframe tbody tr th:only-of-type {\n",
       "        vertical-align: middle;\n",
       "    }\n",
       "\n",
       "    .dataframe tbody tr th {\n",
       "        vertical-align: top;\n",
       "    }\n",
       "\n",
       "    .dataframe thead th {\n",
       "        text-align: right;\n",
       "    }\n",
       "</style>\n",
       "<table border=\"1\" class=\"dataframe\">\n",
       "  <thead>\n",
       "    <tr style=\"text-align: right;\">\n",
       "      <th></th>\n",
       "      <th>Giá Cà Phê</th>\n",
       "      <th>Giá Diesel 1 lít</th>\n",
       "      <th>precipitation</th>\n",
       "    </tr>\n",
       "  </thead>\n",
       "  <tbody>\n",
       "    <tr>\n",
       "      <th>0</th>\n",
       "      <td>31667.5</td>\n",
       "      <td>12640.0</td>\n",
       "      <td>3220.499994</td>\n",
       "    </tr>\n",
       "    <tr>\n",
       "      <th>1</th>\n",
       "      <td>31667.5</td>\n",
       "      <td>12640.0</td>\n",
       "      <td>3220.499994</td>\n",
       "    </tr>\n",
       "    <tr>\n",
       "      <th>2</th>\n",
       "      <td>31667.5</td>\n",
       "      <td>12640.0</td>\n",
       "      <td>3220.499994</td>\n",
       "    </tr>\n",
       "    <tr>\n",
       "      <th>3</th>\n",
       "      <td>32717.0</td>\n",
       "      <td>12640.0</td>\n",
       "      <td>3220.499994</td>\n",
       "    </tr>\n",
       "    <tr>\n",
       "      <th>4</th>\n",
       "      <td>32417.0</td>\n",
       "      <td>12640.0</td>\n",
       "      <td>3220.499994</td>\n",
       "    </tr>\n",
       "    <tr>\n",
       "      <th>...</th>\n",
       "      <td>...</td>\n",
       "      <td>...</td>\n",
       "      <td>...</td>\n",
       "    </tr>\n",
       "    <tr>\n",
       "      <th>864</th>\n",
       "      <td>55566.5</td>\n",
       "      <td>14900.0</td>\n",
       "      <td>3734.200018</td>\n",
       "    </tr>\n",
       "    <tr>\n",
       "      <th>865</th>\n",
       "      <td>56066.5</td>\n",
       "      <td>14900.0</td>\n",
       "      <td>3734.200018</td>\n",
       "    </tr>\n",
       "    <tr>\n",
       "      <th>866</th>\n",
       "      <td>56666.5</td>\n",
       "      <td>14900.0</td>\n",
       "      <td>3734.200018</td>\n",
       "    </tr>\n",
       "    <tr>\n",
       "      <th>867</th>\n",
       "      <td>57000.0</td>\n",
       "      <td>14900.0</td>\n",
       "      <td>3734.200018</td>\n",
       "    </tr>\n",
       "    <tr>\n",
       "      <th>868</th>\n",
       "      <td>57500.0</td>\n",
       "      <td>14900.0</td>\n",
       "      <td>3734.200018</td>\n",
       "    </tr>\n",
       "  </tbody>\n",
       "</table>\n",
       "<p>869 rows × 3 columns</p>\n",
       "</div>"
      ],
      "text/plain": [
       "     Giá Cà Phê  Giá Diesel 1 lít  precipitation\n",
       "0       31667.5           12640.0    3220.499994\n",
       "1       31667.5           12640.0    3220.499994\n",
       "2       31667.5           12640.0    3220.499994\n",
       "3       32717.0           12640.0    3220.499994\n",
       "4       32417.0           12640.0    3220.499994\n",
       "..          ...               ...            ...\n",
       "864     55566.5           14900.0    3734.200018\n",
       "865     56066.5           14900.0    3734.200018\n",
       "866     56666.5           14900.0    3734.200018\n",
       "867     57000.0           14900.0    3734.200018\n",
       "868     57500.0           14900.0    3734.200018\n",
       "\n",
       "[869 rows x 3 columns]"
      ]
     },
     "execution_count": 14,
     "metadata": {},
     "output_type": "execute_result"
    }
   ],
   "source": [
    "# drop date column\n",
    "data.drop(data.columns[[0]], axis=1, inplace=True)\n",
    "data.dropna()"
   ]
  },
  {
   "cell_type": "code",
   "execution_count": 15,
   "id": "648e2e0e",
   "metadata": {},
   "outputs": [],
   "source": [
    "# convert series to supervised learning\n",
    "def series_to_supervised(data, n_in, n_out, dropnan=True):\n",
    "    n_vars = 1 if type(data) is list else data.shape[1]\n",
    "    df = pd.DataFrame(data)\n",
    "    cols, names = list(), list()\n",
    "    # input sequence (t-n, ... t-1)\n",
    "    for i in range(n_in, 0, -1):\n",
    "        cols.append(df.shift(i))\n",
    "        names += [('var%d(t-%d)' % (j+1, i)) for j in range(n_vars)]\n",
    "    # forecast sequence (t, t+1, ... t+n)\n",
    "    for i in range(0, n_out):\n",
    "        cols.append(df.shift(-i))\n",
    "        if i == 0:\n",
    "            names += [('var%d(t)' % (j+1)) for j in range(n_vars)]\n",
    "        else:\n",
    "            names += [('var%d(t+%d)' % (j+1, i)) for j in range(n_vars)]\n",
    "    # put it all together\n",
    "    agg = concat(cols, axis=1)\n",
    "    agg.columns = names\n",
    "    # drop rows with NaN values\n",
    "    if dropnan:\n",
    "        agg.dropna(inplace=True)\n",
    "    return agg"
   ]
  },
  {
   "cell_type": "code",
   "execution_count": 16,
   "id": "bd5d5677",
   "metadata": {},
   "outputs": [],
   "source": [
    "# set number of days\n",
    "look_back = 7\n",
    "predict_ahead = 1 \n",
    "\n",
    "# frame as supervised learning\n",
    "reframed = series_to_supervised(data.values, look_back, predict_ahead)"
   ]
  },
  {
   "cell_type": "code",
   "execution_count": 17,
   "id": "cc501d3f",
   "metadata": {},
   "outputs": [],
   "source": [
    "# calculate total column to keep\n",
    "data_column = len(data.columns)\n",
    "keep_column = look_back * data_column + 1\n",
    "\n",
    "# drop columns we don't want to predict\n",
    "reframed = reframed.drop(reframed.iloc[:, keep_column::],axis = 1) \n",
    "dataset = reframed"
   ]
  },
  {
   "cell_type": "code",
   "execution_count": 18,
   "id": "37be6458",
   "metadata": {},
   "outputs": [
    {
     "data": {
      "text/plain": [
       "(862, 22)"
      ]
     },
     "execution_count": 18,
     "metadata": {},
     "output_type": "execute_result"
    }
   ],
   "source": [
    "# normalize features\n",
    "scaler = MinMaxScaler()\n",
    "scaled = scaler.fit_transform(reframed)\n",
    "scaled.shape"
   ]
  },
  {
   "cell_type": "markdown",
   "id": "9c1ab74e",
   "metadata": {},
   "source": [
    "# ---------- Split data ----------"
   ]
  },
  {
   "cell_type": "code",
   "execution_count": 19,
   "id": "4f43403b",
   "metadata": {},
   "outputs": [
    {
     "name": "stdout",
     "output_type": "stream",
     "text": [
      "689 173\n"
     ]
    }
   ],
   "source": [
    "dataset = scaled\n",
    "\n",
    "# split into train and test sets\n",
    "train_size = int(len(dataset) * 0.8)\n",
    "test_size = len(dataset) - train_size\n",
    "train, test = dataset[:train_size,:], dataset[train_size:len(dataset),:]\n",
    "\n",
    "print(len(train), len(test))"
   ]
  },
  {
   "cell_type": "code",
   "execution_count": 20,
   "id": "b1bd62ef",
   "metadata": {},
   "outputs": [
    {
     "name": "stdout",
     "output_type": "stream",
     "text": [
      "(689, 1, 21) (689,) (173, 1, 21) (173,)\n"
     ]
    }
   ],
   "source": [
    "# split into input and outputs\n",
    "train_X, train_y = train[:, :-1], train[:, -1]\n",
    "test_X, test_y = test[:, :-1], test[:, -1]\n",
    "\n",
    "# reshape input to be 3D [samples, timesteps, features]\n",
    "train_X = train_X.reshape((train_X.shape[0], 1, train_X.shape[1]))\n",
    "test_X = test_X.reshape((test_X.shape[0], 1, test_X.shape[1]))\n",
    "\n",
    "print(train_X.shape, train_y.shape, test_X.shape, test_y.shape)"
   ]
  },
  {
   "cell_type": "markdown",
   "id": "49b55ac6",
   "metadata": {},
   "source": [
    "# ---------- Train Model ----------"
   ]
  },
  {
   "cell_type": "code",
   "execution_count": 21,
   "id": "61f9827a",
   "metadata": {
    "scrolled": false
   },
   "outputs": [
    {
     "data": {
      "image/png": "[encoded data removed]",
      "text/plain": [
       "<Figure size 640x480 with 1 Axes>"
      ]
     },
     "metadata": {},
     "output_type": "display_data"
    }
   ],
   "source": [
    "# design network\n",
    "model = Sequential()\n",
    "# model.add(LSTM(32, return_sequences=True, input_shape=(train_X.shape[1], train_X.shape[2])))\n",
    "# model.add(Dropout(0.5))\n",
    "model.add(LSTM(16, input_shape=(train_X.shape[1], train_X.shape[2])))\n",
    "model.add(Dropout(0.3))\n",
    "model.add(Dense(1))\n",
    "model.compile(loss='mae', optimizer='adam')\n",
    "\n",
    "# fit network\n",
    "history = model.fit(train_X, train_y, epochs=2000, batch_size=256, \n",
    "                    validation_data=(test_X, test_y), verbose=False, shuffle=False)\n",
    "\n",
    "# Note\n",
    "# Large batch size: increase time, lower accuracy, overfit\n",
    "\n",
    "# plot history\n",
    "pyplot.plot(history.history['loss'], label='train')\n",
    "pyplot.plot(history.history['val_loss'], label='test')\n",
    "pyplot.legend()\n",
    "pyplot.show()"
   ]
  },
  {
   "cell_type": "markdown",
   "id": "09c6b577",
   "metadata": {},
   "source": [
    "# ---------- Results Analysis ----------"
   ]
  },
  {
   "cell_type": "code",
   "execution_count": 22,
   "id": "d6cb92d2",
   "metadata": {},
   "outputs": [],
   "source": [
    "# calculate metrics\n",
    "def mean_absolute_scaled_error(y_true, y_pred, y_train):\n",
    "    e_t = y_true - y_pred\n",
    "    scale = sklearn.metrics.mean_absolute_error(y_train[1:], y_train[:-1])\n",
    "    return np.mean(np.abs(e_t / scale))\n",
    "\n",
    "def print_metrics(test, pre_test):\n",
    "    \n",
    "    print('\\nRMSE')\n",
    "    testScore = np.sqrt(mean_squared_error(test,pre_test))\n",
    "    print('Test Score: %.2f RMSE' % (testScore))\n",
    "    \n",
    "    print('\\nMAE')\n",
    "    testScore = sklearn.metrics.mean_absolute_error(test, pre_test)\n",
    "    print('Test Score: %.2f MAE' % (testScore))\n",
    "    \n",
    "    print('\\nMAPE')                          \n",
    "    testScore = sklearn.metrics.mean_absolute_percentage_error(test, pre_test)\n",
    "    print('Test Score: %.2f MAPE' % (testScore))\n",
    "    \n",
    "    print('\\nMASE')\n",
    "    testScore = mean_absolute_scaled_error(test, pre_test, test)\n",
    "    print('Test Score: %.2f MASE' % (testScore))"
   ]
  },
  {
   "cell_type": "code",
   "execution_count": 23,
   "id": "4e684cbe",
   "metadata": {},
   "outputs": [
    {
     "name": "stdout",
     "output_type": "stream",
     "text": [
      "6/6 [==============================] - 0s 1ms/step\n"
     ]
    }
   ],
   "source": [
    "# make a prediction\n",
    "test_pred = (model.predict(test_X))\n",
    "test_X = test_X.reshape((test_X.shape[0], test_X.shape[2]))"
   ]
  },
  {
   "cell_type": "code",
   "execution_count": 24,
   "id": "c97d77d0",
   "metadata": {},
   "outputs": [],
   "source": [
    "# invert scaling for forecast\n",
    "inv_test_pred = concatenate((test_pred, test_X), axis=1)\n",
    "inv_test_pred = scaler.inverse_transform(inv_test_pred)\n",
    "inv_test_pred = inv_test_pred[:,0]\n",
    "\n",
    "# invert scaling for actual\n",
    "test_y = test_y.reshape((len(test_y), 1))\n",
    "inv_y = concatenate((test_y, test_X), axis=1)\n",
    "inv_y = scaler.inverse_transform(inv_y)\n",
    "inv_y = inv_y[:,0]"
   ]
  },
  {
   "cell_type": "code",
   "execution_count": 25,
   "id": "f9e025ee",
   "metadata": {},
   "outputs": [
    {
     "name": "stdout",
     "output_type": "stream",
     "text": [
      "\n",
      "RMSE\n",
      "Test Score: 297.21 RMSE\n",
      "\n",
      "MAE\n",
      "Test Score: 227.17 MAE\n",
      "\n",
      "MAPE\n",
      "Test Score: 0.01 MAPE\n",
      "\n",
      "MASE\n",
      "Test Score: 1.34 MASE\n"
     ]
    }
   ],
   "source": [
    "# print results\n",
    "print_metrics(inv_y, inv_test_pred)"
   ]
  }
 ],
 "metadata": {
  "kernelspec": {
   "display_name": "Python 3 (ipykernel)",
   "language": "python",
   "name": "python3"
  },
  "language_info": {
   "codemirror_mode": {
    "name": "ipython",
    "version": 3
   },
   "file_extension": ".py",
   "mimetype": "text/x-python",
   "name": "python",
   "nbconvert_exporter": "python",
   "pygments_lexer": "ipython3",
   "version": "3.9.13"
  }
 },
 "nbformat": 4,
 "nbformat_minor": 5
}
