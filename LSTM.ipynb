{
 "cells": [
  {
   "cell_type": "markdown",
   "id": "cda77ca2",
   "metadata": {},
   "source": [
    "# Import Libraries"
   ]
  },
  {
   "cell_type": "code",
   "execution_count": 1,
   "id": "b1615044",
   "metadata": {},
   "outputs": [],
   "source": [
    "#LSTM for regression\n",
    "import numpy as np\n",
    "from numpy import concatenate\n",
    "import matplotlib.pyplot as plt\n",
    "import pandas as pd\n",
    "import math\n",
    "from math import sqrt\n",
    "import tensorflow as tf\n",
    "import sklearn\n",
    "import seaborn as sns\n",
    "from datetime import datetime\n",
    "from keras.models import Sequential\n",
    "from keras.layers import Dense\n",
    "from keras.layers import LSTM\n",
    "from sklearn.preprocessing import MinMaxScaler\n",
    "from sklearn.metrics import mean_squared_error\n",
    "from numpy import asarray\n",
    "from sklearn.ensemble import RandomForestRegressor\n",
    "from pandas import concat\n",
    "from sklearn.model_selection import train_test_split"
   ]
  },
  {
   "cell_type": "markdown",
   "id": "c8ca6f24",
   "metadata": {},
   "source": [
    "# Data Pre-Processing"
   ]
  },
  {
   "cell_type": "code",
   "execution_count": 2,
   "id": "1352f3ed",
   "metadata": {},
   "outputs": [],
   "source": [
    "coffee_data = pd.read_excel('coffee_data.xlsx')\n",
    "fuel_data = pd.read_excel('fuel_data.xlsx')\n",
    "#tomato_data = pd.read_excel('tomato_data.xls')"
   ]
  },
  {
   "cell_type": "code",
   "execution_count": 3,
   "id": "43b30c93",
   "metadata": {},
   "outputs": [
    {
     "data": {
      "text/html": [
       "<div>\n",
       "<style scoped>\n",
       "    .dataframe tbody tr th:only-of-type {\n",
       "        vertical-align: middle;\n",
       "    }\n",
       "\n",
       "    .dataframe tbody tr th {\n",
       "        vertical-align: top;\n",
       "    }\n",
       "\n",
       "    .dataframe thead th {\n",
       "        text-align: right;\n",
       "    }\n",
       "</style>\n",
       "<table border=\"1\" class=\"dataframe\">\n",
       "  <thead>\n",
       "    <tr style=\"text-align: right;\">\n",
       "      <th></th>\n",
       "      <th>Giá nhiên liệu</th>\n",
       "      <th>Xăng RON 95 1 lít</th>\n",
       "      <th>Xăng E5 RON 92 1 lít</th>\n",
       "      <th>Dầu Diesel 1 lít</th>\n",
       "      <th>Dầu Hỏa 1 lít</th>\n",
       "    </tr>\n",
       "  </thead>\n",
       "  <tbody>\n",
       "    <tr>\n",
       "      <th>0</th>\n",
       "      <td>12.06.2023</td>\n",
       "      <td>22.01</td>\n",
       "      <td>20.87</td>\n",
       "      <td>18.02</td>\n",
       "      <td>17.82</td>\n",
       "    </tr>\n",
       "    <tr>\n",
       "      <th>1</th>\n",
       "      <td>01.06.2023</td>\n",
       "      <td>22.01</td>\n",
       "      <td>20.87</td>\n",
       "      <td>17.94</td>\n",
       "      <td>17.77</td>\n",
       "    </tr>\n",
       "    <tr>\n",
       "      <th>2</th>\n",
       "      <td>22.05.2023</td>\n",
       "      <td>21.49</td>\n",
       "      <td>20.48</td>\n",
       "      <td>17.95</td>\n",
       "      <td>17.96</td>\n",
       "    </tr>\n",
       "    <tr>\n",
       "      <th>3</th>\n",
       "      <td>11.05.2023</td>\n",
       "      <td>21.00</td>\n",
       "      <td>20.13</td>\n",
       "      <td>17.65</td>\n",
       "      <td>17.97</td>\n",
       "    </tr>\n",
       "    <tr>\n",
       "      <th>4</th>\n",
       "      <td>04.05.2023</td>\n",
       "      <td>22.32</td>\n",
       "      <td>21.43</td>\n",
       "      <td>18.25</td>\n",
       "      <td>18.52</td>\n",
       "    </tr>\n",
       "    <tr>\n",
       "      <th>...</th>\n",
       "      <td>...</td>\n",
       "      <td>...</td>\n",
       "      <td>...</td>\n",
       "      <td>...</td>\n",
       "      <td>...</td>\n",
       "    </tr>\n",
       "    <tr>\n",
       "      <th>114</th>\n",
       "      <td>02.03.2019</td>\n",
       "      <td>18.54</td>\n",
       "      <td>17.21</td>\n",
       "      <td>15.86</td>\n",
       "      <td>14.88</td>\n",
       "    </tr>\n",
       "    <tr>\n",
       "      <th>115</th>\n",
       "      <td>15.02.2019</td>\n",
       "      <td>17.60</td>\n",
       "      <td>16.27</td>\n",
       "      <td>14.90</td>\n",
       "      <td>14.18</td>\n",
       "    </tr>\n",
       "    <tr>\n",
       "      <th>116</th>\n",
       "      <td>31.01.2019</td>\n",
       "      <td>17.60</td>\n",
       "      <td>16.27</td>\n",
       "      <td>14.90</td>\n",
       "      <td>14.18</td>\n",
       "    </tr>\n",
       "    <tr>\n",
       "      <th>117</th>\n",
       "      <td>16.01.2019</td>\n",
       "      <td>17.60</td>\n",
       "      <td>16.27</td>\n",
       "      <td>14.90</td>\n",
       "      <td>14.18</td>\n",
       "    </tr>\n",
       "    <tr>\n",
       "      <th>118</th>\n",
       "      <td>01.01.2019</td>\n",
       "      <td>17.60</td>\n",
       "      <td>16.27</td>\n",
       "      <td>14.90</td>\n",
       "      <td>14.18</td>\n",
       "    </tr>\n",
       "  </tbody>\n",
       "</table>\n",
       "<p>119 rows × 5 columns</p>\n",
       "</div>"
      ],
      "text/plain": [
       "    Giá nhiên liệu  Xăng RON 95 1 lít  Xăng E5 RON 92 1 lít  Dầu Diesel 1 lít  \\\n",
       "0       12.06.2023              22.01                 20.87             18.02   \n",
       "1       01.06.2023              22.01                 20.87             17.94   \n",
       "2       22.05.2023              21.49                 20.48             17.95   \n",
       "3       11.05.2023              21.00                 20.13             17.65   \n",
       "4       04.05.2023              22.32                 21.43             18.25   \n",
       "..             ...                ...                   ...               ...   \n",
       "114     02.03.2019              18.54                 17.21             15.86   \n",
       "115     15.02.2019              17.60                 16.27             14.90   \n",
       "116     31.01.2019              17.60                 16.27             14.90   \n",
       "117     16.01.2019              17.60                 16.27             14.90   \n",
       "118     01.01.2019              17.60                 16.27             14.90   \n",
       "\n",
       "     Dầu Hỏa 1 lít  \n",
       "0            17.82  \n",
       "1            17.77  \n",
       "2            17.96  \n",
       "3            17.97  \n",
       "4            18.52  \n",
       "..             ...  \n",
       "114          14.88  \n",
       "115          14.18  \n",
       "116          14.18  \n",
       "117          14.18  \n",
       "118          14.18  \n",
       "\n",
       "[119 rows x 5 columns]"
      ]
     },
     "execution_count": 3,
     "metadata": {},
     "output_type": "execute_result"
    }
   ],
   "source": [
    "fuel_data"
   ]
  },
  {
   "cell_type": "markdown",
   "id": "b82e0626",
   "metadata": {},
   "source": [
    "### Filtered Coffee data"
   ]
  },
  {
   "cell_type": "code",
   "execution_count": 4,
   "id": "63076885",
   "metadata": {
    "scrolled": true
   },
   "outputs": [
    {
     "data": {
      "text/html": [
       "<div>\n",
       "<style scoped>\n",
       "    .dataframe tbody tr th:only-of-type {\n",
       "        vertical-align: middle;\n",
       "    }\n",
       "\n",
       "    .dataframe tbody tr th {\n",
       "        vertical-align: top;\n",
       "    }\n",
       "\n",
       "    .dataframe thead th {\n",
       "        text-align: right;\n",
       "    }\n",
       "</style>\n",
       "<table border=\"1\" class=\"dataframe\">\n",
       "  <thead>\n",
       "    <tr style=\"text-align: right;\">\n",
       "      <th></th>\n",
       "      <th>Ngày</th>\n",
       "      <th>Giá Cà Phê</th>\n",
       "    </tr>\n",
       "  </thead>\n",
       "  <tbody>\n",
       "    <tr>\n",
       "      <th>0</th>\n",
       "      <td>2021-01-01</td>\n",
       "      <td>31667.5</td>\n",
       "    </tr>\n",
       "    <tr>\n",
       "      <th>1</th>\n",
       "      <td>2021-01-04</td>\n",
       "      <td>32717.0</td>\n",
       "    </tr>\n",
       "    <tr>\n",
       "      <th>2</th>\n",
       "      <td>2021-01-05</td>\n",
       "      <td>32417.0</td>\n",
       "    </tr>\n",
       "    <tr>\n",
       "      <th>3</th>\n",
       "      <td>2021-01-06</td>\n",
       "      <td>32317.0</td>\n",
       "    </tr>\n",
       "    <tr>\n",
       "      <th>4</th>\n",
       "      <td>2021-01-07</td>\n",
       "      <td>32117.0</td>\n",
       "    </tr>\n",
       "  </tbody>\n",
       "</table>\n",
       "</div>"
      ],
      "text/plain": [
       "        Ngày  Giá Cà Phê\n",
       "0 2021-01-01     31667.5\n",
       "1 2021-01-04     32717.0\n",
       "2 2021-01-05     32417.0\n",
       "3 2021-01-06     32317.0\n",
       "4 2021-01-07     32117.0"
      ]
     },
     "execution_count": 4,
     "metadata": {},
     "output_type": "execute_result"
    }
   ],
   "source": [
    "coffee_data['Ngày'] = pd.to_datetime(coffee_data['Ngày'])\n",
    "coffee_data['Giá Cà Phê'] =  coffee_data['Giá']\n",
    "coffee_data.drop(coffee_data.columns[[0, 1, 2, 3, 5]], axis=1, inplace=True)\n",
    "coffee_data.head(5)"
   ]
  },
  {
   "cell_type": "markdown",
   "id": "acc65b0a",
   "metadata": {},
   "source": [
    "### Filtered Tomato data"
   ]
  },
  {
   "cell_type": "code",
   "execution_count": 5,
   "id": "376948cc",
   "metadata": {
    "scrolled": true
   },
   "outputs": [],
   "source": [
    "# tomato_data['Ngày'] = pd.to_datetime(tomato_data['Ngày tháng'])\n",
    "# tomato_data.drop(tomato_data.columns[[0, 1, 2, 3, 5]], axis=1, inplace=True)\n",
    "# tomato_data.head(5)"
   ]
  },
  {
   "cell_type": "markdown",
   "id": "2b7ae46e",
   "metadata": {},
   "source": [
    "### Filtered Diesel data"
   ]
  },
  {
   "cell_type": "code",
   "execution_count": 6,
   "id": "4a8d8687",
   "metadata": {
    "scrolled": false
   },
   "outputs": [
    {
     "data": {
      "text/html": [
       "<div>\n",
       "<style scoped>\n",
       "    .dataframe tbody tr th:only-of-type {\n",
       "        vertical-align: middle;\n",
       "    }\n",
       "\n",
       "    .dataframe tbody tr th {\n",
       "        vertical-align: top;\n",
       "    }\n",
       "\n",
       "    .dataframe thead th {\n",
       "        text-align: right;\n",
       "    }\n",
       "</style>\n",
       "<table border=\"1\" class=\"dataframe\">\n",
       "  <thead>\n",
       "    <tr style=\"text-align: right;\">\n",
       "      <th></th>\n",
       "      <th>Dầu Diesel 1 lít</th>\n",
       "      <th>Ngày</th>\n",
       "    </tr>\n",
       "  </thead>\n",
       "  <tbody>\n",
       "    <tr>\n",
       "      <th>0</th>\n",
       "      <td>18.02</td>\n",
       "      <td>2023-06-12</td>\n",
       "    </tr>\n",
       "    <tr>\n",
       "      <th>1</th>\n",
       "      <td>17.94</td>\n",
       "      <td>2023-06-01</td>\n",
       "    </tr>\n",
       "    <tr>\n",
       "      <th>2</th>\n",
       "      <td>17.95</td>\n",
       "      <td>2023-05-22</td>\n",
       "    </tr>\n",
       "    <tr>\n",
       "      <th>3</th>\n",
       "      <td>17.65</td>\n",
       "      <td>2023-05-11</td>\n",
       "    </tr>\n",
       "    <tr>\n",
       "      <th>4</th>\n",
       "      <td>18.25</td>\n",
       "      <td>2023-05-04</td>\n",
       "    </tr>\n",
       "  </tbody>\n",
       "</table>\n",
       "</div>"
      ],
      "text/plain": [
       "   Dầu Diesel 1 lít       Ngày\n",
       "0             18.02 2023-06-12\n",
       "1             17.94 2023-06-01\n",
       "2             17.95 2023-05-22\n",
       "3             17.65 2023-05-11\n",
       "4             18.25 2023-05-04"
      ]
     },
     "execution_count": 6,
     "metadata": {},
     "output_type": "execute_result"
    }
   ],
   "source": [
    "fuel_data[\"Ngày\"] = pd.to_datetime(fuel_data[\"Giá nhiên liệu\"], format=\"%d.%m.%Y\")\n",
    "fuel_data.drop(fuel_data.columns[[0,1,2,4]], axis='columns', inplace=True)\n",
    "fuel_data.head(5)"
   ]
  },
  {
   "cell_type": "code",
   "execution_count": 7,
   "id": "2e9fb23c",
   "metadata": {},
   "outputs": [
    {
     "data": {
      "text/html": [
       "<div>\n",
       "<style scoped>\n",
       "    .dataframe tbody tr th:only-of-type {\n",
       "        vertical-align: middle;\n",
       "    }\n",
       "\n",
       "    .dataframe tbody tr th {\n",
       "        vertical-align: top;\n",
       "    }\n",
       "\n",
       "    .dataframe thead th {\n",
       "        text-align: right;\n",
       "    }\n",
       "</style>\n",
       "<table border=\"1\" class=\"dataframe\">\n",
       "  <thead>\n",
       "    <tr style=\"text-align: right;\">\n",
       "      <th></th>\n",
       "      <th>Dầu Diesel 1 lít</th>\n",
       "      <th>Ngày</th>\n",
       "    </tr>\n",
       "  </thead>\n",
       "  <tbody>\n",
       "    <tr>\n",
       "      <th>118</th>\n",
       "      <td>14.90</td>\n",
       "      <td>2019-01-01</td>\n",
       "    </tr>\n",
       "    <tr>\n",
       "      <th>117</th>\n",
       "      <td>14.90</td>\n",
       "      <td>2019-01-16</td>\n",
       "    </tr>\n",
       "    <tr>\n",
       "      <th>116</th>\n",
       "      <td>14.90</td>\n",
       "      <td>2019-01-31</td>\n",
       "    </tr>\n",
       "    <tr>\n",
       "      <th>115</th>\n",
       "      <td>14.90</td>\n",
       "      <td>2019-02-15</td>\n",
       "    </tr>\n",
       "    <tr>\n",
       "      <th>114</th>\n",
       "      <td>15.86</td>\n",
       "      <td>2019-03-02</td>\n",
       "    </tr>\n",
       "    <tr>\n",
       "      <th>...</th>\n",
       "      <td>...</td>\n",
       "      <td>...</td>\n",
       "    </tr>\n",
       "    <tr>\n",
       "      <th>4</th>\n",
       "      <td>18.25</td>\n",
       "      <td>2023-05-04</td>\n",
       "    </tr>\n",
       "    <tr>\n",
       "      <th>3</th>\n",
       "      <td>17.65</td>\n",
       "      <td>2023-05-11</td>\n",
       "    </tr>\n",
       "    <tr>\n",
       "      <th>2</th>\n",
       "      <td>17.95</td>\n",
       "      <td>2023-05-22</td>\n",
       "    </tr>\n",
       "    <tr>\n",
       "      <th>1</th>\n",
       "      <td>17.94</td>\n",
       "      <td>2023-06-01</td>\n",
       "    </tr>\n",
       "    <tr>\n",
       "      <th>0</th>\n",
       "      <td>18.02</td>\n",
       "      <td>2023-06-12</td>\n",
       "    </tr>\n",
       "  </tbody>\n",
       "</table>\n",
       "<p>119 rows × 2 columns</p>\n",
       "</div>"
      ],
      "text/plain": [
       "     Dầu Diesel 1 lít       Ngày\n",
       "118             14.90 2019-01-01\n",
       "117             14.90 2019-01-16\n",
       "116             14.90 2019-01-31\n",
       "115             14.90 2019-02-15\n",
       "114             15.86 2019-03-02\n",
       "..                ...        ...\n",
       "4               18.25 2023-05-04\n",
       "3               17.65 2023-05-11\n",
       "2               17.95 2023-05-22\n",
       "1               17.94 2023-06-01\n",
       "0               18.02 2023-06-12\n",
       "\n",
       "[119 rows x 2 columns]"
      ]
     },
     "execution_count": 7,
     "metadata": {},
     "output_type": "execute_result"
    }
   ],
   "source": [
    "# reverse the order\n",
    "fuel_data = fuel_data[::-1]\n",
    "fuel_data"
   ]
  },
  {
   "cell_type": "markdown",
   "id": "f71238f8",
   "metadata": {},
   "source": [
    "### Merge Data"
   ]
  },
  {
   "cell_type": "code",
   "execution_count": 8,
   "id": "490a3a00",
   "metadata": {},
   "outputs": [],
   "source": [
    "# # # daterng_all = pd.date_range(start=fuel_data['Ngày'].iloc[-1], end=fuel_data['Ngày'].iloc[0], freq=\"1D\")\n",
    "# fuel_data = fuel_data.set_index('Ngày').resample('D').ffill().reset_index()"
   ]
  },
  {
   "cell_type": "code",
   "execution_count": 9,
   "id": "7e915168",
   "metadata": {},
   "outputs": [],
   "source": [
    "# Merge the dataframes with an outer join\n",
    "merged_df = pd.merge(coffee_data, fuel_data, left_on='Ngày', right_on='Ngày', how=\"outer\")\n",
    "\n",
    "# Fill missing dates from both datasets with each other\n",
    "merged_df.fillna(method='bfill', inplace=True)\n",
    "# merged_df['Giá'].fillna(method='ffill', inplace=True)\n",
    "\n",
    "# Drop one of the duplicated date columns\n",
    "# merged_df.drop('Ngày', axis=1, inplace=True)"
   ]
  },
  {
   "cell_type": "code",
   "execution_count": 10,
   "id": "4f1d0f4c",
   "metadata": {},
   "outputs": [],
   "source": [
    "# data = pd.merge(coffee_data, fuel_data, on = 'Ngày', how = \"left\")\n",
    "# data['Dầu Diesel 1 lít'].interpolate(method='nearest')"
   ]
  },
  {
   "cell_type": "code",
   "execution_count": 11,
   "id": "fe34e25c",
   "metadata": {},
   "outputs": [
    {
     "data": {
      "text/html": [
       "<div>\n",
       "<style scoped>\n",
       "    .dataframe tbody tr th:only-of-type {\n",
       "        vertical-align: middle;\n",
       "    }\n",
       "\n",
       "    .dataframe tbody tr th {\n",
       "        vertical-align: top;\n",
       "    }\n",
       "\n",
       "    .dataframe thead th {\n",
       "        text-align: right;\n",
       "    }\n",
       "</style>\n",
       "<table border=\"1\" class=\"dataframe\">\n",
       "  <thead>\n",
       "    <tr style=\"text-align: right;\">\n",
       "      <th></th>\n",
       "      <th>Ngày</th>\n",
       "      <th>Giá Cà Phê</th>\n",
       "      <th>Dầu Diesel 1 lít</th>\n",
       "    </tr>\n",
       "  </thead>\n",
       "  <tbody>\n",
       "    <tr>\n",
       "      <th>0</th>\n",
       "      <td>2021-01-01</td>\n",
       "      <td>31667.5</td>\n",
       "      <td>12.64</td>\n",
       "    </tr>\n",
       "    <tr>\n",
       "      <th>1</th>\n",
       "      <td>2021-01-04</td>\n",
       "      <td>32717.0</td>\n",
       "      <td>12.64</td>\n",
       "    </tr>\n",
       "    <tr>\n",
       "      <th>2</th>\n",
       "      <td>2021-01-05</td>\n",
       "      <td>32417.0</td>\n",
       "      <td>12.64</td>\n",
       "    </tr>\n",
       "    <tr>\n",
       "      <th>3</th>\n",
       "      <td>2021-01-06</td>\n",
       "      <td>32317.0</td>\n",
       "      <td>12.64</td>\n",
       "    </tr>\n",
       "    <tr>\n",
       "      <th>4</th>\n",
       "      <td>2021-01-07</td>\n",
       "      <td>32117.0</td>\n",
       "      <td>12.64</td>\n",
       "    </tr>\n",
       "    <tr>\n",
       "      <th>...</th>\n",
       "      <td>...</td>\n",
       "      <td>...</td>\n",
       "      <td>...</td>\n",
       "    </tr>\n",
       "    <tr>\n",
       "      <th>676</th>\n",
       "      <td>2021-12-25</td>\n",
       "      <td>NaN</td>\n",
       "      <td>17.57</td>\n",
       "    </tr>\n",
       "    <tr>\n",
       "      <th>677</th>\n",
       "      <td>2023-01-01</td>\n",
       "      <td>NaN</td>\n",
       "      <td>22.15</td>\n",
       "    </tr>\n",
       "    <tr>\n",
       "      <th>678</th>\n",
       "      <td>2023-05-22</td>\n",
       "      <td>NaN</td>\n",
       "      <td>17.95</td>\n",
       "    </tr>\n",
       "    <tr>\n",
       "      <th>679</th>\n",
       "      <td>2023-06-01</td>\n",
       "      <td>NaN</td>\n",
       "      <td>17.94</td>\n",
       "    </tr>\n",
       "    <tr>\n",
       "      <th>680</th>\n",
       "      <td>2023-06-12</td>\n",
       "      <td>NaN</td>\n",
       "      <td>18.02</td>\n",
       "    </tr>\n",
       "  </tbody>\n",
       "</table>\n",
       "<p>681 rows × 3 columns</p>\n",
       "</div>"
      ],
      "text/plain": [
       "          Ngày  Giá Cà Phê  Dầu Diesel 1 lít\n",
       "0   2021-01-01     31667.5             12.64\n",
       "1   2021-01-04     32717.0             12.64\n",
       "2   2021-01-05     32417.0             12.64\n",
       "3   2021-01-06     32317.0             12.64\n",
       "4   2021-01-07     32117.0             12.64\n",
       "..         ...         ...               ...\n",
       "676 2021-12-25         NaN             17.57\n",
       "677 2023-01-01         NaN             22.15\n",
       "678 2023-05-22         NaN             17.95\n",
       "679 2023-06-01         NaN             17.94\n",
       "680 2023-06-12         NaN             18.02\n",
       "\n",
       "[681 rows x 3 columns]"
      ]
     },
     "execution_count": 11,
     "metadata": {},
     "output_type": "execute_result"
    }
   ],
   "source": [
    "merged_df"
   ]
  },
  {
   "cell_type": "code",
   "execution_count": 12,
   "id": "6691f7f4",
   "metadata": {},
   "outputs": [
    {
     "data": {
      "text/html": [
       "<div>\n",
       "<style scoped>\n",
       "    .dataframe tbody tr th:only-of-type {\n",
       "        vertical-align: middle;\n",
       "    }\n",
       "\n",
       "    .dataframe tbody tr th {\n",
       "        vertical-align: top;\n",
       "    }\n",
       "\n",
       "    .dataframe thead th {\n",
       "        text-align: right;\n",
       "    }\n",
       "</style>\n",
       "<table border=\"1\" class=\"dataframe\">\n",
       "  <thead>\n",
       "    <tr style=\"text-align: right;\">\n",
       "      <th></th>\n",
       "      <th>Ngày</th>\n",
       "      <th>Giá Cà Phê</th>\n",
       "      <th>Dầu Diesel 1 lít</th>\n",
       "    </tr>\n",
       "  </thead>\n",
       "  <tbody>\n",
       "    <tr>\n",
       "      <th>0</th>\n",
       "      <td>2021-01-01</td>\n",
       "      <td>31667.5</td>\n",
       "      <td>12.64</td>\n",
       "    </tr>\n",
       "    <tr>\n",
       "      <th>1</th>\n",
       "      <td>2021-01-04</td>\n",
       "      <td>32717.0</td>\n",
       "      <td>12.64</td>\n",
       "    </tr>\n",
       "    <tr>\n",
       "      <th>2</th>\n",
       "      <td>2021-01-05</td>\n",
       "      <td>32417.0</td>\n",
       "      <td>12.64</td>\n",
       "    </tr>\n",
       "    <tr>\n",
       "      <th>3</th>\n",
       "      <td>2021-01-06</td>\n",
       "      <td>32317.0</td>\n",
       "      <td>12.64</td>\n",
       "    </tr>\n",
       "    <tr>\n",
       "      <th>4</th>\n",
       "      <td>2021-01-07</td>\n",
       "      <td>32117.0</td>\n",
       "      <td>12.64</td>\n",
       "    </tr>\n",
       "    <tr>\n",
       "      <th>...</th>\n",
       "      <td>...</td>\n",
       "      <td>...</td>\n",
       "      <td>...</td>\n",
       "    </tr>\n",
       "    <tr>\n",
       "      <th>619</th>\n",
       "      <td>2023-05-15</td>\n",
       "      <td>55566.5</td>\n",
       "      <td>14.90</td>\n",
       "    </tr>\n",
       "    <tr>\n",
       "      <th>620</th>\n",
       "      <td>2023-05-16</td>\n",
       "      <td>56066.5</td>\n",
       "      <td>14.90</td>\n",
       "    </tr>\n",
       "    <tr>\n",
       "      <th>621</th>\n",
       "      <td>2023-05-17</td>\n",
       "      <td>56666.5</td>\n",
       "      <td>14.90</td>\n",
       "    </tr>\n",
       "    <tr>\n",
       "      <th>622</th>\n",
       "      <td>2023-05-18</td>\n",
       "      <td>57000.0</td>\n",
       "      <td>14.90</td>\n",
       "    </tr>\n",
       "    <tr>\n",
       "      <th>623</th>\n",
       "      <td>2023-05-19</td>\n",
       "      <td>57500.0</td>\n",
       "      <td>14.90</td>\n",
       "    </tr>\n",
       "  </tbody>\n",
       "</table>\n",
       "<p>624 rows × 3 columns</p>\n",
       "</div>"
      ],
      "text/plain": [
       "          Ngày  Giá Cà Phê  Dầu Diesel 1 lít\n",
       "0   2021-01-01     31667.5             12.64\n",
       "1   2021-01-04     32717.0             12.64\n",
       "2   2021-01-05     32417.0             12.64\n",
       "3   2021-01-06     32317.0             12.64\n",
       "4   2021-01-07     32117.0             12.64\n",
       "..         ...         ...               ...\n",
       "619 2023-05-15     55566.5             14.90\n",
       "620 2023-05-16     56066.5             14.90\n",
       "621 2023-05-17     56666.5             14.90\n",
       "622 2023-05-18     57000.0             14.90\n",
       "623 2023-05-19     57500.0             14.90\n",
       "\n",
       "[624 rows x 3 columns]"
      ]
     },
     "execution_count": 12,
     "metadata": {},
     "output_type": "execute_result"
    }
   ],
   "source": [
    "merged_df.dropna()"
   ]
  },
  {
   "cell_type": "code",
   "execution_count": 13,
   "id": "d3138b7b",
   "metadata": {},
   "outputs": [],
   "source": [
    "#data = pd.merge(merged_df, tomato_data, left_on='Ngày', right_on='Ngày', how = \"outer\")"
   ]
  },
  {
   "cell_type": "code",
   "execution_count": 14,
   "id": "c3e3897c",
   "metadata": {},
   "outputs": [],
   "source": [
    "data = merged_df"
   ]
  },
  {
   "cell_type": "code",
   "execution_count": 15,
   "id": "ce2b2389",
   "metadata": {
    "scrolled": true
   },
   "outputs": [
    {
     "data": {
      "text/plain": [
       "0      12.64\n",
       "1      12.64\n",
       "2      12.64\n",
       "3      12.64\n",
       "4      12.64\n",
       "       ...  \n",
       "676    17.57\n",
       "677    22.15\n",
       "678    17.95\n",
       "679    17.94\n",
       "680    18.02\n",
       "Name: Dầu Diesel 1 lít, Length: 681, dtype: float64"
      ]
     },
     "execution_count": 15,
     "metadata": {},
     "output_type": "execute_result"
    }
   ],
   "source": [
    "#convert to float\n",
    "data['Giá Cà Phê'].astype(float)\n",
    "data['Dầu Diesel 1 lít'].astype(float)"
   ]
  },
  {
   "cell_type": "markdown",
   "id": "c67e27aa",
   "metadata": {},
   "source": [
    "### Observing Data"
   ]
  },
  {
   "cell_type": "code",
   "execution_count": 16,
   "id": "bbaa2dae",
   "metadata": {},
   "outputs": [],
   "source": [
    "# data.plot(x = 'Ngày', y = 'Giá')\n",
    "# plt.show()"
   ]
  },
  {
   "cell_type": "code",
   "execution_count": 17,
   "id": "650b0c70",
   "metadata": {},
   "outputs": [],
   "source": [
    "# # Use heatmap to identify correlation between variables\n",
    "# f, ax = plt.subplots(figsize = (10, 7))\n",
    "# corr = data.corr()\n",
    "# ax = sns.heatmap(\n",
    "#     corr, vmin = -1, vmax = 1, center = 0, annot = True,\n",
    "#     cmap = sns.diverging_palette(20, 220, n = 200),\n",
    "#     square = True\n",
    "# )\n",
    "# ax.set_xticklabels(ax.get_xticklabels(), rotation = 90, horizontalalignment = 'right');"
   ]
  },
  {
   "cell_type": "code",
   "execution_count": 18,
   "id": "44b1072c",
   "metadata": {},
   "outputs": [],
   "source": [
    "# fix random seed for reproducibility\n",
    "tf.random.set_seed(7)"
   ]
  },
  {
   "cell_type": "markdown",
   "id": "b99e8b43",
   "metadata": {},
   "source": [
    "### Normalization"
   ]
  },
  {
   "cell_type": "code",
   "execution_count": 19,
   "id": "4fa5fe4a",
   "metadata": {},
   "outputs": [
    {
     "data": {
      "text/html": [
       "<div>\n",
       "<style scoped>\n",
       "    .dataframe tbody tr th:only-of-type {\n",
       "        vertical-align: middle;\n",
       "    }\n",
       "\n",
       "    .dataframe tbody tr th {\n",
       "        vertical-align: top;\n",
       "    }\n",
       "\n",
       "    .dataframe thead th {\n",
       "        text-align: right;\n",
       "    }\n",
       "</style>\n",
       "<table border=\"1\" class=\"dataframe\">\n",
       "  <thead>\n",
       "    <tr style=\"text-align: right;\">\n",
       "      <th></th>\n",
       "      <th>Giá Cà Phê</th>\n",
       "      <th>Dầu Diesel 1 lít</th>\n",
       "    </tr>\n",
       "  </thead>\n",
       "  <tbody>\n",
       "    <tr>\n",
       "      <th>0</th>\n",
       "      <td>31667.5</td>\n",
       "      <td>12.64</td>\n",
       "    </tr>\n",
       "    <tr>\n",
       "      <th>1</th>\n",
       "      <td>32717.0</td>\n",
       "      <td>12.64</td>\n",
       "    </tr>\n",
       "    <tr>\n",
       "      <th>2</th>\n",
       "      <td>32417.0</td>\n",
       "      <td>12.64</td>\n",
       "    </tr>\n",
       "    <tr>\n",
       "      <th>3</th>\n",
       "      <td>32317.0</td>\n",
       "      <td>12.64</td>\n",
       "    </tr>\n",
       "    <tr>\n",
       "      <th>4</th>\n",
       "      <td>32117.0</td>\n",
       "      <td>12.64</td>\n",
       "    </tr>\n",
       "    <tr>\n",
       "      <th>...</th>\n",
       "      <td>...</td>\n",
       "      <td>...</td>\n",
       "    </tr>\n",
       "    <tr>\n",
       "      <th>619</th>\n",
       "      <td>55566.5</td>\n",
       "      <td>14.90</td>\n",
       "    </tr>\n",
       "    <tr>\n",
       "      <th>620</th>\n",
       "      <td>56066.5</td>\n",
       "      <td>14.90</td>\n",
       "    </tr>\n",
       "    <tr>\n",
       "      <th>621</th>\n",
       "      <td>56666.5</td>\n",
       "      <td>14.90</td>\n",
       "    </tr>\n",
       "    <tr>\n",
       "      <th>622</th>\n",
       "      <td>57000.0</td>\n",
       "      <td>14.90</td>\n",
       "    </tr>\n",
       "    <tr>\n",
       "      <th>623</th>\n",
       "      <td>57500.0</td>\n",
       "      <td>14.90</td>\n",
       "    </tr>\n",
       "  </tbody>\n",
       "</table>\n",
       "<p>624 rows × 2 columns</p>\n",
       "</div>"
      ],
      "text/plain": [
       "     Giá Cà Phê  Dầu Diesel 1 lít\n",
       "0       31667.5             12.64\n",
       "1       32717.0             12.64\n",
       "2       32417.0             12.64\n",
       "3       32317.0             12.64\n",
       "4       32117.0             12.64\n",
       "..          ...               ...\n",
       "619     55566.5             14.90\n",
       "620     56066.5             14.90\n",
       "621     56666.5             14.90\n",
       "622     57000.0             14.90\n",
       "623     57500.0             14.90\n",
       "\n",
       "[624 rows x 2 columns]"
      ]
     },
     "execution_count": 19,
     "metadata": {},
     "output_type": "execute_result"
    }
   ],
   "source": [
    "# drop date column\n",
    "data.drop(data.columns[[0]], axis=1, inplace=True)\n",
    "data.dropna()"
   ]
  },
  {
   "cell_type": "code",
   "execution_count": 20,
   "id": "7f46ceb7",
   "metadata": {},
   "outputs": [],
   "source": [
    "def mean_absolute_scaled_error(y_true, y_pred, y_train):\n",
    "    e_t = y_true - y_pred\n",
    "    scale = sklearn.metrics.mean_absolute_error(y_train[1:], y_train[:-1])\n",
    "    return np.mean(np.abs(e_t / scale))"
   ]
  },
  {
   "cell_type": "code",
   "execution_count": 21,
   "id": "648e2e0e",
   "metadata": {},
   "outputs": [],
   "source": [
    "# convert series to supervised learning\n",
    "def series_to_supervised(data, n_in=1, n_out=1, dropnan=True):\n",
    "    n_vars = 1 if type(data) is list else data.shape[1]\n",
    "    df = pd.DataFrame(data)\n",
    "    cols, names = list(), list()\n",
    "    # input sequence (t-n, ... t-1)\n",
    "    for i in range(n_in, 0, -1):\n",
    "        cols.append(df.shift(i))\n",
    "        names += [('var%d(t-%d)' % (j+1, i)) for j in range(n_vars)]\n",
    "    # forecast sequence (t, t+1, ... t+n)\n",
    "    for i in range(0, n_out):\n",
    "        cols.append(df.shift(-i))\n",
    "        if i == 0:\n",
    "            names += [('var%d(t)' % (j+1)) for j in range(n_vars)]\n",
    "        else:\n",
    "            names += [('var%d(t+%d)' % (j+1, i)) for j in range(n_vars)]\n",
    "    # put it all together\n",
    "    agg = concat(cols, axis=1)\n",
    "    agg.columns = names\n",
    "    # drop rows with NaN values\n",
    "    if dropnan:\n",
    "        agg.dropna(inplace=True)\n",
    "    return agg"
   ]
  },
  {
   "cell_type": "code",
   "execution_count": 22,
   "id": "10d32479",
   "metadata": {},
   "outputs": [
    {
     "data": {
      "text/plain": [
       "array([[3.16675e+04, 1.26400e+01],\n",
       "       [3.27170e+04, 1.26400e+01],\n",
       "       [3.24170e+04, 1.26400e+01],\n",
       "       ...,\n",
       "       [        nan, 1.79500e+01],\n",
       "       [        nan, 1.79400e+01],\n",
       "       [        nan, 1.80200e+01]])"
      ]
     },
     "execution_count": 22,
     "metadata": {},
     "output_type": "execute_result"
    }
   ],
   "source": [
    "# load dataset\n",
    "values = data.values\n",
    "values"
   ]
  },
  {
   "cell_type": "code",
   "execution_count": 23,
   "id": "37be6458",
   "metadata": {},
   "outputs": [],
   "source": [
    "# normalize features\n",
    "scaler = MinMaxScaler(feature_range=(0, 1))\n",
    "scaled = scaler.fit_transform(values)"
   ]
  },
  {
   "cell_type": "code",
   "execution_count": 24,
   "id": "bd5d5677",
   "metadata": {},
   "outputs": [
    {
     "data": {
      "text/html": [
       "<div>\n",
       "<style scoped>\n",
       "    .dataframe tbody tr th:only-of-type {\n",
       "        vertical-align: middle;\n",
       "    }\n",
       "\n",
       "    .dataframe tbody tr th {\n",
       "        vertical-align: top;\n",
       "    }\n",
       "\n",
       "    .dataframe thead th {\n",
       "        text-align: right;\n",
       "    }\n",
       "</style>\n",
       "<table border=\"1\" class=\"dataframe\">\n",
       "  <thead>\n",
       "    <tr style=\"text-align: right;\">\n",
       "      <th></th>\n",
       "      <th>var1(t-1)</th>\n",
       "      <th>var2(t-1)</th>\n",
       "      <th>var1(t)</th>\n",
       "      <th>var2(t)</th>\n",
       "    </tr>\n",
       "  </thead>\n",
       "  <tbody>\n",
       "    <tr>\n",
       "      <th>1</th>\n",
       "      <td>0.022718</td>\n",
       "      <td>0.138393</td>\n",
       "      <td>0.062422</td>\n",
       "      <td>0.138393</td>\n",
       "    </tr>\n",
       "    <tr>\n",
       "      <th>2</th>\n",
       "      <td>0.062422</td>\n",
       "      <td>0.138393</td>\n",
       "      <td>0.051073</td>\n",
       "      <td>0.138393</td>\n",
       "    </tr>\n",
       "    <tr>\n",
       "      <th>3</th>\n",
       "      <td>0.051073</td>\n",
       "      <td>0.138393</td>\n",
       "      <td>0.047289</td>\n",
       "      <td>0.138393</td>\n",
       "    </tr>\n",
       "    <tr>\n",
       "      <th>4</th>\n",
       "      <td>0.047289</td>\n",
       "      <td>0.138393</td>\n",
       "      <td>0.039723</td>\n",
       "      <td>0.138393</td>\n",
       "    </tr>\n",
       "    <tr>\n",
       "      <th>5</th>\n",
       "      <td>0.039723</td>\n",
       "      <td>0.138393</td>\n",
       "      <td>0.028374</td>\n",
       "      <td>0.138393</td>\n",
       "    </tr>\n",
       "    <tr>\n",
       "      <th>...</th>\n",
       "      <td>...</td>\n",
       "      <td>...</td>\n",
       "      <td>...</td>\n",
       "      <td>...</td>\n",
       "    </tr>\n",
       "    <tr>\n",
       "      <th>619</th>\n",
       "      <td>0.868214</td>\n",
       "      <td>0.250496</td>\n",
       "      <td>0.926853</td>\n",
       "      <td>0.250496</td>\n",
       "    </tr>\n",
       "    <tr>\n",
       "      <th>620</th>\n",
       "      <td>0.926853</td>\n",
       "      <td>0.250496</td>\n",
       "      <td>0.945769</td>\n",
       "      <td>0.250496</td>\n",
       "    </tr>\n",
       "    <tr>\n",
       "      <th>621</th>\n",
       "      <td>0.945769</td>\n",
       "      <td>0.250496</td>\n",
       "      <td>0.968467</td>\n",
       "      <td>0.250496</td>\n",
       "    </tr>\n",
       "    <tr>\n",
       "      <th>622</th>\n",
       "      <td>0.968467</td>\n",
       "      <td>0.250496</td>\n",
       "      <td>0.981084</td>\n",
       "      <td>0.250496</td>\n",
       "    </tr>\n",
       "    <tr>\n",
       "      <th>623</th>\n",
       "      <td>0.981084</td>\n",
       "      <td>0.250496</td>\n",
       "      <td>1.000000</td>\n",
       "      <td>0.250496</td>\n",
       "    </tr>\n",
       "  </tbody>\n",
       "</table>\n",
       "<p>623 rows × 4 columns</p>\n",
       "</div>"
      ],
      "text/plain": [
       "     var1(t-1)  var2(t-1)   var1(t)   var2(t)\n",
       "1     0.022718   0.138393  0.062422  0.138393\n",
       "2     0.062422   0.138393  0.051073  0.138393\n",
       "3     0.051073   0.138393  0.047289  0.138393\n",
       "4     0.047289   0.138393  0.039723  0.138393\n",
       "5     0.039723   0.138393  0.028374  0.138393\n",
       "..         ...        ...       ...       ...\n",
       "619   0.868214   0.250496  0.926853  0.250496\n",
       "620   0.926853   0.250496  0.945769  0.250496\n",
       "621   0.945769   0.250496  0.968467  0.250496\n",
       "622   0.968467   0.250496  0.981084  0.250496\n",
       "623   0.981084   0.250496  1.000000  0.250496\n",
       "\n",
       "[623 rows x 4 columns]"
      ]
     },
     "execution_count": 24,
     "metadata": {},
     "output_type": "execute_result"
    }
   ],
   "source": [
    "# frame as supervised learning\n",
    "reframed = series_to_supervised(scaled, 1, 1)\n",
    "reframed"
   ]
  },
  {
   "cell_type": "code",
   "execution_count": 25,
   "id": "cc501d3f",
   "metadata": {},
   "outputs": [
    {
     "name": "stdout",
     "output_type": "stream",
     "text": [
      "   var1(t-1)  var2(t-1)   var1(t)\n",
      "1   0.022718   0.138393  0.062422\n",
      "2   0.062422   0.138393  0.051073\n",
      "3   0.051073   0.138393  0.047289\n",
      "4   0.047289   0.138393  0.039723\n",
      "5   0.039723   0.138393  0.028374\n"
     ]
    }
   ],
   "source": [
    "# drop columns we don't want to predict\n",
    "reframed.drop(reframed.columns[[-1]], axis=1, inplace=True)\n",
    "dataset = reframed\n",
    "print(dataset.head())"
   ]
  },
  {
   "cell_type": "markdown",
   "id": "9c1ab74e",
   "metadata": {},
   "source": [
    "### Split data"
   ]
  },
  {
   "cell_type": "code",
   "execution_count": 26,
   "id": "4f43403b",
   "metadata": {},
   "outputs": [
    {
     "name": "stdout",
     "output_type": "stream",
     "text": [
      "498 125\n"
     ]
    }
   ],
   "source": [
    "dataset = reframed.values\n",
    "\n",
    "# split into train and test sets\n",
    "train_size = int(len(dataset) * 0.8)\n",
    "test_size = len(dataset) - train_size\n",
    "train, test = dataset[:train_size,:], dataset[train_size:len(dataset),:]\n",
    "\n",
    "print(len(train), len(test))"
   ]
  },
  {
   "cell_type": "code",
   "execution_count": 27,
   "id": "b1bd62ef",
   "metadata": {},
   "outputs": [
    {
     "name": "stdout",
     "output_type": "stream",
     "text": [
      "(498, 1, 2) (498,) (125, 1, 2) (125,)\n"
     ]
    }
   ],
   "source": [
    "# split into input and outputs\n",
    "train_X, train_y = train[:, :-1], train[:, -1]\n",
    "test_X, test_y = test[:, :-1], test[:, -1]\n",
    "\n",
    "# reshape input to be 3D [samples, timesteps, features]\n",
    "train_X = train_X.reshape((train_X.shape[0], 1, train_X.shape[1]))\n",
    "test_X = test_X.reshape((test_X.shape[0], 1, test_X.shape[1]))\n",
    "print(train_X.shape, train_y.shape, test_X.shape, test_y.shape)"
   ]
  },
  {
   "cell_type": "markdown",
   "id": "49b55ac6",
   "metadata": {},
   "source": [
    "### Train"
   ]
  },
  {
   "cell_type": "code",
   "execution_count": 28,
   "id": "61f9827a",
   "metadata": {
    "scrolled": false
   },
   "outputs": [
    {
     "name": "stdout",
     "output_type": "stream",
     "text": [
      "Epoch 1/40\n",
      "16/16 - 1s - loss: 0.2947 - val_loss: 0.5085 - 1s/epoch - 69ms/step\n",
      "Epoch 2/40\n",
      "16/16 - 0s - loss: 0.2407 - val_loss: 0.4384 - 30ms/epoch - 2ms/step\n",
      "Epoch 3/40\n",
      "16/16 - 0s - loss: 0.1977 - val_loss: 0.3692 - 43ms/epoch - 3ms/step\n",
      "Epoch 4/40\n",
      "16/16 - 0s - loss: 0.1579 - val_loss: 0.2978 - 29ms/epoch - 2ms/step\n",
      "Epoch 5/40\n",
      "16/16 - 0s - loss: 0.1206 - val_loss: 0.2231 - 29ms/epoch - 2ms/step\n",
      "Epoch 6/40\n",
      "16/16 - 0s - loss: 0.0932 - val_loss: 0.1779 - 29ms/epoch - 2ms/step\n",
      "Epoch 7/40\n",
      "16/16 - 0s - loss: 0.0885 - val_loss: 0.1772 - 31ms/epoch - 2ms/step\n",
      "Epoch 8/40\n",
      "16/16 - 0s - loss: 0.0850 - val_loss: 0.1782 - 36ms/epoch - 2ms/step\n",
      "Epoch 9/40\n",
      "16/16 - 0s - loss: 0.0822 - val_loss: 0.1703 - 29ms/epoch - 2ms/step\n",
      "Epoch 10/40\n",
      "16/16 - 0s - loss: 0.0792 - val_loss: 0.1670 - 28ms/epoch - 2ms/step\n",
      "Epoch 11/40\n",
      "16/16 - 0s - loss: 0.0761 - val_loss: 0.1610 - 28ms/epoch - 2ms/step\n",
      "Epoch 12/40\n",
      "16/16 - 0s - loss: 0.0727 - val_loss: 0.1537 - 29ms/epoch - 2ms/step\n",
      "Epoch 13/40\n",
      "16/16 - 0s - loss: 0.0693 - val_loss: 0.1455 - 33ms/epoch - 2ms/step\n",
      "Epoch 14/40\n",
      "16/16 - 0s - loss: 0.0656 - val_loss: 0.1401 - 28ms/epoch - 2ms/step\n",
      "Epoch 15/40\n",
      "16/16 - 0s - loss: 0.0616 - val_loss: 0.1295 - 27ms/epoch - 2ms/step\n",
      "Epoch 16/40\n",
      "16/16 - 0s - loss: 0.0572 - val_loss: 0.1217 - 28ms/epoch - 2ms/step\n",
      "Epoch 17/40\n",
      "16/16 - 0s - loss: 0.0528 - val_loss: 0.1117 - 30ms/epoch - 2ms/step\n",
      "Epoch 18/40\n",
      "16/16 - 0s - loss: 0.0481 - val_loss: 0.0972 - 37ms/epoch - 2ms/step\n",
      "Epoch 19/40\n",
      "16/16 - 0s - loss: 0.0435 - val_loss: 0.0882 - 30ms/epoch - 2ms/step\n",
      "Epoch 20/40\n",
      "16/16 - 0s - loss: 0.0378 - val_loss: 0.0751 - 46ms/epoch - 3ms/step\n",
      "Epoch 21/40\n",
      "16/16 - 0s - loss: 0.0327 - val_loss: 0.0609 - 41ms/epoch - 3ms/step\n",
      "Epoch 22/40\n",
      "16/16 - 0s - loss: 0.0268 - val_loss: 0.0510 - 29ms/epoch - 2ms/step\n",
      "Epoch 23/40\n",
      "16/16 - 0s - loss: 0.0221 - val_loss: 0.0347 - 29ms/epoch - 2ms/step\n",
      "Epoch 24/40\n",
      "16/16 - 0s - loss: 0.0191 - val_loss: 0.0288 - 27ms/epoch - 2ms/step\n",
      "Epoch 25/40\n",
      "16/16 - 0s - loss: 0.0173 - val_loss: 0.0270 - 27ms/epoch - 2ms/step\n",
      "Epoch 26/40\n",
      "16/16 - 0s - loss: 0.0167 - val_loss: 0.0184 - 28ms/epoch - 2ms/step\n",
      "Epoch 27/40\n",
      "16/16 - 0s - loss: 0.0158 - val_loss: 0.0129 - 27ms/epoch - 2ms/step\n",
      "Epoch 28/40\n",
      "16/16 - 0s - loss: 0.0158 - val_loss: 0.0124 - 27ms/epoch - 2ms/step\n",
      "Epoch 29/40\n",
      "16/16 - 0s - loss: 0.0155 - val_loss: 0.0106 - 28ms/epoch - 2ms/step\n",
      "Epoch 30/40\n",
      "16/16 - 0s - loss: 0.0153 - val_loss: 0.0140 - 27ms/epoch - 2ms/step\n",
      "Epoch 31/40\n",
      "16/16 - 0s - loss: 0.0150 - val_loss: 0.0119 - 28ms/epoch - 2ms/step\n",
      "Epoch 32/40\n",
      "16/16 - 0s - loss: 0.0150 - val_loss: 0.0117 - 29ms/epoch - 2ms/step\n",
      "Epoch 33/40\n",
      "16/16 - 0s - loss: 0.0148 - val_loss: 0.0132 - 28ms/epoch - 2ms/step\n",
      "Epoch 34/40\n",
      "16/16 - 0s - loss: 0.0149 - val_loss: 0.0121 - 28ms/epoch - 2ms/step\n",
      "Epoch 35/40\n",
      "16/16 - 0s - loss: 0.0148 - val_loss: 0.0121 - 27ms/epoch - 2ms/step\n",
      "Epoch 36/40\n",
      "16/16 - 0s - loss: 0.0149 - val_loss: 0.0121 - 27ms/epoch - 2ms/step\n",
      "Epoch 37/40\n",
      "16/16 - 0s - loss: 0.0148 - val_loss: 0.0122 - 28ms/epoch - 2ms/step\n",
      "Epoch 38/40\n",
      "16/16 - 0s - loss: 0.0144 - val_loss: 0.0123 - 28ms/epoch - 2ms/step\n",
      "Epoch 39/40\n",
      "16/16 - 0s - loss: 0.0144 - val_loss: 0.0132 - 26ms/epoch - 2ms/step\n",
      "Epoch 40/40\n",
      "16/16 - 0s - loss: 0.0143 - val_loss: 0.0129 - 26ms/epoch - 2ms/step\n"
     ]
    },
    {
     "data": {
      "image/png": "[encoded data removed]",
      "text/plain": [
       "<Figure size 640x480 with 1 Axes>"
      ]
     },
     "metadata": {},
     "output_type": "display_data"
    }
   ],
   "source": [
    "from matplotlib import pyplot\n",
    "\n",
    "# design network\n",
    "model = Sequential()\n",
    "model.add(LSTM(15, input_shape=(train_X.shape[1], train_X.shape[2])))\n",
    "model.add(Dense(1))\n",
    "model.compile(loss='mae', optimizer='adam')\n",
    "\n",
    "# fit network\n",
    "history = model.fit(train_X, train_y, epochs=40, batch_size=32, \n",
    "                    validation_data=(test_X, test_y), verbose=2, shuffle=True)\n",
    "\n",
    "# plot history\n",
    "pyplot.plot(history.history['loss'], label='train')\n",
    "pyplot.plot(history.history['val_loss'], label='test')\n",
    "pyplot.legend()\n",
    "pyplot.show()"
   ]
  },
  {
   "cell_type": "markdown",
   "id": "09c6b577",
   "metadata": {},
   "source": [
    "### Predict"
   ]
  },
  {
   "cell_type": "code",
   "execution_count": 29,
   "id": "d6cb92d2",
   "metadata": {},
   "outputs": [],
   "source": [
    "# calculate metrics\n",
    "def print_metrics(test, pre_test):\n",
    "    \n",
    "    print('\\nRMSE')\n",
    "    testScore = np.sqrt(mean_squared_error(test,pre_test))\n",
    "    print('Test Score: %.2f RMSE' % (testScore))\n",
    "    \n",
    "    print('\\nMAE')\n",
    "    testScore = sklearn.metrics.mean_absolute_error(test, pre_test)\n",
    "    print('Test Score: %.2f MAE' % (testScore))\n",
    "    \n",
    "    print('\\nMAPE')                          \n",
    "    testScore = sklearn.metrics.mean_absolute_percentage_error(test, pre_test)\n",
    "    print('Test Score: %.2f MAPE' % (testScore))\n",
    "    \n",
    "    print('\\nMASE')\n",
    "    testScore = mean_absolute_scaled_error(test, pre_test, test)\n",
    "    print('Test Score: %.2f MASE' % (testScore))"
   ]
  },
  {
   "cell_type": "code",
   "execution_count": 30,
   "id": "4e684cbe",
   "metadata": {},
   "outputs": [
    {
     "name": "stdout",
     "output_type": "stream",
     "text": [
      "4/4 [==============================] - 0s 1ms/step\n"
     ]
    }
   ],
   "source": [
    "# make a prediction\n",
    "test_pred = model.predict(test_X)\n",
    "test_X = test_X.reshape((test_X.shape[0], test_X.shape[2]))"
   ]
  },
  {
   "cell_type": "code",
   "execution_count": 31,
   "id": "c97d77d0",
   "metadata": {},
   "outputs": [],
   "source": [
    "# invert scaling for forecast\n",
    "inv_test_pred = concatenate((test_pred, test_X[:, 1:]), axis=1)\n",
    "inv_test_pred = scaler.inverse_transform(inv_test_pred)\n",
    "inv_test_pred = inv_test_pred[:,0]\n",
    "\n",
    "# invert scaling for actual\n",
    "test_y = test_y.reshape((len(test_y), 1))\n",
    "inv_y = concatenate((test_y, test_X[:, 1:]), axis=1)\n",
    "inv_y = scaler.inverse_transform(inv_y)\n",
    "inv_y = inv_y[:,0]"
   ]
  },
  {
   "cell_type": "code",
   "execution_count": 32,
   "id": "f9e025ee",
   "metadata": {},
   "outputs": [
    {
     "name": "stdout",
     "output_type": "stream",
     "text": [
      "\n",
      "RMSE\n",
      "Test Score: 462.66 RMSE\n",
      "\n",
      "MAE\n",
      "Test Score: 340.92 MAE\n",
      "\n",
      "MAPE\n",
      "Test Score: 0.01 MAPE\n",
      "\n",
      "MASE\n",
      "Test Score: 1.26 MASE\n"
     ]
    }
   ],
   "source": [
    "# print results\n",
    "print_metrics(inv_y, inv_test_pred)"
   ]
  },
  {
   "cell_type": "markdown",
   "id": "e3ebec94",
   "metadata": {},
   "source": [
    "# --------------------------------------------------------------------------------------------------------"
   ]
  },
  {
   "cell_type": "markdown",
   "id": "762e6eb5",
   "metadata": {},
   "source": [
    "# LSTM"
   ]
  },
  {
   "cell_type": "code",
   "execution_count": 33,
   "id": "1d9571dc",
   "metadata": {},
   "outputs": [],
   "source": [
    "# # convert an array of values into a dataset matrix\n",
    "# def create_dataset(dataset, look_back=1):\n",
    "#     dataX, dataY = [], []\n",
    "#     for i in range(len(dataset)-look_back-1):\n",
    "#         a = dataset[i:(i+look_back), 0]\n",
    "#         dataX.append(a)\n",
    "#         dataY.append(dataset[i + look_back, 0])\n",
    "#     return np.array(dataX), np.array(dataY)"
   ]
  },
  {
   "cell_type": "code",
   "execution_count": 34,
   "id": "8657f646",
   "metadata": {},
   "outputs": [],
   "source": [
    "# # reshape into X=t and Y=t+1\n",
    "# look_back = 1\n",
    "# trainX, trainY = create_dataset(train, look_back)\n",
    "# testX, testY = create_dataset(test, look_back)"
   ]
  },
  {
   "cell_type": "code",
   "execution_count": 35,
   "id": "321b33ff",
   "metadata": {},
   "outputs": [],
   "source": [
    "# # reshape input to be [samples, time steps, features]\n",
    "# trainX = np.reshape(trainX, (trainX.shape[0], 1, trainX.shape[1]))\n",
    "# testX = np.reshape(testX, (testX.shape[0], 1, testX.shape[1]))"
   ]
  },
  {
   "cell_type": "code",
   "execution_count": 36,
   "id": "dee923e8",
   "metadata": {},
   "outputs": [],
   "source": [
    "# print(trainX.shape)\n",
    "# print(trainY.shape)\n",
    "# print(testX.shape)\n",
    "# print(testY.shape)"
   ]
  },
  {
   "cell_type": "code",
   "execution_count": 37,
   "id": "932f7d83",
   "metadata": {},
   "outputs": [],
   "source": [
    "# # create and fit the LSTM network\n",
    "# model = Sequential()\n",
    "# model.add(LSTM(4, input_shape=(1, look_back)))\n",
    "# model.add(Dense(1))\n",
    "# model.compile(loss='mean_squared_error', optimizer='adam')\n",
    "# model.fit(trainX, trainY, epochs=100, batch_size=1, verbose=2)"
   ]
  },
  {
   "cell_type": "code",
   "execution_count": 38,
   "id": "a2b3c0c3",
   "metadata": {},
   "outputs": [],
   "source": [
    "# # make predictions\n",
    "# trainPredict = model.predict(trainX)\n",
    "# testPredict = model.predict(testX)\n",
    "# # invert predictions\n",
    "# trainPredict = scaler.inverse_transform(trainPredict)  \n",
    "# trainY = scaler.inverse_transform([trainY])\n",
    "# testPredict = scaler.inverse_transform(testPredict)\n",
    "# testY = scaler.inverse_transform([testY])"
   ]
  },
  {
   "cell_type": "code",
   "execution_count": 39,
   "id": "6171c425",
   "metadata": {},
   "outputs": [],
   "source": [
    "# trainPredictPlot = np.empty_like(dataset)\n",
    "# trainPredictPlot[:, :] = np.nan\n",
    "# trainPredictPlot[look_back:len(trainPredict)+look_back, :] = trainPredict\n",
    "# # shift test predictions for plotting\n",
    "# testPredictPlot = np.empty_like(dataset)\n",
    "# testPredictPlot[:, :] = np.nan\n",
    "# testPredictPlot[len(trainPredict)+(look_back*2)+1:len(dataset)-1, :] = testPredict\n",
    "# # plot baseline and predictions\n",
    "# plt.plot(scaler.inverse_transform(dataset))\n",
    "# plt.plot(trainPredictPlot)\n",
    "# plt.plot(testPredictPlot)\n",
    "# plt.show()"
   ]
  }
 ],
 "metadata": {
  "kernelspec": {
   "display_name": "Python 3 (ipykernel)",
   "language": "python",
   "name": "python3"
  },
  "language_info": {
   "codemirror_mode": {
    "name": "ipython",
    "version": 3
   },
   "file_extension": ".py",
   "mimetype": "text/x-python",
   "name": "python",
   "nbconvert_exporter": "python",
   "pygments_lexer": "ipython3",
   "version": "3.9.13"
  }
 },
 "nbformat": 4,
 "nbformat_minor": 5
}
